{
  "nbformat": 4,
  "nbformat_minor": 0,
  "metadata": {
    "colab": {
      "provenance": [],
      "authorship_tag": "ABX9TyO20Q6I0Ajld5S1Yjt4lma2",
      "include_colab_link": true
    },
    "kernelspec": {
      "name": "python3",
      "display_name": "Python 3"
    },
    "language_info": {
      "name": "python"
    }
  },
  "cells": [
    {
      "cell_type": "markdown",
      "metadata": {
        "id": "view-in-github",
        "colab_type": "text"
      },
      "source": [
        "<a href=\"https://colab.research.google.com/github/SudhanAnnamalai/projects_to_handle/blob/master/A_B_Testing.ipynb\" target=\"_parent\"><img src=\"https://colab.research.google.com/assets/colab-badge.svg\" alt=\"Open In Colab\"/></a>"
      ]
    },
    {
      "cell_type": "markdown",
      "source": [
        "**Referenced From ** https://thecleverprogrammer.com/2022/11/14/a-b-testing-using-python/\n",
        "\n"
      ],
      "metadata": {
        "id": "M3L9z5bxZS4m"
      }
    },
    {
      "cell_type": "code",
      "source": [
        "import pandas as pd\n",
        "from datetime import date, timedelta #I don't know why I am importing this [Learning Scope]\n",
        "import datetime # To manipulate Date time formats\n",
        "import plotly.graph_objects as go # No idea bro; need to learn [Learning Scope]\n",
        "import plotly.express as px # what this px function does? [Learning Scope]\n",
        "import plotly.io as pio # I think it could give me an option to explore I/O functions [Learning Scope]\n",
        "pio.templates.default = 'plotly_white' #[I did observational error, I should focus more on details]"
      ],
      "metadata": {
        "id": "E0PGsuaFZZ_Y"
      },
      "execution_count": 8,
      "outputs": []
    },
    {
      "cell_type": "code",
      "source": [
        "# Downloading the Necessary files with wget \n",
        "!wget https://statso.io/wp-content/uploads/2022/11/archive.zip"
      ],
      "metadata": {
        "colab": {
          "base_uri": "https://localhost:8080/"
        },
        "id": "Ac7yNWNFbA3q",
        "outputId": "cb29e76c-3d6e-43c9-8468-be5a3e06eed0"
      },
      "execution_count": 2,
      "outputs": [
        {
          "output_type": "stream",
          "name": "stdout",
          "text": [
            "--2022-12-30 00:26:53--  https://statso.io/wp-content/uploads/2022/11/archive.zip\n",
            "Resolving statso.io (statso.io)... 192.0.78.25, 192.0.78.24\n",
            "Connecting to statso.io (statso.io)|192.0.78.25|:443... connected.\n",
            "HTTP request sent, awaiting response... 200 OK\n",
            "Length: 2116 (2.1K) [application/zip]\n",
            "Saving to: ‘archive.zip’\n",
            "\n",
            "archive.zip         100%[===================>]   2.07K  --.-KB/s    in 0s      \n",
            "\n",
            "2022-12-30 00:26:53 (43.6 MB/s) - ‘archive.zip’ saved [2116/2116]\n",
            "\n"
          ]
        }
      ]
    },
    {
      "cell_type": "code",
      "source": [
        "#unzip function might work! for the above file\n",
        "!unzip archive.zip"
      ],
      "metadata": {
        "colab": {
          "base_uri": "https://localhost:8080/"
        },
        "id": "MOZho-TebKmV",
        "outputId": "8502e116-0727-4c3a-b6fd-dfdc2479a244"
      },
      "execution_count": 3,
      "outputs": [
        {
          "output_type": "stream",
          "name": "stdout",
          "text": [
            "Archive:  archive.zip\n",
            "  inflating: control_group.csv       \n",
            "  inflating: test_group.csv          \n"
          ]
        }
      ]
    },
    {
      "cell_type": "code",
      "source": [
        "#removing the zip file with -rm\n",
        "!rm archive.zip"
      ],
      "metadata": {
        "id": "SH7RKZY-bruV"
      },
      "execution_count": 4,
      "outputs": []
    },
    {
      "cell_type": "code",
      "source": [
        "# I will be exploring the file control_group.csv and its format with -cat \n",
        "!cat control_group.csv | head -5"
      ],
      "metadata": {
        "colab": {
          "base_uri": "https://localhost:8080/"
        },
        "id": "u6QkNG2hbyiX",
        "outputId": "a4435d8d-dfdd-4c49-8a78-d1ac5ff2ebe1"
      },
      "execution_count": 5,
      "outputs": [
        {
          "output_type": "stream",
          "name": "stdout",
          "text": [
            "Campaign Name;Date;Spend [USD];# of Impressions;Reach;# of Website Clicks;# of Searches;# of View Content;# of Add to Cart;# of Purchase\r\n",
            "Control Campaign;1.08.2019;2280;82702;56930;7016;2290;2159;1819;618\r\n",
            "Control Campaign;2.08.2019;1757;121040;102513;8110;2033;1841;1219;511\r\n",
            "Control Campaign;3.08.2019;2343;131711;110862;6508;1737;1549;1134;372\r\n",
            "Control Campaign;4.08.2019;1940;72878;61235;3065;1042;982;1183;340\r\n"
          ]
        }
      ]
    },
    {
      "cell_type": "markdown",
      "source": [
        "#The file seems to be have delimiter as \";\""
      ],
      "metadata": {
        "id": "KhJYeVqecGoU"
      }
    },
    {
      "cell_type": "code",
      "source": [
        "!cat test_group.csv | head -5"
      ],
      "metadata": {
        "colab": {
          "base_uri": "https://localhost:8080/"
        },
        "id": "kOBQRHjKcDKp",
        "outputId": "83c4b89d-e159-4f62-a84e-64304d422d53"
      },
      "execution_count": 6,
      "outputs": [
        {
          "output_type": "stream",
          "name": "stdout",
          "text": [
            "Campaign Name;Date;Spend [USD];# of Impressions;Reach;# of Website Clicks;# of Searches;# of View Content;# of Add to Cart;# of Purchase\r\n",
            "Test Campaign;1.08.2019;3008;39550;35820;3038;1946;1069;894;255\r\n",
            "Test Campaign;2.08.2019;2542;100719;91236;4657;2359;1548;879;677\r\n",
            "Test Campaign;3.08.2019;2365;70263;45198;7885;2572;2367;1268;578\r\n",
            "Test Campaign;4.08.2019;2710;78451;25937;4216;2216;1437;566;340\r\n"
          ]
        }
      ]
    },
    {
      "cell_type": "code",
      "source": [
        "# Creating a Dataframe for both control and test data.\n",
        "\n",
        "Control = pd.read_csv('control_group.csv',sep = ';')\n",
        "Test = pd.read_csv('test_group.csv',sep = ';')"
      ],
      "metadata": {
        "id": "z5K8n0KmckcW"
      },
      "execution_count": 9,
      "outputs": []
    },
    {
      "cell_type": "code",
      "source": [
        "#Checking the data in Dataframe format\n",
        "print(Control.head())"
      ],
      "metadata": {
        "colab": {
          "base_uri": "https://localhost:8080/"
        },
        "id": "6ltka-8Vc4NR",
        "outputId": "1d9da908-40aa-4a55-a82b-aec9e48d42c2"
      },
      "execution_count": 10,
      "outputs": [
        {
          "output_type": "stream",
          "name": "stdout",
          "text": [
            "      Campaign Name       Date  Spend [USD]  # of Impressions     Reach  \\\n",
            "0  Control Campaign  1.08.2019         2280           82702.0   56930.0   \n",
            "1  Control Campaign  2.08.2019         1757          121040.0  102513.0   \n",
            "2  Control Campaign  3.08.2019         2343          131711.0  110862.0   \n",
            "3  Control Campaign  4.08.2019         1940           72878.0   61235.0   \n",
            "4  Control Campaign  5.08.2019         1835               NaN       NaN   \n",
            "\n",
            "   # of Website Clicks  # of Searches  # of View Content  # of Add to Cart  \\\n",
            "0               7016.0         2290.0             2159.0            1819.0   \n",
            "1               8110.0         2033.0             1841.0            1219.0   \n",
            "2               6508.0         1737.0             1549.0            1134.0   \n",
            "3               3065.0         1042.0              982.0            1183.0   \n",
            "4                  NaN            NaN                NaN               NaN   \n",
            "\n",
            "   # of Purchase  \n",
            "0          618.0  \n",
            "1          511.0  \n",
            "2          372.0  \n",
            "3          340.0  \n",
            "4            NaN  \n"
          ]
        }
      ]
    },
    {
      "cell_type": "code",
      "source": [
        "print(Test.head())"
      ],
      "metadata": {
        "colab": {
          "base_uri": "https://localhost:8080/"
        },
        "id": "GN7p2EXGdKC9",
        "outputId": "5a2c5306-f3c7-4036-a497-2fadfaab1d81"
      },
      "execution_count": 11,
      "outputs": [
        {
          "output_type": "stream",
          "name": "stdout",
          "text": [
            "   Campaign Name       Date  Spend [USD]  # of Impressions  Reach  \\\n",
            "0  Test Campaign  1.08.2019         3008             39550  35820   \n",
            "1  Test Campaign  2.08.2019         2542            100719  91236   \n",
            "2  Test Campaign  3.08.2019         2365             70263  45198   \n",
            "3  Test Campaign  4.08.2019         2710             78451  25937   \n",
            "4  Test Campaign  5.08.2019         2297            114295  95138   \n",
            "\n",
            "   # of Website Clicks  # of Searches  # of View Content  # of Add to Cart  \\\n",
            "0                 3038           1946               1069               894   \n",
            "1                 4657           2359               1548               879   \n",
            "2                 7885           2572               2367              1268   \n",
            "3                 4216           2216               1437               566   \n",
            "4                 5863           2106                858               956   \n",
            "\n",
            "   # of Purchase  \n",
            "0            255  \n",
            "1            677  \n",
            "2            578  \n",
            "3            340  \n",
            "4            768  \n"
          ]
        }
      ]
    },
    {
      "cell_type": "markdown",
      "source": [
        "##Column name seems to weird"
      ],
      "metadata": {
        "id": "dOHQSVASdYl5"
      }
    },
    {
      "cell_type": "code",
      "source": [
        "#Checking Column names \n",
        "Control.columns"
      ],
      "metadata": {
        "colab": {
          "base_uri": "https://localhost:8080/"
        },
        "id": "T9Oh-DbgdS8S",
        "outputId": "71df4857-7eb0-4a6b-80c3-5da0be4cb4a9"
      },
      "execution_count": 13,
      "outputs": [
        {
          "output_type": "execute_result",
          "data": {
            "text/plain": [
              "Index(['Campaign Name', 'Date', 'Spend [USD]', '# of Impressions', 'Reach',\n",
              "       '# of Website Clicks', '# of Searches', '# of View Content',\n",
              "       '# of Add to Cart', '# of Purchase'],\n",
              "      dtype='object')"
            ]
          },
          "metadata": {},
          "execution_count": 13
        }
      ]
    },
    {
      "cell_type": "code",
      "source": [
        "Test.columns"
      ],
      "metadata": {
        "colab": {
          "base_uri": "https://localhost:8080/"
        },
        "id": "9gjJBEEKdfg4",
        "outputId": "f18f537b-52e3-4a56-c729-d57b649924ee"
      },
      "execution_count": 14,
      "outputs": [
        {
          "output_type": "execute_result",
          "data": {
            "text/plain": [
              "Index(['Campaign Name', 'Date', 'Spend [USD]', '# of Impressions', 'Reach',\n",
              "       '# of Website Clicks', '# of Searches', '# of View Content',\n",
              "       '# of Add to Cart', '# of Purchase'],\n",
              "      dtype='object')"
            ]
          },
          "metadata": {},
          "execution_count": 14
        }
      ]
    },
    {
      "cell_type": "code",
      "source": [
        "#Changing the Column names for better use in Both Control and Test\n",
        "\n",
        "Control.columns = ['Campaign_Name', 'Date', 'Amount Spent', 'Number of Impressions', 'Reach',\n",
        "       'Website Clicks', 'Searches_Received', 'Content Viewed',\n",
        "       'Add_to_Cart', 'Purchases']\n",
        "\n",
        "Test.columns = ['Campaign_Name', 'Date', 'Amount Spent', 'Number of Impressions', 'Reach',\n",
        "       'Website Clicks', 'Searches_Received', 'Content Viewed',\n",
        "       'Add_to_Cart', 'Purchases']"
      ],
      "metadata": {
        "id": "5VaDCE8fdlGL"
      },
      "execution_count": 15,
      "outputs": []
    },
    {
      "cell_type": "code",
      "source": [
        "print(Control.head())"
      ],
      "metadata": {
        "colab": {
          "base_uri": "https://localhost:8080/"
        },
        "id": "7QRtSuh2eR2j",
        "outputId": "08cd87e9-833d-4fa2-a51a-4150afe15c64"
      },
      "execution_count": 17,
      "outputs": [
        {
          "output_type": "stream",
          "name": "stdout",
          "text": [
            "      Campaign_Name       Date  Amount Spent  Number of Impressions     Reach  \\\n",
            "0  Control Campaign  1.08.2019          2280                82702.0   56930.0   \n",
            "1  Control Campaign  2.08.2019          1757               121040.0  102513.0   \n",
            "2  Control Campaign  3.08.2019          2343               131711.0  110862.0   \n",
            "3  Control Campaign  4.08.2019          1940                72878.0   61235.0   \n",
            "4  Control Campaign  5.08.2019          1835                    NaN       NaN   \n",
            "\n",
            "   Website Clicks  Searches_Received  Content Viewed  Add_to_Cart  Purchases  \n",
            "0          7016.0             2290.0          2159.0       1819.0      618.0  \n",
            "1          8110.0             2033.0          1841.0       1219.0      511.0  \n",
            "2          6508.0             1737.0          1549.0       1134.0      372.0  \n",
            "3          3065.0             1042.0           982.0       1183.0      340.0  \n",
            "4             NaN                NaN             NaN          NaN        NaN  \n"
          ]
        }
      ]
    },
    {
      "cell_type": "code",
      "source": [
        "#Checking number of null values in Control\n",
        "Control.isnull().sum()"
      ],
      "metadata": {
        "colab": {
          "base_uri": "https://localhost:8080/"
        },
        "id": "0igu6ZE8eUlZ",
        "outputId": "4e3b1729-7013-47f2-da7d-1973dcd06b4e"
      },
      "execution_count": 18,
      "outputs": [
        {
          "output_type": "execute_result",
          "data": {
            "text/plain": [
              "Campaign_Name            0\n",
              "Date                     0\n",
              "Amount Spent             0\n",
              "Number of Impressions    1\n",
              "Reach                    1\n",
              "Website Clicks           1\n",
              "Searches_Received        1\n",
              "Content Viewed           1\n",
              "Add_to_Cart              1\n",
              "Purchases                1\n",
              "dtype: int64"
            ]
          },
          "metadata": {},
          "execution_count": 18
        }
      ]
    },
    {
      "cell_type": "code",
      "source": [
        "#Checking number of null values in Test\n",
        "Test.isnull().sum()"
      ],
      "metadata": {
        "colab": {
          "base_uri": "https://localhost:8080/"
        },
        "id": "F7_Xea5UejQx",
        "outputId": "c202c449-0d5a-4243-bc37-83dc80e5daaf"
      },
      "execution_count": 19,
      "outputs": [
        {
          "output_type": "execute_result",
          "data": {
            "text/plain": [
              "Campaign_Name            0\n",
              "Date                     0\n",
              "Amount Spent             0\n",
              "Number of Impressions    0\n",
              "Reach                    0\n",
              "Website Clicks           0\n",
              "Searches_Received        0\n",
              "Content Viewed           0\n",
              "Add_to_Cart              0\n",
              "Purchases                0\n",
              "dtype: int64"
            ]
          },
          "metadata": {},
          "execution_count": 19
        }
      ]
    },
    {
      "cell_type": "markdown",
      "source": [
        "As there are null values in Control, we will be setting mean of the column in null values; But I need to learn why we set mean for null values [ Learning Scope]"
      ],
      "metadata": {
        "id": "9ZOVhTHte3BC"
      }
    },
    {
      "cell_type": "code",
      "source": [
        "for i in Control.columns :\n",
        "  if Control[i].isnull().sum() != 0:\n",
        "    Control[i].fillna(value = Control[i].mean(), inplace = True) # For mean we always add \"()\"; \n",
        "#fill_na only takes the values as \"value\""
      ],
      "metadata": {
        "id": "ER3nfkLFeoyX"
      },
      "execution_count": 25,
      "outputs": []
    },
    {
      "cell_type": "code",
      "source": [
        "#Now we can check the Control for null values\n",
        "Control.isnull().sum()"
      ],
      "metadata": {
        "colab": {
          "base_uri": "https://localhost:8080/"
        },
        "id": "HHXvjpZ_fUWH",
        "outputId": "6716c4d2-4bf7-4762-fabd-6ca2778ffd7e"
      },
      "execution_count": 26,
      "outputs": [
        {
          "output_type": "execute_result",
          "data": {
            "text/plain": [
              "Campaign_Name            0\n",
              "Date                     0\n",
              "Amount Spent             0\n",
              "Number of Impressions    0\n",
              "Reach                    0\n",
              "Website Clicks           0\n",
              "Searches_Received        0\n",
              "Content Viewed           0\n",
              "Add_to_Cart              0\n",
              "Purchases                0\n",
              "dtype: int64"
            ]
          },
          "metadata": {},
          "execution_count": 26
        }
      ]
    },
    {
      "cell_type": "code",
      "source": [
        "!wget https://www.dofactory.com/img/sql/sql-outer-joins.png"
      ],
      "metadata": {
        "colab": {
          "base_uri": "https://localhost:8080/"
        },
        "id": "QA3Ibpquf_Hm",
        "outputId": "deeca83d-53e9-40e0-f17c-ac9423043319"
      },
      "execution_count": 27,
      "outputs": [
        {
          "output_type": "stream",
          "name": "stdout",
          "text": [
            "--2022-12-30 00:51:35--  https://www.dofactory.com/img/sql/sql-outer-joins.png\n",
            "Resolving www.dofactory.com (www.dofactory.com)... 199.233.255.65\n",
            "Connecting to www.dofactory.com (www.dofactory.com)|199.233.255.65|:443... connected.\n",
            "HTTP request sent, awaiting response... 200 OK\n",
            "Length: 43165 (42K) [image/png]\n",
            "Saving to: ‘sql-outer-joins.png’\n",
            "\n",
            "sql-outer-joins.png 100%[===================>]  42.15K  --.-KB/s    in 0.1s    \n",
            "\n",
            "2022-12-30 00:51:35 (297 KB/s) - ‘sql-outer-joins.png’ saved [43165/43165]\n",
            "\n"
          ]
        }
      ]
    },
    {
      "cell_type": "markdown",
      "source": [
        "![sql-outer-joins.png](data:image/png;base64,iVBORw0KGgoAAAANSUhEUgAAAb4AAAFHCAIAAABRcr5vAAAACXBIWXMAAAsTAAALEwEAmpwYAAAIE2lUWHRYTUw6Y29tLmFkb2JlLnhtcAAAAAAAPD94cGFja2V0IGJlZ2luPSLvu78iIGlkPSJXNU0wTXBDZWhpSHpyZVN6TlRjemtjOWQiPz4gPHg6eG1wbWV0YSB4bWxuczp4PSJhZG9iZTpuczptZXRhLyIgeDp4bXB0az0iQWRvYmUgWE1QIENvcmUgNi4wLWMwMDUgNzkuMTY0NTkwLCAyMDIwLzEyLzA5LTExOjU3OjQ0ICAgICAgICAiPiA8cmRmOlJERiB4bWxuczpyZGY9Imh0dHA6Ly93d3cudzMub3JnLzE5OTkvMDIvMjItcmRmLXN5bnRheC1ucyMiPiA8cmRmOkRlc2NyaXB0aW9uIHJkZjphYm91dD0iIiB4bWxuczp4bXA9Imh0dHA6Ly9ucy5hZG9iZS5jb20veGFwLzEuMC8iIHhtbG5zOmRjPSJodHRwOi8vcHVybC5vcmcvZGMvZWxlbWVudHMvMS4xLyIgeG1sbnM6cGhvdG9zaG9wPSJodHRwOi8vbnMuYWRvYmUuY29tL3Bob3Rvc2hvcC8xLjAvIiB4bWxuczp4bXBNTT0iaHR0cDovL25zLmFkb2JlLmNvbS94YXAvMS4wL21tLyIgeG1sbnM6c3RFdnQ9Imh0dHA6Ly9ucy5hZG9iZS5jb20veGFwLzEuMC9zVHlwZS9SZXNvdXJjZUV2ZW50IyIgeG1wOkNyZWF0b3JUb29sPSJBZG9iZSBQaG90b3Nob3AgMjIuMSAoV2luZG93cykiIHhtcDpDcmVhdGVEYXRlPSIyMDE5LTExLTEwVDEzOjU1OjQ2LTA2OjAwIiB4bXA6TW9kaWZ5RGF0ZT0iMjAyMS0wNy0wM1QxNTo1Nzo0OS0wNTowMCIgeG1wOk1ldGFkYXRhRGF0ZT0iMjAyMS0wNy0wM1QxNTo1Nzo0OS0wNTowMCIgZGM6Zm9ybWF0PSJpbWFnZS9wbmciIHBob3Rvc2hvcDpDb2xvck1vZGU9IjMiIHBob3Rvc2hvcDpJQ0NQcm9maWxlPSJzUkdCIElFQzYxOTY2LTIuMSIgeG1wTU06SW5zdGFuY2VJRD0ieG1wLmlpZDo1OTQ2YmI4ZC05ZDQyLTNjNGQtYTA5OS1mMTgwODZiMjFlOTIiIHhtcE1NOkRvY3VtZW50SUQ9ImFkb2JlOmRvY2lkOnBob3Rvc2hvcDo2Y2I3ZTNhZS0xODZiLWVhNDgtODEyMi1iYmRmNWE2MDIyY2EiIHhtcE1NOk9yaWdpbmFsRG9jdW1lbnRJRD0ieG1wLmRpZDpiMzUwOWI0Yi0yYTdiLTY2NDEtYWM3MS1jZGFhNzljMTY2YzgiPiA8cGhvdG9zaG9wOlRleHRMYXllcnM+IDxyZGY6QmFnPiA8cmRmOmxpIHBob3Rvc2hvcDpMYXllck5hbWU9IkxFRlQgT1VURVIgSk9JTiIgcGhvdG9zaG9wOkxheWVyVGV4dD0iTEVGVCBPVVRFUiBKT0lOIi8+IDxyZGY6bGkgcGhvdG9zaG9wOkxheWVyTmFtZT0iUklHSFQgT1VURVIgSk9JTiBjb3B5IiBwaG90b3Nob3A6TGF5ZXJUZXh0PSJSSUdIVCBPVVRFUiBKT0lOIi8+IDxyZGY6bGkgcGhvdG9zaG9wOkxheWVyTmFtZT0iUklHSFQgT1VURVIgSk9JTiBjb3B5IDIiIHBob3Rvc2hvcDpMYXllclRleHQ9IkZVTEwgT1VURVIgSk9JTiIvPiA8L3JkZjpCYWc+IDwvcGhvdG9zaG9wOlRleHRMYXllcnM+IDx4bXBNTTpIaXN0b3J5PiA8cmRmOlNlcT4gPHJkZjpsaSBzdEV2dDphY3Rpb249ImNyZWF0ZWQiIHN0RXZ0Omluc3RhbmNlSUQ9InhtcC5paWQ6YjM1MDliNGItMmE3Yi02NjQxLWFjNzEtY2RhYTc5YzE2NmM4IiBzdEV2dDp3aGVuPSIyMDE5LTExLTEwVDEzOjU1OjQ2LTA2OjAwIiBzdEV2dDpzb2Z0d2FyZUFnZW50PSJBZG9iZSBQaG90b3Nob3AgMjIuMSAoV2luZG93cykiLz4gPHJkZjpsaSBzdEV2dDphY3Rpb249InNhdmVkIiBzdEV2dDppbnN0YW5jZUlEPSJ4bXAuaWlkOmE1ZThkOTZkLTMyMzItYmY0ZC1iMTBhLTg2MmQ3ODllYTFjOCIgc3RFdnQ6d2hlbj0iMjAyMS0wNi0zMFQxMjo0ODozNi0wNTowMCIgc3RFdnQ6c29mdHdhcmVBZ2VudD0iQWRvYmUgUGhvdG9zaG9wIDIyLjEgKFdpbmRvd3MpIiBzdEV2dDpjaGFuZ2VkPSIvIi8+IDxyZGY6bGkgc3RFdnQ6YWN0aW9uPSJzYXZlZCIgc3RFdnQ6aW5zdGFuY2VJRD0ieG1wLmlpZDo1OTQ2YmI4ZC05ZDQyLTNjNGQtYTA5OS1mMTgwODZiMjFlOTIiIHN0RXZ0OndoZW49IjIwMjEtMDctMDNUMTU6NTc6NDktMDU6MDAiIHN0RXZ0OnNvZnR3YXJlQWdlbnQ9IkFkb2JlIFBob3Rvc2hvcCAyMi4xIChXaW5kb3dzKSIgc3RFdnQ6Y2hhbmdlZD0iLyIvPiA8L3JkZjpTZXE+IDwveG1wTU06SGlzdG9yeT4gPC9yZGY6RGVzY3JpcHRpb24+IDwvcmRmOlJERj4gPC94OnhtcG1ldGE+IDw/eHBhY2tldCBlbmQ9InIiPz6FtMHLAACgMElEQVR4nOydd1wUV9fHfzM7W+m9ioBiw4IN7EawRGM3llhi7MZUW2ISY02MUaMpxmjU2HsLGrtgB1FRFCkqTXrvLGyZmfePIbw+FlhgC2vm+3mefHB25s6Z3ZnfnHvvuecQLMuCh4eHh6c2kIY2gIeHh8f44KWTh4eHp9bw0snDw8NTa3jp5OHh4ak1vHTy8PDw1BpeOnl4eHhqDS+dPDw8PLWGl04eHh6eWqMP6Vy9erWXl1dSUtIL24OCgrxeYvXq1dynmzZtevlTuVzeu3fvl7e/cOwLyOXyvXv3Pr/n3r175XL58/v07t27d+/eLx/o5eW1aNGiqqt4JdyB1V9OYGDgC4cEBgZW/73NmjWLu+TnNwYGBo4ePfr59l/4Yl/4tsPCwrg9o6KiXmjHy8srLCyseht4qqfGn/WV91VQUNDzt9Po0aP37t2bk5PDfZqTk/PKm5k7RC6Xv3DSF3j5Qas66aJFi6p2W7RoUVBQ0MvX8vJtyT073P1T49P3yse2qs3nDfDy8po1a9YLNrwAd/fu3bv3+Y11eJy5R4l7kF/YbdasWdUYUA1U3Q7TCqWlpQDWrVs3bNiwlz8tLi4GcPHiRXd39+e3X716lftDLpe3a9fO399/y5Yt1ZwlKSlp8uTJ9vb2e/fu9fPzAxAUFLRixYqtW7fu2rXrhcZfSUFBAYBFixZVffWzZs0KDg5+8OCBTCbT8HJKSkqev5xFixYtWLAgLS1tzpw5NRpQdb1z584NDg5et27dkSNHuEv74Ycf+vXr97qTAsjMzOT+WLZsGXcUjxapw8+6evXq7du3T5s2LSQkxM7ODkBYWFh4ePj27du5G6ysrKz6kw4bNqzq5967d+/y5cur7u0aT/r06VMAcrl8xYoVs2fPnjZt2suC8kq427vGp+91jy1HQUGBs7Mz10hOTs7ixYtnz569efPmgIAATWxAXR/n2NhYAMeOHevatevrnpTa8oZ32OVy+cKFCwFs2rSp6t4KCAhYs2ZNenr6Dz/8YCjDlixZ4uzsvGHDhipfo0ZWrFgRHBy8efPmqt/e3d19w4YNzs7O69evr74df3//iIiIGv1cnnpS48+6adOm7du3L126dNGiRZxuAvDz85szZ46GElYHAgMDt2/fPnfu3KpTyGSy1atX+/v7b9++vXq/T3fY2dlNnToVwObNmzU8pD6Ps4+Pj7Oz8wsObH14w6Xz4sWLERERY8eOrbpNOfz8/Hx8fIKDg1/oxuqNKne1RheDIyoq6tixYz4+Pi+8n2Uy2dixY9PT00NCQqo5fMyYMdq9b3heSfU/a1JS0oYNG3x8fCZOnKhPq9avXw9g9OjRL2wfM2YMgIsXL+rTmOdxcHAAkJ2dreH+9Xmcra2tZ8yYoUUH4g2XztDQUADNmzd/+aM+ffoAiIuL07dNAICcnJz09HRnZ2dNRgzwr52czS/AXR13pa/D1NR03rx5vOOpa6r/WR88eIDX/Ii6IyoqKj093cfH5wW5AdC2bVvUdOfolPj4eABdu3bVcP96Ps4jR4708fF5eWC0bvwnpNPR0fHlj8zNzQHExMTo2yZALpf/9NNPAObNm6fhIZydLi4uL39kamoKDR6AYcOG+fj4rF+/Xiv3Dc/L1Pizcr/RK39E3cGpSZMmTV7+yMTEBEB6evrrZpZ0SlJS0uHDhwFMmjRJw0Pq+TjLZLKJEydGREQcP3681ua+hCGniTgWLFiwYMEC7u+qIeQq+vXrV/V3jTNCr4O7RV7AzMysDk3ViIaXw3Wfqx/a1xCu16MJEydOXLBgwfHjx/XcYXzj0fBn5eYbq578sLCw53+IuXPnPj+5tH379u3bt2vLQktLy5c3ymQyZ2fn9PR0bZ2liucf2xdmotLT0728vLi//f39q+bKNKc+j/OwYcP27t27devWkSNHPj/HWwcM73WuW7fu6b+8IDQALl68WPVp3XQTrxl44uZGuZeVFtHkcjZv3pyenn7ixAmtnDErKwuAvb19jXsOGzbM399/69atms9N8WiChj+rlZUV/p2qBuDn58fdJ9xoIzc3XQU3G/4806ZNq7OFhYWFL2+Uy+Wcbr5SjOrD84/tC9Nfzs7O3HYuXKT6MfpXUs/Hefbs2enp6Tt37qzteV/A8NKpU1q0aIHnAnSeh7tTNek9eXh4aNeqgICApUuXHjt2TPOwSldXVwBpaWkvf8Q9iq/skb3M1KlT09PTtejO8FRR48/q5uYG4PHjx/q0inNyuVHFF+A0yNnZWRO/T/POjYbMmTPH39+/ViNIWnmcAwIC/P39N2zYUM9hijdcOnv27AkgIyPj5Y8uX74MoF27dtw/uV/lBbh7S+ueKYABAwYA0Nzx5Po43DzDC9y5cwcaj7X7+flxISmvVGGeelL9z9qxY0f8e+PpjTZt2jg7O2dnZ7+sUJzHN3DgQO6frxxDxL+qpHXPFMCYMWPS09M1n+LX/HGuHi4o6uDBg5oa+irecOns0aMHgMDAwBfum6CgoIiIiGnTplXNhA4aNCg9Pf0Ff4G7t7g7XrvY2dmNGjXq2LFj1fednZ2duRGZ14Vf5OTknD171sfHR/NA308//RTAoUOH6mo7z2up/mf18/MbNWqUnuMcZDLZwIEDX6lQZ86cATBu3Lgq85ydnbmNz3P58mV/f//ajkhqQkBAgCYxc1XjmJo/ztXD/RD17Hu94dLp7u6+bt26iIiIFStWVPnngYGBs2fP9vf350SEgxsH/OKLL6oihAMDAxcsWDB37lytTOa8DDeUfv78+Vd+KpfLY2NjqzwCAGvXrnV2dl62bFmVhWFhYdzEwtq1azU/r7e397Rp03QxOcCDmn7WJUuWjBo1asGCBatXr656/m/cuKFTkz799FN/f/8FCxZUSXZOTs6iRYu4lWnPy82SJUuCg4MXLVrE2cbtlp2d/d133+nItrFjx0ZERLxuiINb+1TlS2r+ONfI7NmzAdTnKdDHDDvX4X1+0g3AgwcPuKia56ek8dJ8XP0ZNmyYo6Pj5cuXqwzw8fF55crFLVu27N27l1ugBsDf37+aBY4vU9vL4V65gYGBL8x3c2vmAIwaNer5mQF3d/ejR4+eP3+eM49j6dKl1c8Vcla9wLRp08LDwyMiIl75KU99eN3PysEt4+natWtoaGiVIvj7+y9durRqf613jWUyGXdv7927t+rmnDZt2svLJQMCAvbu3XvixIkq2+bOnTt//nzNXc5XPuzVPEe9e/fesGFDeHj48w5KUlJSVQsviLvmj/PzvDyJ6u7uvnTp0uXLl3Nzd3WA4Cti8vDw8NSWN7zDzsPDw6MLeOnk4eHhqTW8dPLw8PDUGl46eXh4eGoNL508PDw8tYaXTh4eHp5aw0snDw8PT63hpZOHh4en1vDSycPDw1NreOnk4eHhqTW8dPLw8PDUGl46eXh4eGoNL508PDw8tYaXTh4eHp5aY/iKmJqjVCrLysoUCoVSqVQqlQzDsCxLkqRAIBCLxSKRSCqVGksCSoZhSktLKyoquGtRq9UsyxIEIRAIRCKRSCSSSCSmpqYCgcDQlvLw8LyCBi2dmZmZcXFxycnJ6enpGRmZOTk5BQX5JSUlZWVyhVKhVqkYlhWQpFgslkplMpnMysrS1tbW3t7BycmxUaNGTZo0adasGUEQhr4OACgvL3/8+HFCQkJ6enpWVlZmZmZubm5xcbFcLpfL5UqlkttNLBZLJBKZTGZubm5jY2Nvb+/o6Ojk5NSkSRMvLy9dVEniaWgwDJOVlVVQUFBWVlZaWtqnT5/g4GBTU1OZTGZtbe3g4GBcL9S8vLz8/Pzi4mKFQqFSqQiC4G5yS0tLW1tbXZQ80g8NTjrlcvn58+eDgy8/ePgwPS0jNze/qKgAoGvbjkhsZmtr5WBvJxIJBw9+Z8yYMc2aNdOFwdUTFhZ27Nixq1evyuXyrKys3NzcuuWWtrGxsbOzc3V17dix49tvv/3WW29p21IefVNRUVFWVpabmxsREfHo0aOoqKjY2Nj09HS5XM71QrjdhEKhSqXi/iYIgqIoiUTi4uLSokULb2/vVq1atW/f3tHRsc7ZzrWCWq0uKysrKiqKjo6Ojo5+8OBBTMzjpGfJhYVFNM0wDAuWBZh/dycAECRJkqRIRNna2Hg1a+rdqmXLli3btm3btGlTExMTmUxGkg16OLFBZIkvLy9PT08/evTowYMHH0ZGM7QKYAFQJExN0NgRzTzQtBHcneBsD2tzWJjBVAaREAQBtRpyBYrLUFSMrDwkZyExBXGpiElAYTHKlVUnoVxcnN55Z+Dw4cO7dOmiu/uMpunc3NwLFy6cPn360qVLeXl53HaSJGUyma2tbZs2bTw9PZs2bdqoUSM7OzsLCwtzc3OpVCoQCGiaVigUxcXFRUVFeXl5z549S0xMjIuL456okpKSqh/LwsKiV69egwYNGjp0qJ2dnVAo1NHl8GidZ8+excXF3bt378aNG9euXXuhQrq5uTnnYEqlUoqihEJhSUmJubm5SqVSqVQVFRVyubykpOSFou3u7u5r1qyJiYnp3r27l5cXV7VYD+Tn58fHx0dHR4eEhFy5cuXJkyfPfyoRwVwGmQxSMcQUBBRIEiwLhoFKDaUKZRWQy1FSBhXzP8127dq1R48ebdu2bdeuXYsWLRrm7W1I6WQYhvvS9+3bd+3aNW6jmQmaN0Yzd/TqgI4t0b4lBFaACqABpvJ/LAuWBQuABUFU/g8EQAIkIAAogEZKAsJjcCkMDx8jLRsJ/1bPdXBwnDhxwoABAzp06GBjY6Oty0lOTr57925gYOC+fftomgZAUVSzZs2cnZ3btm37zjvv+Pn51bl7olKpbt++HR4eHhoaGh0dHRMTU+WJvPvuuyNGjPD19W3atKm2roVH6+Tk5Ny8efPq1as3bty4e/du1fYWLVp4eHg0btzY09PTxcXFxsbGysrKwsLCzMxMKpWKRKK8vDxbW1ulUllRUVFSUlJYWFhQUJCTk5Oenp6YmPjs2bOEhITY2NiqBjt16tSzZ89u3bp1797dyclJR5dz/fr1GzduXL16NSTkVklJEbfR0RpNGsPdEe6ucHWEnQWsLWBlAVMZZGIIhaBIsIBaDYUacjmKy1BYgrwiZObgWQZSsvAsA5FPoKi8teHq2qhPn7d69OjRpUuXtm3b6uha6obBpPP69eu7d+8+ffpsRkYaACsL9O4IDxe81Qm9O8DCGagA1FCpwTA1NvZqhBRIChAD5Yh8grBI3I5CWCQe/vtqDAgIGD9+/KhRoywsLOpzLQkJCceOHdu/f39ERAS3pVevXl26dPH19fXz83N1da1P4y+Tm5t77dq169evx8bGXrp0Sa1WA2jRosXo0aPHjRvXqlUr7Z6Op57ExMRs2rTp1KlTKSkpzL938+jRo/39/Vu1auXu7m5paVnnUezi4uLCwsKEhISYmJgbN27s37+/6qNGjRoNGzbso48+atGihRYuAwBQVla2ZcuWHTt2JaekFhflcxt7tEfPDujdES6OsDaDlTmkZgD7v47Ov74OABAgAIIAWeXuEACN4lIUFiGnCPHPcCMCO0+hpLTyvHb2Tl38Os+YMWPIkMHaupZ6YgDpPHPmzKZNf1y5cr2srAhAmyaYMgJ9OsPTFeYWAAu1EnRd5fKVEASEFAgR6AqkZCE2CTv/xrGLUDMA0KSJ1/DhQ3/44Yc69AuSkpJWr179zz//pKWlATA1NZ05c+bo0aObN2+uh7Gn4uLiuLi4Y8eO7dq1izPAzs6ub9++CxYs6NChg67PzlM9RUVF586d27hxY1Wt4EaNGg0aNOi9997r0qWLUCjU+lgeTdM0TYeGhh44cODChQuJiYncdj8/v48++mj48OFVBc1ri0qlevTo0W+//XbixMnCwjwAplL4tsb7QzCgB8xlEFIQCis74wwDpk6iQpIgSZAAQUKhgkKB5Az8HYwTwYiMg0oNAG5u7pMnT5o5c6bWPZLaolfpDA4OXrFi5dWrVwCIhRg3ELNHo00zSIUgSNC0lhXzZQgClAAkiQoFcgpw4hJ+2IHMXACwtLL+atGXn332mVgs1qSp9PT077//ftOmTdw/PTw8fv755z59+tT57qwPCoUiJCTkxx9/rCr/PWHChMWLF2vR3eDRnPz8/JMnT3KDjwAcHBx69eo1derUt99+W59mBAcH//LLL7du3crOzgbg4+Pz22+/NW3a1NHRUfNGaJq+devWunXr/v77b25L97Z4bzBG94W9G6AAowT9r2upRTiflBIAEoDFo2jsOolTl/E4GQAkEtm8eZ+///77zZs31+ZZa2WhfqTz5s2bf/zxx759+wA422FIb8ydiOatgAqoVWAY6Nn1JQkIBCDFAI1f9mB3IO49BgAPD4/FixePGTOmmvjQtLS0gwcPfvHFF1zny8/Pb968eWPGjNGb8dVw48aNTZs2nTt3rqCgAMCCBQumTZvGC6g+2bFjx86dO7mxey8vr5EjR44YMeL5IuN6JjQ09PTp08ePH+d0vFu3bh988MGMGTM0PHb37t2bt2zhdHH0AAzpiaF9YGEFugLqWoe91BGCgEgICPE0Dmeu49Q1BIUBgJub26RJk+bMmePs7KwnU563StfSWVZWtnnz5lWrVuXn54uFeH8oZo9Gh5YAoFDWdLDuIQkITVGSj20nsP0YohIAoH///t99913nzp1f3v/UqVPffvvtgwcPAPTp0+eDDz54//339Wxzjdy4cWPt2rUnT54E4OLism7dunHjxhnaqDefR48eTZ8+PSwsDICVldXXX389YcIE3U3U1IrMzMw9e/asWrWKm9Dv06fPxo0bqxkWr6ioWLJkye+/b5bLSwC8NwjzJqJVE8hMoFbovHf4OkRCEALkF+DqHXy3DfdiAMDDo8l3360YP368no3RrXQ+fvx46tRpISE3AbRpht++RNe2EImhVGrZva8nAgEoCRKTsO04NuxGuRL2Dk5Lvv1mzpw5VRH1JSUlCxcu/Ouvv1Qqla2t7S+//DJkyBCDdM81oby8/OTJk9988018fDyAd99999dff20gj/GbR2pq6saNG3/99dfy8nKxWDxp0qTVq1drMXhDW2RlZW3dunXLli2pqalSqXTmzJlz585t3Ljx8/uoVKqTJ08uXPhFYmICgH5dseoTtG0GkbBec7ZahBtzKy7FpTCs3IIHTwDA19f3119/1ad3ryvpLC4u3rBhw7qffi4tKXS2w/r5GB4AoRA03SC+/VcipEAQiIrDss04dgkAunXrtm3btpYtW16+fHnOnDmxsbESiWT+/PmffPKJg4ODoe2tmeLi4u3bty9btqy4uNjV1XX16tXjx49vIMur3hguXrw4bdq0lJQUgUAwbNiwP/74w97e3tBGVUdubu68efP27t3LsqyDg8P+/fv9/f25j548eTJv3rzTp08D6NgCP85FQG9ACZWyjjM/ukNAgpIhPwfbj2PtTuQUAsCSJUsWLlyon9XYgmXLlmm90bS0tPHjJ/z1119KZcWkd3BoLbr6gVWDphuWs/kC3Mygkx3GvAtXS1y5i/iElP37DyQkJHz66ae5ubkeHh5HjhyZOnWqsayUF4vFXbt27d+/f0hISFxc3PHjx7Oysnr37q3hVBhP9ahUqpUrV3700Uf5+fkeHh4bNmxYtWpVw19ZKJPJRowY0bhx48ePHz979uzQoUMAOnbsGBERMWnSpBs3bogEmDsJvyxCO28o5VCr9T0VoQksC1oJmQQ9/NC5JbLzEZeMq1evJiQkdO7c2dLSUtcGaN/rfPjw4cyZM8PCwkyk+HYGFk4BSTaIYU3NIQiIxLh2Bz/twT+XwQAEQcycOXPlypV2dnaGtq4uFBUVrVq1as2aNQDGjBnz888/8533epKXlzdjxowTJ04A+OijjxYtWmTwcJnakp2d/dNPP3F3RevWrdPT0/Pz820tsP9HBPiCIKFU1diG4SEAkQjychw4i5krwLBo1qz5mjU/Dhs2TKfn1XJk2YEDB/r1HxAWFubdFGd/x8IpYFgj000ADAOQ8GqMiorKZbcsy5aUlNja2hrYsrpiYWHx448/Hjt2TCKRHD58eMiQIffu3TO0UUbM1atXO3bseOLECYqi9uzZs3HjRqPTTQD29vY//vjjr7/+CuDRo0f5+fmjApB5Bf26gWaNQzcBsIBCCbEI00Yi/BC6tcOTJ4+HDx++bNkynU7kaFM6v//++/Hjx2dnZQ7vg5Bd6NERNA1aXxEM2oIgIJHg5m10eg8XQiGT4LMJALB///7evXvn5OQY2sC6M3LkyLCwsDZt2oSHh/fq1evUqVOGtsgo2bt3b58+fZ49e9alS5f79+9PnDjR0BbVnby8vOMnTlT981gQDpyBWgXS2MbD1TSUSvi0xOXtmDMWAJYvX/7xxx9XVFTo6IxaG+tcsmQJ19Sc0fhrJSRiKFUNcYikergIsqAwDPkMeYXo0R7BWzF2FNq6IzgMsU+Sg4Mvjxo1SiaTGdrSOuLg4DBp0qTY2NiHDx8eOHDAy8uroS0NbuD88ccf06dPB/Dee+/t2rXLw8PD0BbVnYcPH7733vibN240aYQVH8HJFvdjcSIY5ibwbQ1K0OCmhmqEVkNIIcAXFma4eAt37txJTU0NCAjQxeC+FqSTZdnVq1cvXboUwNfTsXxOZRyD0cHp5qUwvP818orwTk/sWA43F6jK0LopunfAjXt4FJN+586d/v37N9iwpBoRiUSDBg3Kzs6+f//+8ePHPT0927VrZ2ijjIPvv/9+/vz5AObMmbN161bjvQcAhISEjBk77tGjSJ9mOLcZ/XpiYBdk5yM8BhdvQU2jr9+/C8+NCoaBkEKP9mjkiJNX8ODBg3v37o0ZM0brSU61IJ3ffffd4sWLAaz8CN/OhEhklLrJshCLcfUuJn2NjFwM6I5Da2BnA4UCLMAw8HDGgG44fQ33HybdunVr+PDhUqnU0FbXEbFYPHTo0ISEhIcPH54+fbpZs2atW7c2tFENnaVLl3L+waJFi9avX9/As0lWz9WrVwe8PSgnO6tLG/zzO1wcoCiHSIi+XVCuROgD3LgPNYN+XUHA+HxPhgULdPKGdxMcuYj4+PiwsLDRo0dTlDbTE9d3hv2HH374+uuvASyfg2+mA9Df8iztIpYiPBL9ZyK/BP274cBqWFu8OMElliD6KQZ9hGcZ6NKl6z//nGqAYc+ao1arp0yZsnfvXpIkz58/37dvX0Nb1HBZvXr1V199BWDZsmWcgBovjx8/7tatR35+7js9sWMl7KyhUFR+JKQA4IftWLwRAFZ9ggWTK/NLGB0EAZEMF65iyKdQqjBkyJBDhw5p0d2pl9d54MCBOXPmAFg0Fcs/BIxWN4UUMrIx5BOk5aB/VxxZB0vzVwQG0Go42aNPJ5y9gajY1NjY2HHjxhlvhDlJksOGDUtKSoqIiDhz5szo0aMNm2m8wbJ79+6PP/4YwOLFi5csWWLU/mZqaur48RPi4p7074Jty+Bo9/+6CYBhQBLo2hYiCpfvIug27G3g2xpAg47Ifh2MGs2aor0XDpzFkydPMjMz+/Xrp63EyXWXzpiYmPfGTygrLZ35LlZ+BJHQWHWTJEE5YN5yXAqDiz2OrYej/f/cT8/DMHBxQGNnHLmI2NjHFRUVRu2skSTp7+//6NGjBw8e3L9/f+jQocY7A6YjLl269P777yuVys8++2zNmjVGrZuFhYWTJk26du1q+xY483vleNQLMCwoAXp3Rk4B7kTh7A00bwyfVmCMcBQOAKNGyxZo4YZjl3D//v2SkpKBAwdqpeU6SmdmZuYHH0yJjno0uBf+Wg6ZxCjHNwGQBJRqrP0d63YDwLnf0bYVFNXGM7AMvJuisSMCr+DmzZsWFhZdu3bVj7W6QCKR9OvX78iRIw8ePEhJSRk4cGDDrGdgEJ4+fTpo0KDCwsL3339/06ZNRq2bcrl8/PjxZ8+eBRC0Fa6Or/cPWJAk3uqEpDQ8isPxIIwKgLODUXbbAbAqtGsOBxucvo6wsDBTU9Nu3brVv9m6SGdxcfGMGTPOnz/X3B2nfoW5qdFEz74AlwJ56zEsWA8Ah9bg7begKK/hKBZgWXRsC4LGlXDcuhXWp08fY4yIrsLExMTX1/evv/569OiRUqns37+/oS1qEMjl8sGDB8fHx/fv3//AgQPG/kb5+uuvd+7cKRTg75/Ro+NrdZODYSATo1833IlEYhpuR2LcQMjEBsuZVB+47PSdW0EkRPBtXLx4sW/fvvUv31SXt+hvv/124sQJAYnNi2FjaXyLhaoQiXD7ET5fCwArP8KYAVDVpJscDAO1At/OwtC3UFRUOHHixKysLJ2aqmu6dev2559/Ali3bl1Vnaj/OAsXLgwPD3dxcfnpp59EIpGhzakXoaGh69b9DGDVZxjYE6pqdZNDoYK5OVZ+DAszhMfgiw2gGRip200zAIFPxmPKMAD4/PO5ubm59Wyz1l5nbGzsBx9MVSoVK+dgwjugaeOL/OIQkKAZvPcFnmWgV0f88gWEVC1eqiwLikKLxgi8iuTUfADG7qx16NAhMzMzPDz87t27kydPNnaxqCdnzpyZO3cugL/++svYSzenpqZOmTotPS1lzhismAMCmt7ntBrubmjpgYPnEB6NFu7waQPaOLuYDAMTKXp1wD9X8SA6PTMza/DgwfUJ9qy1dI4YMTIu7snQt7Bmfu20pqEhMsOvu7HtBKwtsGUxmnnUetiBYeHiCGc7/B2MO+EPBvTv6+Liohtj9QFBEO3atTt37lx0dDTLsgEBAYa2yGBERkZOmzYtLy9vxYoVH374oaHNqRcKheLjjz8+f/5ch1Y4th4kUbvpXIaGd0uwalwNR3g0/FqjsaOxPvU0DVNzeHti50k8fPjA1dW1Y8eOdW6tdnGdv//++8cff+xihwt/opWnEXfVxSKEPMCwT5FbiL9WYMpIKMvr4j6TBIQm+Gwlft2Pdu18Ll68YKSplaoICgrq27evqanpwYMH33nnHUObYwDUavWYMWNOnDjh6+vLpXw3avbt28etsg/Zha7taxjifCUCAUgCXSfh9iP08cWZjaAExqqeXFK0tX/hiw0wN7cICbnp7e1dt6ZqMXRx9+7d5ctXAFj5CVp5G7FuCgQoLsNPO5FbiLd7YMo4KCvqOOzAsGAqsHwO3J3x4EHExo0btWyr3gkICBg6dGhpaemyZcuMOtdJnTl//jyXEmnVqlWGtqW+ZGRkfPzxJwDmv4+u7aCs0zPLTawv+xASES7fxoUQUEY7lsOyYNSYMhx+bVBcXMQl3KsbtZDOHTt25ORkt/XCuP5Ql9T5jIaHJHDuBo4HA8DKD4GKeoX7qtSwtMG3MwFgy5YtXEELo+a3334zNze/e/fugQMHDG2LAZg1axaA6dOnvwFDFr/88kthYUHbZpg9Bkw9ilbSNAZ2xxdTAODj1VBUgNLyinD9oVLDxgKLp8NMht27916/fr1u7WgqnWFhYVzh3B8+h1RqrO46AJJASRnW7gKAOWPQvlUdX8XPoyrDCH90aImsrKzffvut/kYaFjc3t2+++QbAunXrioqKDG2OXlm1alVaWlqLFi0WLVpkaFvqS2xs7E/rfxVR+GY6mrrVK/KaYcEwmDYCvm2Qkok1f0FgzJFaajUG+2P8OwCYOo9layqdK1d+B2DsAPTqCLVxRr9zCCU4dA53o+DujE8ngCC0sMKMYWFlieVzAOCXX3559OhR/e00LJMnT/bz80tJSXkD3gSak5SUtH79egATJ058odiZMbJ69Wq1qnzIWxjVF6p6T4uraLg1xldTAeDXA4iIhvFWaWFYsDRWfggrM0RFRW/YsKEOjWgknSEhIadP/2NrhU/GwdTUmF1OEioF1uwCgPeHoHljrb0G1CoE+GL8QAAw9vQQABwcHLjsBOvXr5fL5YY2R0/s2LEjLy+vW7dunNNt1Jw8eXLf/oMAvp0JAaWdWoqqMgx9C51aIbcQu/+BSgmjzd8ApQp2bhg/CAC7d9++OsRlaySd69b9BGBQN3RuA5Wuki7rA6EURy8gPgUeLnhvIKANl5ODZiA1xci+IIETf5/MyMjQTruGY+jQod27dy8oKNiyZYuhbdEHT5482b9/P4AvvvjC0LbUF6VSeejQIbVKMbY/2rWry6z6K2FYkCJ8NR0AjlzAg6cQaTOLm76hi7HyI9hb4154+OHDh2t7eM3SGRUVdSnoikSID4ZDJDa+5H1VkCRUcmw6DABj+qFFUy0HCSjLMao/OnqDZdRcv8+osbS0nDRpEoCdO3f+FxzPffv2xcXFdevWbciQIYa2pb7cuXPn+Im/AXw1A9Cqr6OuwICu6NoOqVnYewoqtRE7njQNSwssfB8Atm7dmp+fX6vDa5bOffv2lxTn9+2KPr1qyIvRwBGKcC4EYZGwMsNH48Bqe8SWZQECS2YBwPETgU+fPtXyCfTOtGnT3NzcuFIchrZFt6Snp//xxx8AFixYYNQ5PgAwDPPnn39WlMtH9UULdy2Mcj4PzcBEgs/GA8C240jPhcBovy1ubfuYgWjshMjIyJs3b9bq8BquOy4u7uSpUwA+GgcYbSAnAIKAWoGTV6BSY0QAGjXTScoSZQUGD0BTVyTEP/3777+1fwL9QlHUtGnTABw5cqS8XLPl/cbJ1atXc3JyWrVq1b17d0PbUl8yMzN3794LYHQ/iEXa7yYyQJe26OiNsgoEhxn3VLtKDUcbTBgEAFu2/FmrY2uQzjt37kQ9inS0Ru+OUBuzdIooxD7DtbsA8MEwoFQnZ2FZgMa0kQAQFBRUUFCgk9PoEW4hyp07d97s4sNc4N24cePs7e0NbUt9OXHiBMD0aI9uPtqZHXoBlRqNnTG6LwD8eQww2nl2ACwLkRADusPKHKdPn3327Jnmx1YnnRUVFadPnwYwZTjEYp38DHqDZXEnCk+S4emK9s2h1lkKA7oCo/sDwLVrN2JiYnR1Gn3h6enZq1ev/Pz8y5cvG9oWXREdHX3jxg0nJydtJcE1LFu3bgMwvA8aueowi27/LnB3xq2HCA+H2GgXFwFQqdGpFQJ8AdDbt2/X/MDqpDMtLe3E34EARgaAhLFmSAJAkigpw4lLADB1OCQSHU52MSwcbTGwB8rLy7i0ssbOBx98AODvv/8uLi42tC06Yffu3QC6du3aqVMnQ9tSXyIiIh48iHRzQEAXQGf+gVKF9q3QrR0A7DsNGGt5Q4DLTGqOIW8BwJGjxzU/sDrpvHHjhrystIcP3JyNOJYTAEkgrwinrgHAwB6gKB0WWuFyxHLdmb8DAysqjHlmDQDg6+sLIDw8PDU11dC26IRLly7B+HMGcpw4cQKg2zaHT3ModeZysixAYUB3ALgajooiY83jyUEr4O8La3MkJ6dpnqy2uiu+cOECAL+2sLXUrXSKpRBLqttBSEFsArGsjtN5AgHuxwKAb2vYWoHW8WoogkSb5rAyw6PIyPpnVDU4jRo1GjVqFIArV64Y2hbtc+fOnbi4OEtLyzcgJgnApUvBAAb3BIS6LcRGKzCoB0ykiE/FjXvQXQZ9SgBSx/FPajVcG6NzG8jLCjnR04TqpOjosRME4NsapC7dNLEUizc1/vWQ0+vUUyTC42TJxz82nbO6aXKWUCxCrb9JCudCAKCjN1ztde5Bq2k0skeXdgCg04zrv/322/fff/+6T+tZJroKc3NzzvF8M8YfXuD69etFRUWurq7Ozs66OwvLsqmpqdUnBCgpKUlKSsrOzmbqOqtw9+7dp3HxQgrDA0DruLejpmHrjO4+KCrBjftAnbKBEAREwuo8VpZFQpq4pJx8pXpqU1HVeLcvAISEhGqYt+G1Vt+9e1epKG/VBG2agtVpOScKUUkm8WmyV377lACJaaJv//QkgP6d8wUChDw0zSuiNO8gEARAYP8ZAGhkD1Ks87KoNA0He7RtBgAnT56sczuffvrp4sWLq9khLi7ulTNRWVlZd+/e1WKVY19fXwsLC27O8E1CrVaHhoYC0HU+44KCgrfffnvr1q2v26G0tHTBggVjxozZtGkTwzDKOuWkuXPnTk52RhNXODTRS3laNQb3BIDbj1CQV+seIUGgVE5cCTfPKRC88liSRLmCeOuTDn9fsxW+NI8vIKBQae0WZ5To3xUAYmNjo6KiNDnktZcbHBwMwN0Jzd11Xu1SSLGUoFLPKAHEEoilEAlBAAIRUrIkj5Nl30xOHD4iv7hUMH6Fd3qeSGii6TuHEiAxAWXl8HDGwJ76ik4l4eYIAKdO/VPnNtq0aePp6VnNDkKh8JW1xr777rt169bV+bwv06xZsxYtWrAsGxISosVmDU5SUtKTJ08A6LqEBkmSVlZW1RRq3rlzZ3x8/MGDBz///PPQ0NC65ZHk1sMM9wf0E4OrRO/OAJCQhuRM1LZWhVCA5Gzp9NUtrty3qjqWeM6XJAAByVqZqaUiBs9vJ8DQWLWn0d3HZtqqAkPTcLaHsx0yMtLj4uI0OeS1a1Dv3LkLoJkHSBOw+ppZFYuRkCIKvGFL00QPn0K/FmXJacIdp52EFPPr4UatPErDH1tYmqj2nnO69ahsyuBMiqx53p+kcCcGABzs4Omip2LxrAo926OJK5JziJycHM1Tx+/evbtr166xsbGWlpaenp5V3odKpTp06FBGRkbnzp0rKipMTU179OgBgKKopKSkf/75h6bpsWPHOjo6BgcHP336lKbpn376qVu3blopdOzs7NyoUaOwsLDw8HCtFGJtIKSkpERHR5uZmTVr1sywlty7d69ly5bcm/L27dsXL17kOhwsy2rYe8jPz+c86J4ddTi3/jw0A2d7AHiciNgktGup0XlJEkIKYAACzRrJT/wY6WitUKtBAEIKIECgUia53iFBgBKwEEJEAwRoGmBBE9hz3qmpawWEIJRaCP5hARIY+hY2H8GDBw80OeS1XmfkoygB0NlbTz8DAFCISRDP29g0PlWWnC1ZuLHptYdmEhGtogm1mixXkgAIglWrSYWaoBlCLNTsKxMiPBoALExgbqunUAE1DQ9XONpApai4c+eO5gdu3779q6+++u2331JSUvbu3cvFzQD4/PPPd+zYUV5evm3btq+//prz/oRC4aNHjxYvXpycnHz8+PE5c+aUlJRQFEXTtEKhUCgUdR41e5nWrVsDqNW1NHweP36sVqv79OlDUfrIY1ElgkeOHBkyZEjfvn2PHz8O4M8//7x161ZISMiECRNmzpx5+PDh4uLit9566/fff9d81OXZs2ehobcA+DQHo5e0kAwLEzEG9QCAhBSNVjaLKNyNNhn5lfeWUw5jvm15Icz6i41Nbz60EIqgVGPnWftRX7Ua/mWr5dvcxn7b4sRVG6kYAoKJTZat+MOtz8dtJy5v8TRVXFBKTlnVQkQxvx9zffuT1hl5wvovBmVZEAS6dwCAiIiIkpKac7m/+o5JTU3Nzy+0NEebptpf6/1KSIKFCtv+cfbxKls27RlEWLW10S9HGh1fFT2hf9a3z2QfjUpr2ljR0r08+K715IGZvq1KNR1GIHA/BgAC/AC9uJwAGAam1nCyB6C+f//+oEGDND9WLBYfPXrU3Nw8NDSUm+oJDAyMiIj4+++/7ezssrKyRo0axfXTWZZlGGbTpk3m5uY5OTkjR44MDAycOHFi+/bts7Ozv/76ay1eUdu2bQFNX8hGgUqlioyMBNC5c2d9nvfy5csbNmxYunRpWVnZjz/+2KZNm+nTp589e9bExGT16tUSieSnn34KCQn566+/TE1NNW82KysrPz+vdROY6Gv1CsuCEqJLO5y5gUdxKFdCKKghYpogQJAIjzVT08Sot7JsLFT5xZRaTUKAo5ftNxx0mzcuuW3Tkp1nnC6HW48LyCZJlFUIrtyzHtc388uJyRuPuSz503PjgidfTXo2YZn3kB45Q7vn2liotHK9BNC2KQA8ehRVVFRkZmZW/f6vluv4+Pji4lITGZq766mHKxAgK1sQnWgqFqpP37Q8d9WyrFzw8KmpSgWCYFm2qvwcy4AFWA1TFJMk5IVIywZBoHVTQJ9Jmml0bgUADx5Gan6QQCDo0KGDubk5npsiDwsLa9SoEdfrd3BwkMlk3Edqtbpt27bcznZ2djKZLD09HYAWnc0qmjdvLpPJCgsLjb3ifBVyufzx48f4962gN06cODF8+PABAwaMHDmyWbNmhw8fJknS3Nzc1tbW1dXV1tbWyclJJBJ5enrWalUoN2jbqgmEOg5LqoJlIRSglScAPE1GuUKjLEoEAZbBtMFpk0fluNgpAIIkwSix/4LjyN7ZHwzJ7uBd/tHINFtLFcs5g2BHvZU9Y0zW2z0L576X/DRNmpQmbdOkXECyHk7lrVpUiCjtrNZhAakETrbIzs7SJGPDq73OtLQ0RYXc1gpCSyj0sg6bAFuhIFU07j2xiH1mQjOEkGL7+xYIyH/vA5YAnrsnNPu2BCRSclBWDrEIHs5g9RnYT8PdBQDS02uRu5MkyZc7jxUVFa/ruKmfy9XMsmxV1h8tTq9zuLm5SaXSsrKy1NRUBwcH7TZuECoqKjjp1HNC+IcPH0ZHRz98+BBAZGQk51oyDFP1wqNpuraBZQzDcLEWrTwhoqC/25yAkx0APHkGlRKEBl4yw8LcTG1vpYIKapoAQBCgaaTliZo3loMAo4SAZM1laoYlAIjFrI2FCiqAhqUprVQJ1CzUNFgWapqAWmurHFkWplI0dUdGLpKTk728vKrf/3XSmQ6oPV31t/qSYQkbc5WlKd2nQ8HUdzJYBgzAsAQpBMP8vwrQDMHQhJBiIdR0TDo7D6VlkIjhrq85okoYNHYCgJLikoKCAisrK00OYln25cemVatWt27dUqvVFEUpFAqlUlm9MjIMo/UMm6ampjKZLCcnJz09vT7VqxsOFRUVqamp1tbWteoX1x+WZdu1azdw4EC5XD5hwgQ3N7eXd6htm0qlkvM6vdwhEILWV6YeloWFDG6OSM5EuYYnZUFy1/i/V0kJ2NwCEUiQArAsoVCRBJcWjiW4dwoLMAwIovIwhiUFJFG3eNJXwrAwlcLTGdeB2NjYGov6vVo6MzIzAHg462lwUKkiyhWkqR2mvJOxbl+jlGyxp4s8I1vSpXVR/y5FNAOFkmRYgIGdldLbs+y7ne492xXOHZ9ec/5QEtmFKJbD3hoSWyjy9HE5HDQNV0cISZSWlubk5GgonQqFosqRVCqVCoUCwNixY4OCgiZNmtSrV69Hjx4VFBRw0lm1wwvH+vj4XL58edWqVQMHDmzfvr22rsjZ2TklJeUNSIDPwUU+N2rUyMTERJ/n9ff3j4+P79ixo0Qiyc/PfzkUXyqVKhSKtLQ0ExMTS0tLTdpUqVSJiUkAHKz1mnuYYWBiAmd7JGciKxfuminGC28GhoVQhAG++efvWHdtU+hqrzx21S41R1LN5A8JECQblypOT6cszNSUNpaBsiwkYrg6AEBSUlKN+7/6nIUFhQDsbaAP11+Fnm2L2nsVowLvdCtY/WE8AdyNNpcrBGIRzTJwtlG83TXPREqrVfBwUC0Yn9zIXlFSLtAosJNAYRFUajjZ6Tt/CcPC3hoCCvLycs0TUPfv379ly5bc335+flwEkpmZ2bZt27y9vZ88efL+++/b29uLRCIAHTt25HaoOrZVq1YAJk2aNGXKlKysLLVWK/C5uLgAyMvT4/tHl3DjwtbW1mLd1ydjGKawsJDrCkyZMkUgEEyYMGHKlCmLFy9OSUkBUFJSUlpamQlxwIABEolk8ODBmq9BoGk6PSOTEkAm0et9zgJSMWwsACAzT6MnUqUmi0oplZoEQNNEYSlVoSBBYvaIVFtz1cKNzb7e4hmXKnW1q1DTBMOgqJSqUFXKlIomCksohYqkKAztnrP/otMXm5qUlAq0soKeZSEUwd4SADTxD17hdbIsy/3GNhb6kE5FBeZPTANbmYLe17vMz6cMBMCCVUKpQseW8s7tEtQVoBnQQKcWZZ3bxoOBQpO4XwKl5QBgba536WQgtoRQgIoKRdVTUSNLliyp+ptLM8wRGho6bdo0sVh89erV0tJSLj3a5MmTnz+2qhgZQRCffvppfS/gJTjH+Y3Jn8TNd9nY2OhBOi0sLPbv389N9Lm5uf36669JSUkKhcLc3NzR0RHA2rVrq8a4PT09t27dmp2d/XJf/nWo1WpFhdzOChLdL5Z7HpaFVAxLcwDIyq+56IRKjdZNSo+uimzqXK5WwNm+4sCyR852ClUF3B1Uv857/CxDKhIymfnih3FmlmZqoRDHVj10tatQKcGyaNlIfvyHyCYu5WoGC8anDO+VJyAZMxNaa3MYAliYAUBWVnaN+75COisqKuTl5QDMTPQkN8/3u5WqFwcxVer/mRl/eYfqIFBWAQDmJnrxoF+AAkFCpVLVP8X6P//8s3LlSrFYbGNjs2bNGg8PD60YWCu4zmNZWZn+T60LOPfZ3NxcpK0lKa9HIBC0adOm6p9mZmbP/xPAC5MS7u7u7u7umrfPdS8sTA0gnUIhLEwAoKCoZulkWJhJ2c4tytQ0aAZSEdo3lzMMWCD8icnec46tPErlCsG1+5Z9OuR3bFZM0+jcokzNVIZbmcj+PZaGqYzp1KKUBdTamykCA6kUAHI16Fq9QjrVarVKqQT07fzrBAIVCgB4/RI43Z4d0I50rl27lltZJBKJhEKh5otMtAg3JvgGpNHj4LoCJiYm+omH1ylcV0AihlDvlyKiYCIDgGLNXqkM+//Z8Fi2cpE3ScDGXOVqVxEZbyoUsFPfyXi7SwFJglPYKtjnjmUYKHXgDHHZhYqL6hQST9M0Fyehu0RS+oOAvBwAJJTBXgMMw9B0fafbXliurn/d5GzA/4ZDGTXcO+CVSQCMDu5aREIINFiarEVYFgKyUq8r6jGtz7Bwc1AunJxW6beqoFTpNx6GgwUlgJCCUoNieA3xfUuSEEoB1YvFfl+3XROMOVNzw8LYC0ZWwb0DBLXNWtEg4a6FJCEg9O4iEKAEAMCo65UGjmZAN4DKgQISQiFSU1Jq3PMVj4FAIOAeD+2WIf2fsxL4/1j3Fz4iUVBCTl/R7Nhl6+drnpAkCorJ6SubHQ2yrkUtFLZy8EKl1G56v1pAkmStns9q1gKdOnVq5syZL0w6paamTp06VaeJQTlUKhUM5PDqAu5CtJXV1LD8ey2G6VlVztJo6b4QCyF86XGhBBDrpXvAstzl1OxrvUI6KYri5hzlFTqRGwGJrHwq5NGrl4gSBFRqIiLONCNf/Hy8KwHQDPHwqWlGnrgWcbAsTCQAUKaoaU9dwAKAUCiUSKpNgv8vZWVlly9frsaty8zMDA8Pf0FbKyoq7t69q3n8U53hJoikUmOuRPMc3I+i0p2DUC3p6elnzpx5+eyZmZn//PNPba2qvBYaakavcZ0EQDOVdblFYo0cXgLVZX0XC3HpjnlkgvR59aQESEgTnwm11HmHh4CahlIJd4/qkj1yvMIWiUTC/RJFJTVPmdUBygw7zjgv2+YpkYALCxFR/5OjkwBEFCOkWIgqa29QAhAECAJCihG8lNmTqkZJ//U6C4t1ci01oOSmIIUaBl3v379/wYIF1ewgEAhEItELwTQEQYhEIj10PLnayHpee6M7uHeATuvLV5Nv/O7du1OnTn150dedO3emT59e2zAG7lpUStR7UL2WEGBoKFQAINNAOkkSAhLFcuK16inF8h2eRy47kM/d4wIhgu9ZLdzYVCjQ+YtBpYKahSa+zivGOgmC4HKyFpRo3+tkGARfN78ba6pQESu2u/m2Knq7a1HYI5PQKAuFgujdvtDPu4wkQBAgGPZ6qFnoI3NzE3qAb56H6/+8hykKKZmiv6/ZMiwx8q0cd0el4pXvaRamUgDIL9Z3h50koSqBSg0Tc3GNWVgA3L1799KlSyRJrlmzpnXr1oMGDbpx48bt27dJkuzbty+X8w2ARCKJioq6fv06gIEDBzZr1uyFHnR6evqpU6fy8/P9/f39/Py0eEWcY8tlG3kDsLCwAFBWVqZSqXQxWbRy5UqGYZYuXfrKT0UikYWFxcuT+9z22g4oc9JZWg6lUt9ep0KFUjkAWNT0SuXWqn/2W1Nvj9KP3stUlgEsSEFltV2arhReUyktFTMgIRRUbgcgFjFmsv9/LQhIcOs0aUarwVhE5WSXpUXNN/mrfyFra2sAWbna99RIEkKKYVlSrSYYBgIS5XJsPemcnS/KyBN/ucnryn0zimIlImb/JcdDlxzKKqhjV+xmrmn5JFn8/z48ibRs4dzfmj5Jld57YvbNZs8S+WsqnLCwNINYhEy9V1fjls/TashkUk2W04lEIm4BO7dWvaKi4o8//pDL5U+fPv3www+jo6MBCASCjIyMtWvXlpaWhoSETJ8+PSEh4fnH78mTJ7Nnz46Oji4sLJw/f752S2JwSyxsbW212KYB4QLUCwoKnl/Mqi3y8vIiIiISEhLS09NLS0tZls3JyUlISEhJSakKtyAIQq1WZ2RkJCYmZme/Oga7uLg4Pj6+xuKA3D1QWKxp+iJtQRBQKFFQAgB21jWMEAoFSEiXRCWYJKbLEhKE5QqCZpGeQz1OkaRkC/FvR54ASLClhXicLEnNEXL/fqGd/GLB42RJYrpIqdZy0TfuNeDoWHOCm1fPsDs42ANIzKhjtaZqYFn07FR6M7LwxgOrRe8nUyRoBr9+/lQmg0KBhb97Hg+2b+GWRDNEa4+y5TMSbMyYp6mieRu9Dl2ynzE0neCSSAuwNdDJxVax8et4KDBwbpvDQQ7Thme9Ykk7A1tLyKQoL0d5LihKT6kMAQhIJGdBxcDU1FSTVENt27Z9++23d+3aVZVnc/fu3QKBgKbpyZMnHz16dMmSJQRBFBQUfPXVV23btlUoFLNnz/7ll1+++eYbgiA433Pz5s0+Pj4rVqwAsGXLlm3btnXs2JFbr1J/0tPTxWKxtlozONzi8by8PC7rvnYbX7du3ZMnT6RS6bvvvrtu3TpbW9u5c+cCKC4uHjdu3EcffUQQhFgs3rJly927d7kls0uXLq0qaMz9momJiStXroyPjzczM1uwYEE1VUAoinJwdM7KTJcr9Nq7IgiUK5BXAADONb1SCQnW7G2cVyy6EWl+M7L1n19GFxaLftjbmGYItZqcOjh9jH8OCBAk8yjR5OstTR4lmJQryC8nJA8PyK98HxAQCvA4RfL9jsY5RaKiUurtLvlfTHxGkTXkCdUQVoWcAgBwcnKqcedXe5Wurq6AKFEHZbeJf1PnczObLCAWoaBEEHjVatspp9QccXKOhGFJtZrwaV5iY8uoaHi5K7t6F92NNqfpyhptIHH/qZlYyJ69YnEm1JJhibuPzV6p8gwDZzuYy1ChQlJqtaOiWkeApHQAsLAw5/qGmvD8hG9aWtrx48e3bt2ak5OTnJwMgKZpNze3Jk2aABCLxb6+vg8ePOAeM66LFxISQlHUxYsXz58/r1Kp4uLiUjQIs9CEkpISuVxuZmam08qR+oTzOjMzM3Ux3Lls2TJvb+927dr9888/fn5+Mpls1qxZO3fu/Oqrr/bs2ZOQkMANEaSnp69atWr79u1+fn4//PCDXC7n/EeSJBUKxdq1a93c3Pbt2+fr6/v7779XMxMoFApdnB0BlGi64lc7EATkFcgpBAAnuxr8EqYCK6Yn2Fkq+rQvPPpdpJerwtJM/dGItJ3fxIzvn7HpuHN8mhgUGJpIzJAM9Mvb8U3su29lrznQODZeJKIYACBRUEZ+t8O9eWP59q9jvpmSeD7M+uo9S1IbzzVJoFyJrDzg33QN1fNqr9PFxUUqk+blKxWFIEmdeGqchlICPMsUrvzLAwTbpkmpTMjKWfbfZFPAv8EWBEH8jwkkMvLELJBf7EDThKt9hW/LklembKEZONjAVIZnGUjIQMsaUvBpFbJSOjX5GTie183k5OSvvvrKysqqVatWYrG4ahZIIpFUDYSRJCkWi6vGOmmazszMfPDgQVJSEk3TJEkOHjxYw4xNNZKUlFReXm5nZ+fq6qqVBg2OTCaTSCQpKSmaZxjQHLFYzLXPjX25urpy31vbtm1Jkrxz546zs7NSqfz666+5fMaLFy8eMmTI5cuXuaFkiqLi4+Pj4uLmz5/v6uo6ZsyYf/75JzExkWvtZYRCYZMmTe7du/csA7QelyyQBMrkSMkEANOaFuzRNOysVWIhayKlXdzUqhK0aVrepmW5ogytPcrKyoWPEkxb+ChYoGub4oH+hVBg5rCMAxcdr963trVQAYAA9x+b5BSJ1gyJc3ZSu7gUXr5bGHjddkCXwvpfC0GgvKLyWjjvpHpeLZ2enp6mpibF8qInSWjtpf0FTwxLyCsEFAlCguNX7B4mmFz6+b65E9ZsFlyPsGABimQT0qSqcogkSM+kbkeb+bUqEVJEpbYwaOJc4d2kbOnUZ2XlYFgICChfNWDFMJBawtkOUfGIScA7/oDeopSEeBALAN7erTQ8gmGYKvXcvHlzcXHxvn37AMTHxxcWFgIQCATx8fGZmZncGvZ79+55e3tzY2csywoEAjc3t27dus2fP59bEsYwjLYWaD99+lQul1tYWNQqdXlDRiKRtGzZ8v79+zqK6+LKn3B/p6amfvfdd6mpqVKptKKiQq1WEwTBMEzVnJu1tTVBEDk5OdywOEmS+fn5cXFxs2fP5l6N1S/iEgqFLVq0ABCdAKX6tUHT2odEVj6Ky9DUFWJxzb1mmuHybxKgAQIPnkp/PdIoK18oFLKEgFEzXOZjwt5cBRoqJUQUa2OpKikj7SzZf08nSUoXT1nZkgUIAmUVAp+mpVpJ/0EQKC3H02QA0KTM36ul09XV1drK8mlOeuRTtNGs0F0toNGysfxQkMO3W91HvJXt5VoOBn8EugrAnr9lLZMyjJoQidir9y2/3uLhZKu4+cBSRZPvD8wkCKZCQarUBGhMG5r23Q4PpRKNHBS5RaIPBqU7WqvpV/5yLNq3wMVbuHobC2Zp9UJeD0miJAep2QCojh07aHhUmzZtGIb58MMPJ02a1LZt2ytXrmzZsqWwsDA0NLR58+YAlEqllZXVN9984+/vHx4eHhkZuWfPnvLy8vLyci4ScNGiRevXr8/NzW3cuHFeXp63t/fw4cO1ckVcVvN27dpppbWGgImJSYsWLe7fv//w4cPu3btrvX2GYar6CvPnzzc1NT169KhEIunduzf3giRJsqCggBtWS0tLY1nWzc2t6kUoFAqtrKwWLVrk4eGhVqtJkqw+kRIXgxEVB5UKlERP0kmrkZACAM3dIdWssAfDghKwEENZjM9+adapedHv855IpGgzsRO3A8uyeSUCAEIxCgqJ/GKRq4OS/jffuZBiTGX0Nx8k2Vsp1TRBEJCJGa3UaiRJlMkRHQ+RWPo67/5/9n/dB23btmZY3Hus/bWaSiUGdc37ZGRKablALqcG9yr4+oOkpHSJhal6wXvJb/kUUkLm7S65q+fEt3Ivi0+R9Wpf+Pu8x26OSpJgB3TJ83IrhwJ9Oxat++QJA/JRvImZ9N+M0q9EBd/WAJBThKIc1L94niZQAiSkICMHYolU8wihLl26zJkzh6bpoqKicePGzZkzJyIiwt3d/euvv/b19QXg4eGxePHiKVOmREZGOjk57dq1q0mTJhKJZOjQoVx/cNCgQevXr5fJZJGRkaWlpTY2Ntq6okePHgHgzHgz4LxO/PtW0DoWFhZJSUm3bt0CkJGRYWJiUlpaGhgYWFRURBAEy7ISiWT58uWPHz+OjIxctmyZnZ2dv78/V8dUrVZ7eno2adLkxo0bIpGIYRiVSlV9mpJGjRoBxNVwKFVannR+HQQBtRoPngJAcw+INUjaRACWpqonKbIbN0zkFYKsPJGJlMkvobYcd6QZgisjzIK4/sAq8JJVQrLw50ONTCSqt9oXKFUkywJqdGhW4mSjuBZhSQpYiYjJLRSZmaq18p4ggIxcsEDzZk01mTYkXrcQbf369fPnz3+nB07+CrV2g6cAgoBIDAjAKqFSQSQGKICuLIesVoISAgxAAgKAAa2EmgZJ/LuGnVu9IAQh5BY0QKV87YCskEJKJtwHwt0JR9ejY6u6LIGvLWIZth3CjBWQykzlZTVnYWngpKWljRw58vbt27dv39Zz/UidcuzYsXfffbdNmza6UM8HDx58/PHHubm5J06cyM7OXrp0KUVRffr0uX//fu/evVu2bPnbb79169bt+vXrxcXFHh4eX375ZcuWLU+fPv3RRx9FRERYWlpGRkZu3Ljx8ePHYrE4ICDg448/lr0+A9jTp0+HDRsWExPz8BjaNMGrw5y1CklCoUTPKYiIxZ/fYsYY1Fi1QUAi6K7F8h2exaWCs+sjQh9ZbDzeSCqke7YrDI2yGNYzZ+b7We9Mb+3rXZyUIUnOkpjL6MUfJHZsK//ruMPGo673dobTNKISpRuPuMalyRgWUgmz/uOnXo0q6ul4EoBAgLU78dWvGDdu3M6dO2vM4vpa6QwPD+/UqVMrTxxeh1aelWutjBGCgEgGz35ITMPauVgwAwrdJ5wUi/HlBqzZgVGjRh09elTn59Mxly9fHjlyZGFh4Zux4ruKe/fuDRkyJD09vbCwUPMoCE3gsgKq1Wq1Ws0tTVGr1SqVSiqVcl1yLuxMIBAolUqGYaqm+1iWVSqVVc8ty7Jc2ClFUdV7nWVlZVOmTDly5Mimb/DheCi0XJvqFQgpZOXCuR9sLHBsPXp3Ro0BsiwLkoRKDZWakIpZTnxpBhIRaAZgIRKiXAkJBRUNlZoUUoxYBIaBSg01A4moMoperYZSSbAECLAiIYD6RrMSBAQEAmbh6l2sW7du/vz5NR7y2u5rx44dBZQoNgGRT0AYc3IZlgUY9OsKAE9TQFfoPGZYIEBmDiIfA8C7776r25PphfDw8MLCwnfeecfQhmgZd3d3bojwypUr2m2Z00GKoqqW9FEUxa35EQgE3Bgo91+RSCSRSKrCJLh4z+fb4RZG15hU1MTEhKtDdfwSoFHKhPpCUrgRAQAtPeHuotHMPlcDXETBRMqCq6QghEwMgoBQAIoCzUAiBEuAoiCTMhQFNQ2GBUVBKqrMb0LTIElIpaxMwkrFlUu063stJMrKcfUuTEzNvL29NTqkms8mjB/HALcfgVbpdYmC9qExqCcA3ItGWrbOhzspAZIycDkcAHr16qXbk+meoqIibt3nsGHDDG2LlrG2tuaSse/YscPQtmiBNm3aCEWyGxFAuV6GO8W4chcAWniisQM07zIz7P8PrzEsGBbsv//ltrDclufGCbkdquA+ZRjtRMIDoCjcjwWAJk2a1FhGmKM6FRkwYACA0IfILdTT7IqOoGn4NAeAu9FIz4GuE2WwLB7EokKB9u3ba3GixlBkZGRwCzp1MQ1tcLglOtxkjrHToUMH98ZuFQpcvw2hjouGEARA459rAODnDei3sIf2EeHkNQBo3qyZJkGdqF46/fz8ZDKTWw+RkqFzudEpDAsrMwztAwAXQqGmdehEkyTkFThxGQAGDx6sh5JhuiYkJISmaV9f30aNGhnaFu3Tv3//xo0b5+fnBwcHG9qW+uLs7NypUwcARy8COs5uKRIi5DZSMuDmhLc6gzFIUkctQRKAAscvAYRo0KCBmh5VzWcuLi6jRo0EcOQiWP3mAdQuDANzU4z0B4BdJ1Gmy+4MSSArD+dvwtTUnHPbjR2uMztkyBBN8j8ZHTY2Nr6+viqV6sSJE4a2RQu8++4ogLwUhqwMHS87FuLvy2CB9s3QtFlliSEjRShC0C1kZMHR0V7zAf3qpJMrBg1gzyndyo0eYFn4eqOFBxJSER4FSmfvZIEUe/4BgF69erxQ9dAYSUxMvHHjhp2dXb9+/Qxti64YPXo0gJCQEK68sFEzYsQIc3OLhFTcvA+Bzjo8lAA5WbgWDgAj+2l7yYz+IXEhFAoanTt14DIbaHZQtfj6+rZt65ORhyvhoHReclWHqNRo2hh9fAFgZyCgm3S9JAHQOHAGAAICAt6A1Jbbt28H4Ovr6+PjY2hbdMW7775raWl57949PRQp0TUEQQwbNrhCidM3UFH6mkyM9UYgwo37iIiBmSkmDILKmHvrQgqJzxAUBgDTpk3V/MAavlp3d/fBg98B8PsBwJgLK7AshGIM6QmRCKeuIfkJRDpwPIVinA7G42fw9Gz6BsxHKxSKPXv2ABg5cuQbMGj7OgiCmD59OoADBw7oNGm8fpg9ezaAf64i4vErivzUHwGJ4iIcuwiFGpOHQCDRXyJHXUCSuBaO8Bi4urrV6pmt+a00ceIEK2u7K3cRHAyxXuLFdISqAv26onMrFJZg40EQ2l5gShJgaaz6CwDefXeUhvN0DZkdO3YkJye3a9fuvffeM7QtuuX9998HEBgYGBUVZWhb6kunTp06d+6cnY9/roNhtT9FIRAg8imOBQPAB0PA6n5tnu6gBMgpqBxh++ijD2t1bM3S2bJly/79AiqU2H4Can0tj9UFDAtKgrmTAODQOTyKRS0qa2qAUIK/gxEWCZIUzp8/T5tNG4K8vLy//voLwMyZM9+YUm6vw8vLa/DgwQzDHDp0yNC21BeRSDRr1iwAv+xFiVzLYYVckYzjwahQoGdHNPPQezUkrSIg8OAxgm6DJKnadhM1+l4XLlwA4Mx13LwHoZE7nsPeQnN3JGfiyAUw2gsbEJAoK8Xhi6BpDBky6A3IzBYYGHjnzh17e/vJkycb2hadI5FIZs6cCWDdunVcHRGjZsCAAT4+PqXlOHIeAq0+sEIKadlYvxsAZo2CmbQWkfANDZIAQ+DX/QAwadIELjlZLQ7XZKeOHTsOHjy4sBR/HkNZqXFHKVFifDEFAHacRHwqhFrqtlNCBIfh4FkA2LBhg3YaNRy5ubmbN28G8Nlnn2lYztPY6dOnz4gRIwCsXr3a0LbUF1dXV24IYuF6gNGm40lI8OMOABjQDX39jFg3AQglCL6NU1dhY2s3c+bM2pbS03RvrtzN/rO4dk8nEyx6Q1WBEf7o0g4pmfhpp3YcT5JAXgFWbAGATz/9lMtDbNRs2bLlzp07Hh4eXNfvv4CpqemsWbMoitqyZUtsbKyhzakvU6ZM6d6jZ2Eplv8OSkuOp1iEhHhsPgIhhWkj4eAMtdH21rlgmNXbAODdUSO7detW6xY03M/Hx+fjjz8G8M0vKCoz4nWZ3MqihZMBYMsxPHgCUb2njoWmOHQed6Ph7OzMVe8yapKTk1etWgVg3rx5b8BCUs0ZMGBAQEAAVxTI0LbUF0tLyykfTAaw8wQSkrQwrE8SoNVYswMsC38/DO4Jle6TM+kOoRm2HkfQbZiZW86ZM6cOLWgqgQRBTJkyxdra5v5jHDgDypgDFtU0BnTDpMEAsPAngK1X+JuIQl421u0EgJkzZ3LpJIyaBQsWyOXyLl26TJgwwdC26Buud/XXX39xU2RGzbRp0zp07JiUiTU7UKGor7sjlCAoDPvOAMC3MyA1MeKYJCGF1CT8eQQA5nw4q23btnVoRLBs2TINd3VycjIzMz1z5kxELN72hZO9sU6usSykEjRyxLGLiE6Eqz06twdTpxgLkoRAhE++x+U7aNO27Z9btlQlGTNSLl26tGjRIolEsnHjxrrdUkaNi4tLcXHxrVu3EhMThw0bZuxrTz3c3ffu3fvwCdq3RKsmdX9ghRSS0vDxKiSm4eP3MEsv+UB1BEkCLFZuxbFLsLS0PH/+fG1HOSvbqdXec+bMCQgISMvGRz+gsEhrcyz6R6FEp3ZYPgcAvv0dV27UJdMMQUAoxP6T2BUIqcxsy+bN2k2Xq3+ePHny2WefAfjyyy/fvOycGvLVV1+5uLhERka+AdN9/fv3nzlzpkqNz39ERl2ry3AVvDcdQtgjWJriyymga8oG35ARUrh8G7/tA4AdO3YI6prZqNbf5caNGy0srK7cwa8HQBBGHOapqsDHE9CrIzJzsehXFNT+TSAU4G4kvvgZNIv58z7r2rWrbizVE2q1evny5dHR0S1atFi8eLGhzTEYdnZ23333HYANGzbcvXvX0ObUl3nz5jVu3PhZBjYdAlWnwtIiKULuY90uAFj+EZztjHhinRKgqBQLN0BFY+jQoVyOjrpRiw47h62trYmJ7OzZsyER6NIGXu5G3G2nSLT0wP7TSMqATIo+nWsxfEMJoFBj0BwkpMHLy2vr1q3V1I0xCrZu3frDDz8AOHLkiKenp6HNMSRt27ZNT08PDw8PCQmZNGmSUS9CtbW1dXR0PHnqTOh9dbeW8PKsXaF2SoCyMrzzMfKLMKovln0IIWWso5wEAaEplv2KY0Fwd/f4448/XFxc6txaraUTQNu2bWNiYh5FxVy5izEDYGlmrG8hhkFjZ7g64e9gXLmDlh5o10ajQU+SAGWGlb/j2CXY2toeOXJEk8LNDZlr165xtUCWLVv2wQcfGNocA0MQhJ+f3/nz5x89epSWlsbFexovrVu3VijKL1+9HnwbPX3g5qSpu0MJICDx7nzceoi2XvjzWzjaG2t+OYKASIj9J7FgHSQy8+3b/uSyXNeZukinUCjs3r17+L17kVHPohMxtj+EQiNWz9aeKC5DWCT+uY7ePvBsBKbaG4skIBRh20EsWA9SINy+fdvbb7+tL3t1QnJycr9+/crKyt57770ff/xRKDTmwF0tYWpq2rlz5/3799+9e5eiKGMvlPLWW2+dPn368dOMG/fxTk/YWNT8wJIkQGDtLmw6BDMZjvyEtq2hNM5RTgIQUrgUhhnLUFaBRV8u/PDD2q1Yf5m6SCcAc3Pznj16nDp1+u7DgowcBHQBV7jOGBEK0bMDouMRFY/AK+jdEY2dX/ta5qaGjl/C1KVgGCxYMN/YAznz8vImTJgQFRXVp0+fXbt2vQGJ8rSFs7OzWCy+cOHCjRs3WrduzRVtN1IIgujYseO+ffvSs1V5hRjZr7L+z+v3h0iEw+cxby3UNJbMxHujoDDaqthCCslZmPotEtPRrVu3P//8s/7+QR2lE4C1tXWTJp4HDhy4Fwuahr8vSFJrVZb0CcNAJkN3H1wMxbMM3I/FqACYm7zitcz5/FduY/JilMoxbNiwbdu2Eca7LhVQq9Vz5swJDAx0cXE5ceKEs7OzoS1qWHTq1CkpKSkiIuLEiRN9+/Y16hIjzs7OrVu3Pnb8REQsLRGhdzew6lerJwGIZLhyG0M+gZrG4F5YMx+kGkb4cAOoHJwd+wVCH8LDw/P48WMODg71b7bu0gmgefPmXGDUzQgQgH8XEDBK9aRpWFuhuw+OX0JcCu5GYVQ/SEX/o54EAZEYd6Mw7FPkFaFr164HDhww9vXdkyZN2rdvn1AoPH/+PFdWl+d5BAKBv79/YmLiw4cPjx492q9fP6N+uzRv3tze3u6f0+eDbjG2pvBrU1nd93k4fzPyMQJmQKXGkF7YvBjW5sY6IiekwDJ4/xucvAJPz6aHDx/U1n1eL+kE0KVLF4qiLl++fDUcYNC7EwQCo+y502q4OMDfF0G3cS8Gd6Mx3B8mkso7hiQgonA3GsM+QXYBevfufeTIEWNPjzRx4sT9+/ebmpoeO3bsrbfeYlnWqD1oHSGRSPr16xceHh4TE3Ps2LHu3bu7ubkZ2qi606lTJ4lYGBQUdPYGrMzQ2Ruk4P/VkyAgpBAehQlfIT0Hff2wdSlcnaE0zhIaIiHkFZi3DjsC4eDgtH//Xi1GENZXOgH06tVLKpVeunTpajgUSnRtC6nEKN9RNI1GLujWFpduITwatx+iuw/sbQEWFIXzNzF6ATLz0Ldv3z179hi191FcXDxr1qw9e/aYmJj89ttvY8aMAcDr5uuQSCRvvfVWcHBwUlLSmTNn/P39nZycDG1U3enRo0dycnJERMTlOzAzQfcOleOeXL8qPApTlyEqHm29cOBHuLlAYZxTQyIhVGrMXYvNRwBg9+5d2p3O1YJ0AujRowfLslevXr0ZgfwivN0dIqFRxnvSari5oGsbnLmOh09x6RY6tYKbJw6fwrTlyC1Ejx49Dhw4YNS6mZKSMn369MOHD5uamh45coQrasZTPRYWFgEBAVevXk1ISNi/f7+/v7+rq6uhjao7/fr1S0xMfPDg0YVQmMvQowsELCgxroYhYBbSs9HEFSc2oKm7UeomAYgoVKjx/jfYfQoAsXXrVq0nZNCOdALo06ePubn5hQsXwqNxLwZ9fGFpDpYxvqFlWo3GjeDfCWdvID4VRy8hMQlL/kBZOXr37n3o0CGj9jhu3749ePDgsLAwCwuL06dPBwQEGNoio8HGxuadd96Jjo6OiYk5cOCAt7d3ixYtDG1UHREKhUOGDFEqlTdv3rwQCkYJv9a4cANDPoFCiZ4dsP9HtGwChRHWayMJCIVIysDoBThzHfYOTrt379RFIhutSSeArl27duzYMTQ07M7DghPB8PaEpytIIxz6pNVwdcbIANyKRFwywmPAMBg/fvzRo0ctLS0NbV3dOXLkyNChQ3Nzczt37vz333937tzZ0BYZGRYWFkOGDHny5ElkZOThw4elUmn37t0NbVQdEQgE/fr1s7GxuRR05fJt9YVb2HIE5UqM8Me2pWhinP4mSYKicPYGJn2De9Fo0aLVwYP7dVQHW5vSCaB58+aDBg0MDw+PjE49eBYSMdq3gFRiZJ13AQlSgIePEXwLKVkAIJFIfH1927RpY21tbWjr6kJGRsbKlSvnzp1L0/S77767b9++//hSyzojkUgGDBiQmJgYFRV16dKl3Nzcnj17Gu9KTT8/P2tryzNnzqTnQKlGgC/+/gVWVlAYYWFQIQXKBFsOYc73SMtG69atDx480LFjRx2dTsvSCcDGxqZfv35Pnz6Nffz0UhgePkHHFnBsBKiqC8FtIBCAWAyCxJaDmLEcT1Pg4uIyffr0W7du3blz5/Tp082bN2/atKmhzawd3ELsY8eOAfj8889//fVXK6s65YHgAQBIJJIhQ4aYmJhcvXo1LCzsn3/+6datm6Ojo6HtqgtPnjxZvHhxVTmmkjK4OaJNk/+Zdm/4CEiIRCgowrzVWP4HKpTo1avX4cOHa1tuqHYn1bp0ArCwsBg2bJitre3NkFtRTxWnrsBcglaekEqBatcwGBAuLIMSIyYOY7/AxoOoUKJPnz779u2bNGlSz549b9++/eTJk6NHj2ZnZ7dv397U1NTQJtdMWVnZ559/Pnfu3JSUFGdn5507d86dO1ck0moh0P8kFEX17NlzwIABISEhUVFRu3btUqlUrVq1MqI435ycnN9++23SpEnPnj1r3779hg0bTExMQsMeHA/ChVto64VGjgAa6NP6PEIKKhXO3sS783HxFiytbJYuXbJx40Y7Ozudnlcn0glAJBJ17dp1+LChDx48eBSTcvIKzt5E00ZwsoNUVsMicf0jpEAJkJCG5ZsweyWeJsPe3um3337dsGEDt/DAw8NjwoQJBEGEhYXdvHlz7969EonEy8urwVbZLSsrO3To0HvvvXfhwgWWZWfOnLlv3z5fX19D2/VG4erqOmrUqOTk5AcPHly9ejUoKKhly5aNGzc2tF01c+XKlfHjx+/fv1+pVI4cOfLQoUN+fn4jRoywtra+eTMkPllx8BzMZGjhDlMLMA0134eAhMgMj+Ow6Fcs+hkFxfD2br1v754JEyboIQ+DrqSTw87OburUqWZmZrfv3E1KKd99Cll5cLaDoy1EogYxAEoJIBQjPRt7/sGc73EuBCqaGDZs+K5dOwYMGPB8qKNEIunbt2+HDh0iIyMTEhLOnj1748YNGxsbd3d3impAOZ9Zlg0ODv7888/Xrl2bn5/ftGnTP/7448svvzT2hOcNE1NT0+HDh9vb24eHh8fHxx8/fjw7O7tly5YNdjqRG/VesGBBcnKylZXVd999t3bt2qp7w8/Pz8fHJykpKT4h5exNxCTAyhTN3UEJG5a7Q5IQmUBZji0H8cV6XLwFAFOmTNm0aZOPj49+bCBYvXjkISEhW7du3blzJwAnW4zwx6Qh6OILKKFSGmAKniBACUBKkZeF3adw+AJuPQSADh06zJ49e+rUqdXkjs7JydmxY8cvv/ySnp4O4O233548efK4ceP0Znw1nDt37sCBA7t37wZgZmb22WefTZ069Q2o0NnwSUpK+vHHH7kKzJaWljNnzvz2228b1KhOaWnpkiVLdu7cWVBQAGD27Nmff/75K0cDy8vLDx48+NFHn5SXl5EEBnTD0lnw6wBWBYY1ZBXMyseWAMNg92n8fhB3owDAwcFhz549ffv21eeyDj1JJ0dISMjy5SsuXDgPwESKgT0wZyx6+EBIgQVoGoyO40BJEiQBkgRBIiUDu09i2wkkpQOAnb3Dt4u/+eCDDzT0znJzc9esWVNVOrFNmzYLFiwYOXKkQZ4WhUJx7ty5tWvXhoaGMgwDYMaMGUuWLDHqsG1jJDg4ePny5deuXQMgFAqXLl06cuRILy8vA/ZL1Gp1YmJiYGDgokWLaJoG0LVr11WrVtWYrTInJ2fRokUHDx2VlxUDGPc2pg1Hu+awswbDQE3rdRiUJCCkQLPIysON+/jxL9yLAQArK5vFi7+eN2+e/kz5F71KJ8f169dXr/7xytUb8rIiAI2dMG0Ehr0FFwdYW4AQgFaBZrT5w5AkhBRAoKwM+cW49RA7AnEhlBsxoFq0aLZ27Y91S7Wfm5v71Vdf/f3337m5uQDMzMzGjBnzwQcftGrVSg9hTEVFRXFxcbt27Tp8+HBWVhYABweHoUOHLly40MvLS9dn53kdhw8f3rx58+XLlwEIhUKuU+Ln56fn12pFRcWNGzcOHTq0d+/eiooKAH379p08efLEiRM1b+T+/fsbN248dvzvosJ8AL06YMa76NYWno0AAdQKnS+5FlIgxVDK8eAxzt7EgdOIfQYATb2ajRwxYv78eYZKJWEA6eQIDw//88+tFy9eTExM4LYM6okePujkjebucHMCRIAKtLqOMkqSEAoAIUCiOB9PniE6ASH3cS4EzzIAQGZi3rGDz5QpH0yaNKmeTkF+fv6ff/55+PDh+/fvc1s6deoUEBDg5+fn7e2t9QTySUlJ0dHRd+7cCQoKun79OrexVatWo0aNmjVrVn1qBvBoi4KCgpMnT/75558hISEApFJpr169evXqNWjQID0Mxt2/fz84OPjKlSuXLl3iRNPPz2/8+PFTp06tm3wHBwdv37798JGjapUSQMcW6NEBb/minx9MbAAlaGWlhtZfTgiiMtwFQkCE5DhcvoMrt3HpNlKzAMDJyXnKlA/ef/99ncYe1WynoaSTIzIy8vr162fOnDl3/gKtVgGQCtGhNZq6oIUHOrVGS0+4OANigAZogAGYFyOcuIp9IAASIAEBQECeh8dJCI1ERAyy8vDgKZ6lV+7fqlWrwYMHBwQE9OjRQ4sFhTIyMkJCQi5evBgYGJiZmcltbNOmDZcll/ujzjGhz549i46OjoiIiI6OjoqKqtJoKyurwYMH9+vXr0ePHvyYZkOjuLj44cOHu3bt2rZtG7fFzMysSZMmI0eO5N6sdS7H+DI0Td+7d+/ChQuHDx9OTEwsKanMSzxjxozx48e3b9++nuVaaZp++vTp6dOnf/11Y3JyEgABATcn9O2Kfn7o0xk2VgALlgAJsCwYFiwLFq/NqUwAICqFsrJAJPv/43V3o3H9Hg5fQFIqsgsqN/bu3Xv27Nm9e/duCIuhDSydHHK5PCkp6cqVK+fPnz956gzYymgIqRCWFrAyRyNHeDWCmxOc7WFlDgtTmEohFINgQTMor0BxGYpKkJWH1EzEpyEhBdkFKCxBUen/n8Xbu/XAgW8PGzasWbNmunPyWZZNTU29d+/e6dOnz549m5qaym0nCMLGxsbS0tLBwcHLy6tp06aNGjWysbGxsrIyMzOTSqUkSbIsW15eXlpaWlhYmJubm5KSkpiYGB8fn5aWVlBQkJ+fr1ZXfjMikWjMmDGDBg3q2rWrq6trg5ri53mZkpKSvXv3HjlyJCIigpul4ejbt2+fPn18fHw8PDzMzc2lUqlYLJZIJNVIKk3TCoWivLy8oqKiuLg4KSnp/v37QUFBwcHBVfvY2Ni0atVq5MiRU6dO1UXa/9OnTx84ePDmjdCUlHSarlx41MYLfTqjfXN4NYadNUwkEIsgFkEkgkgAQgCQAAsQAAswUNNQqaBSo0KBcgXkFcjJR2QcQiJw+TYy8irPZWJq5d7YdcCA/lOmfNCgUso2COl8HrVaffXq1cuXL9+6FfY0LqGoqKSkpIyhy1G7CSShVCYzNzdzdLDr1KlD9+7d+/XrZ5A5E2653oULF6Kjo8vKygoLC1WqWuc+pCjK3NzcxsamZcuWXbp0GTBgQIcOHXRhLY+uSUpKOnXqVFBQUGJiYkJCQmnp/7/bnZycmjRp4uTk5ODgYGtra2lpySkp9yknl4WFhTk5OTk5ORkZGXFxcVWrgDjatWvXuHHj/v37v/POO+7u7rq+loqKitOnT58/f+HRo0fPniWnp6dWfSQVoYUnnO1gbwM7K1iZwUQGsQgUAQag1ShXoaQM+YXIKUR2PpLS8DT5+bYFnk08Gru5de/ebeDAgd26ddP1tdSBBiedz8OybGRk5OPHj589e5aSkpKRkVlSUlJeUVEuL1eqlLSaZlhWQJIikUgsFkmlUpmJiY21daNGrm5ubk2aNPH29tb1ioJa8ezZs6ioqKSkpNTU1OTk5MLCQrlczj0SNE1zmYYFAgHnd8hkMnNzc1dX10aNGrm7u7dq1croFoDyVENCQsKTJ09iY2MfPnz49OnTuLi4qkEezXF0dGzSpEmzZs1atmxpb2/fq1cvgwza5OXlPX369O7du3FxcY8fP05MTHz8+ClQu/kjUzOLJp7unp6ebdq0adOmTZMmTZo3b96QC3Q3aOl8GbVaLZfLy8vLFQoF574RBCESiTitachf9CspLS3lel4qlYqTTqFQKBaLpVKpiYkJSZKGNpBH56jV6tLS0pKSktLS0uzs7JSUlIyMjOzs7MLCwrKysqKiok8//fSXX36xsLAwMTGxsrKys7NzcnJq1KiRvb29mZmZiYmJubl5wxmx4S6EG3R69uxZZmZmRkZGXl5eaWkp98xyN7lMJrO0tLS1tXVwcHB2dm7UqJGpqamZmZmpqWmDXaH3AkYmnTw8PDwNAd6v4eHh4ak1vHTy8PDw1BpeOnl4eHhqDS+dPDw8PLWGl04eHh6eWsNLJw8PD0+t4aWTh4eHp9bw0snDw8NTa3jp5OHh4ak1vHTy8PDw1BpeOnl4eHhqDS+dPDw8PLWGl04eHh6eWsNLJw8PD0+t4aWTh4eHp9bw0snDw8NTa3jp5OHh4ak1vHTy8PDw1BpeOnl4eHhqDS+dPDw8PLWGl04eHh6eWsNLJw8PD0+t4aWTh4eHp9bw0snDw8NTa3jp5OHh4ak1vHTy8PDw1BpeOnl4eHhqDS+dPDw8PLWGl04eHh6eWsNLJw8PD0+t4aWTh4eHp9bw0snDw8NTa3jp5OHh4ak1vHTy8PDw1BpeOnl4eHhqDS+dPDw8PLWGl04eHh6eWsNLp/GxadMmr5eQy+UAVq9e7eXllZSU9MIhs2bN6t27d9U/X7dbYGCgl5dXYGCgJmYkJSVx7XCMHj36hQOTkpK8vLxWr179woFhYWFVZ+ndu/fL18LBHfjKi6060aJFi57fPmvWrKCgoGpslsvl3G4vbNy7d+/z7ezdu5f7Pqvo3bv381/grFmzvLy8Fi1a9EL7vXv3fqFxnjcVytAG8NSa4uJiABcvXnR3d9f8qPT0dLlcLpPJtGJDYGDgggULRo0aFRISYmdnB2Dv3r0LFiw4c+bMhg0bNDlLSUkJgKtXr3L/lMvl7dq18/f337Jly/O7VX+xBQUFzs7OXCM5OTmLFy+ePXv25s2bAwICNLyQpKSkyZMn29vb792718/PD0BQUNCKFSu2bt26a9eu133DsbGxAI4dO9a1a9dhw4ZpeC6eNwne6+SpNVFRUQsWLPD391+9ejWnmwAmTpy4dOnS4ODgnTt3GsQqOzu7qVOnAti8ebOGh8jl8oULFwLYtGkTp5sAAgIC1qxZk56e/sMPP1RzrI+Pj7Oz8969e+tnNY+xwksnT63Zs2cPgDFjxrywfcCAAQAOHTpkAJsAAA4ODgCys7M13P/ixYsRERFjx46tegFw+Pn5+fj4BAcHR0VFve5Ya2vrGTNmREREaDi+wfOGwUsnT60JDQ0F0LZt2xe229nZ+fj4pKenV6M4OiU+Ph5A165dNdyfu5DmzZu//FGfPn0AxMXFVXP4yJEjfXx8Xh4Y5fkvwEsnT+1ISkpKT093dnZ+wVPjsLa2Rk2KoyOSkpIOHz4MYNKkSRoewkmno6Pjyx+Zm5sDiImJqeZwmUw2ceLEiIiI48eP19pcHiOHl05jpV+/fs/PLBvanEo8PDx00ezzF/vClH16ejq3vV+/fgBCQkK8vb1r1biJicnLG83MzDQ5dtiwYT4+Plu3buUdz/8a/Ay7sVLbGXb9kJiYCMDU1FS7zVZzsVUz7Js2bdqwYUNISEhtp7zLyspe3sgFAHC+Z/XMnj179uzZO3funDNnTq3Oy2PU8F7nfwVnZ2etRCbZ29sDSE9Pz8nJefnT/Px8vKYL/AIaunWaM2fOHH9///Xr12vuALZo0QJAZmbmyx9xQVEuLi41NhIQEODv779hw4aX42R53mB46XyjcHV1xavcqPz8fE7y6o9MJvP39weQkJDwwkdJSUkRERE+Pj5cl5k7Y2Fh4Qu7lZaWQgeeKYAxY8akp6dfvHhRw/179uwJICMj4+WPLl++DKBdu3aatMMFRR08eFBTQ3mMH1463yjat28P4P79+89v5BRNi5HbgwYNAnDixIkXtp85cwbAxIkTuX/KZLJRo0aFhoa+4AbeuXPH2dlZ83lwzQkICNAk1tLKyor7o0ePHgACAwNfsDAoKCgiImLatGkaDon4+fmNGjVq+/btdTGaxzjhpfONwtvbe+7cucuXL6+Sj7CwsIULF/r7+1cpWv0ZNmzYtGnTjh07tnr16irRWb169YYNG6ZNm/a8Rs+fPx/A3Llzqzqzq1ev3r59+5IlS7S1rukFxo4dGxERERYW9spPIyMj8Vz0kru7+7p16yIiIlasWFFlYWBg4OzZs/39/T/99FPNzzt79mwA6enp9TGex4jgp4neNObMmePi4nLmzJnly5cDcHZ2njFjxgu6yc1+cFPSVTx48IDrRC9YsGDBggVV26tWKD7PokWLWrZsGRoaWtWlHTVq1MsrIO3s7I4ePXrkyJGqc40aNeqVDb6OV5q6bt261znRvXv33rBhQ3h4+Aun6N27N6drL4j7sGHDHB0dL1++XHUKHx+fatrneHn0w93dfenSpcuXL69yaXnebAiWZQ1tAw8PD4+RwXfYeXh4eGoNL508PDw8tYaXTh4eHp5aw0snDw8PT63hpZOHh4en1vDSycPDw1NreOnk4eHhqTW8dPLw8PDUGn41Ec//oFQqGYZRq9Usy5IkSRCEQCAQCoUkaXxvWbVarVaraZpmGIazXyAQUBRFUfxtz1Nf+Hvov0tZWVl6enpmZmZubm5+fn5eXl5eXl5RUVF5eblSqVSr1QRBiMViiURiZmZmbW1tY2NjbW1ta2vr4ODg6Ohoa2tr6Cv4f2iazsjIyMjIyMrKKiwszM/Pz8nJKSgoKCsrUygUKpWKJEmBQCAWi83NzS0sLGxtbS0tLe3s7Ozs7BwdHR0dHXk95akV/O3yn+P27dt37ty5fz8iJSU1PT09PSMzP0/TOmgATM2snBztHR0dnV2c27Vt27lzpw4dOnB1NfRPQkJCWFjY3bvh8fHxmZlZqWlp6enZLFOh4eGUUObkWCmdLVu26NixQ8eOHZs0aaJTm3neDPg17P8J8vPzAwMDjx07Hh5+v7C4tEJeVPURRaK5B9yd4WQPRyvYWEEmhVQESgCahpJGWTkKS5CVh6xcJGcgNgnFz6UDpUQmFuZmLZo3HTZs6MiRI/WjO0FBQUeOHL127UZGRlZhYQGgrvqosSM8XOHqACdb2FrDXAqJBCIhwEKpRoUChWXIzUd2HlJz8CQJaf/z1hBaWFqYmkiHDRsybty4bt26CQQCPVwOjzHCS+cbC8MwiYmJV65cOXr06Llz57iNYiHsreBgi3d6ok1ztG0KLzeABBiwBAgWlXcDAbAAAYL5dyqRBQgAYFlk5SIqAZFPsfc0CoqQX4jCf8W0eYuWY0a/O2bMmKZNm0okEi1eTk5OTmRk5P79+w8fPlpSUin9tpawtUQjB0wcjOYeaNsMUgnAVlrL3doEC5b4/z8IVF4pdzll5YiJx6N4hD7AtXAUFCMrv/KMpqbmo0eP+uCDD7y9vW1sbLR4LTxvALx0voGoVKrQ0NDAwMB9+/ZnZWUCkIrh1xqdvNGjPTq3gbM7oALUYNSg6X/lsko3XwVR+X8QAElCQAEUIEJZLu7F4NRVPHqKh0+QlgMAAoFw7NjRgwYN6tOnj7Ozcz0vJyoqKigoaPfu3eHh4dyWds3QsRW6tUNnb7RtA1CAElBDrQbz7zVUc19XXQsAkgBFAQJABNCIjsGxi4iMQ2wSIp9W7tOjR48RI0b07dv35frJPP9ZeOl80wgMDNy6ddu1azdKSgoBdGqNvr7o1QGdvGHnDChBq6CmtXY6AQmKAsQoLcCDxwiPRXAYAi9XftqxY6cZM2bMmDG9bhP0UVFRW7b8efr0mYSEOABONninF3p1Qpc28PIASLAqqNTVqWStIAgIKRASQImYONx7jGt3cTwIuYUA4ObmPnbsmNmzZ3l6emrnfDzGDC+dbwgMwwQHB3/99Td37twHVCSJEf6YMxZtvWBjAYKCWgVae4r5MiQJIQUQKC5BSia2ncCBs8jKA4AWLb1nz5rx/vvva54GOC4ubv369fv2Hy4uygPQugnmTsLb3WBtCYkUjBpqdXU+cj2p1FASSgXSc3D2JjYfwsM4ALCxsR8xYuiiRYv42aT/OLx0Gj0sy16/fv3rr7++efMmABcHTHwHs9+FeyOwNBgGNKM1v0wTBCQEAhACFBXiWDDW/IXHzwDA2dl11arv3nvvPZFIVM3hz549+/HHH7dv36FUVohF6N0BX81Adx8IKdA0GOb/u+R6gCRAkhAIwLC4eR8//IULN0CzAIh58+YuXLhQk9qfPG8kvHQaNxkZGT///POaNWsAyMSYMQqzRqNlWzDFUNN6VcwXIABSAEqG/GxsOYq9pxEdDwDjxo37/PPPX1lgQ6lUHjhwYOXK7+Lj4wD06oAvp2JQP0AJlRIMo+cr+B9IAkIxIMThU/jzCIJuA0CrVq3mzZs3efJkPib0PwgvnUbMwYMH165dd+9eOIAJgzB5GPp1AQCF0sCGPQ9FQSDA0yQcPIfvt0GhhLW17ccfz+FKJ1Xx5MmTlSu/27t3D4BOrTB7DN7tCwtzKJWGfAG8AEFAJEFJMU4EYd3uynmk8eMnrFy5gh8A/a/BS6dRolAoPv30sz//3AKghTtWz8XA7hCJGpbQPI9YCIbF4yR8uhqXwgCgR8+ef27Z0rJlSwB//vnnJ598plRWAFjxET4bD3MT0Iw2p7O0iEAAikJ2Hn7Yhp/3AYCVte0fmzaOHTvW0Kbx6A9eOo2Pa9euzZo1KzY2Vkxhykis+QxmZlCpDNylrRGCgFAItQpHLuL7rYhOgJmZ+Y8/rn7y5MnPP/8MYEBXrJuP1i2gVoBu2NcCgBJAIEbsU3y2BhdCAGDatOlLlnzr5uZmaNN49AEvnUbGli1bvvjii+LiYp/mWDsPfbuBUUOlrvnABgJJQmiKZwn45EeculK50cUe00dhwfswNYWyQodT59qFAEQSlJfhx534cTsqVPD29v7rr798fX0NbRqPzjG+dDj/ZX744YfZs+cUFxf37oQ9q9C3N5QKY9JNAAwDZQkat8Ho5yqrm5lg7kSYWkFhPLoJgAUUFRCJsOxDbF8Be2tERUW9N35CaGiooU3j0Tm8dBoHZWVl06ZN+/rrrwFm4WQc+wneTaAoaaAjm9VAEBCJcWgfPvkBAJo2gpMtYhPRdybC70MsAkHU1EQDQ01Dpcb4QTi3Cb07IiE+bsjQYYcOHTa0XTy6hZdOIyAxMXH48BF//fWXjQWO/YQ1X8LCFEqVoc2qPSQBAYl1f2Hclygqxbi38eg4Lm9Hs8a4G4Xhn+P0dYiEMDbxBMNAqUL7ljjzO6YNR15uzrhx7/3www+GtotHhwiWLVtmaBt4qiMlJWXUqFE3b96wMceu7zFsMJTFeg0L1xbcEp3lm7F4IwB8Mw2blkBAwNYe/h1x6RYS03HmOrq0QZMmoI3wxUDTEIsw5C2UyhH6kA0KCiovL+/Xr1/NR/IYIbx0NmgUCsWIESNu3bplYYrtyzE0AIpSQ9tUJwhAZIvfduCrXwFg3vv47mOwDNQ0aBWcbNG7E8KjkZCKmxHo2wlOLqAbUnSqhjAMCKCvL1QMbtzHzZs33d3dfXx8DG0Xj/bhpbPholAoxo4dd+HCeRc77PgOQ/tAaYRqAoAkIJJhz2HMXgkA332K5bMB/H8EEsPA2R4BXfDoCcJjcPk2OrdEYycwDTKus3pYFgIB+vnBVIaLt3D23CUPdzc+5dKbBy+dDRS1Wv3xxx/v37/f2RaH1yGgO5QK45sUAje+KcCuQHz4HVQ01s7HoumgVS+OOdA07CwxrA/O3EBUPK7dQ9c2cHU0ggDPl2FYsEDPHhDQuHRLdfr0OQ+Pxrx6vmHwcZ0NlFWrVn3zzTcCAsd+wbC3oSiq+ZCGiViI0zcw6SsUlGBUXxzdCFXZa6P3xVLEPEHADGTkobUXgrfCyswo1RNcBKsQUxZj50mYmpqdP3+uW7duhjaKR2vwM+wNkcDAwG+++QbAunkY9haUxYY2qK6IRUhIx9RvUVCCds2w+VvQ8upWPSnK0bIJtq2AlTkePcWanaCsjW/CnYNhQNP47mP08EFpacn06dMLCwsNbRSP1uCls8ERExMzcdL7AGaOxJxxUDXUZek1QpKABJ+vRnYB2jXHnlWwtah5WbpShUE9sHkxTKRYtxN79kEkNb5gTw61Gk72+GMx2jVHTEzMhx/OMbRFPFqDH+tsWCiVylGj3o2PjxvUA799DROp0XZXCVACrNqCzUfQ2BG7v0eH1lAoNDqWYdDWB0UFuBmBy3fQoQWauRnr98AwcHaEbyv8fRlhdx6JxeKePXsa2igeLcB7nQ2LVatWhYTc9HDBxq9ga21kiyyfRyjEmRCs3g4AKz+Brx8U5Zoey7JQFePHufD3RWEJlm5CRg5EQt0Zq1sUFejQCcvnAMD33/9w+vRpQ1vEowV46WxAXLt27af1GwAsmQ2PplBoWk68wSGikFOADbtRKsfg3pg0GKpaTnNx46EbvoCJFLceYssxsKyxdtsBqIsxeTD8/VBWVvLDDz+oVEYY8c/zv/DS2VAoKipatOir0pLisQMw7m2ojDP0HQBBQM1g3U4EhcHGCr9/DbZOVTGUCrT1wvoFALB8M+5Go9rCHA0amoFUgl8WwtUBN2/eXLt2raEt4qkvvHQ2FL7//vvQ0BBPV6yZC7GwoSffrAaRCNEJWLMTAL7/GG6OdRx2YAGVCu8NxOTBALBoAxgapNE6nko1WjfDtzMA4JtvvklISDC0RTz1gpfOBkFWVhbniUwYBDcnIx7iJAiAwvx1ADD2bbz39nN13msPw8LMDJ9Pgqs9Lt/FgbMQmmjPVv3CsqDVmPAO+voBwFdffWVoi3jqBS+dDYIVK1YAaO6O6SPBssYajQRAJMHN2wgKg6kMM0bCXINopOpRKuDTAu8PBYCNB5CXDUqgFUsNgJqGiTk+Hg8AJ0+evnz5ck1H8DRceOk0POHh4fsPHCaBn+bBzc0os8lxCAQoLsayPwBgxigEdIWy3jNdLAuaxpKZsLHArUjsCIRAXH9LDYZSjmH9MXMUKirKflyzpqSkxNAW8dQRXjoNz8aNGwsLcru3xztDoSgztDX1gBLgxCUEhcHGEl9NA6PWjvuspiE2xQ+fA8CmQ4iIgtho54tYgFXgq2kQEDh/7kJgYKChLeKpI7x0Gphbt24dPxEI4OcvAKNdqA6AEiA7F/vOggVmvQs7F22O2NIVGNsfVuZITMPJy2AZY12dCUClhrsLPpkIgNmxY0dZmTG/Lf/D8NJpYE6ePFlcVODvi7bNYdTRfgISd2JwMRQAJr0DVquCQNMwkeHr6QBw4ByKy0Aa7Ygny4Jl8N4ACCkEBwc/evTI0Bbx1AVeOg1JWlra779vAvDVNFCkUeZ+5yBJlCmw7RgATB4Kz0ZQazVIgAUIYEhvNG2E2ERcvGXEk0UA1AxaN8UHQwHg999/N7Q5PHWBl05Dcvjw4eLiol4d0a45VEaY1rcKAYnUDPx9GWIRPhgKkUj7rwE1DS83jB8IABsPAEZYwqgKhoFMhnEDYC7Dnj178vLyDG0RT63hpdOQ/PnnVgCDesDO2ohj4AGQEuw/CwD+neHtpWWXk4NlQQrQrxucbHA1HPGJoCjtn0VvqFXo1Bo9OgDAjh07DG0OT63hpdNgxMTExMbGuNijdycYU/XxlyAACHDwLAD08YWdNWjdeNAqJfzaoEMrADh8DqRMJ2fRDzQDc2sE+ALA0WPHDW0OT63hpdNg7Ny5E0D7FujSzohjOQGIRAgLw5NkNHbGwO5gdTbywLAQSjG8DwAcD0Z5IUhjvn+ZCgzzh5UpoqJiQ0NDDW0OT+0w5lvPyDlxIhDA6H4AacTLhwBAVNlb92mG1q11+xqgKzDcHzIpnjzDjfsQGm0mOgAqNZq0QgtPlJYUnDp1ytDm8NQOXjoNw61btzKzcq1M0a+bbqvmCimIpRC8/ncmCIjFEMsgrpMMkSQUpbgWDgAjAgAdT3apadi6w9sTxaW4GQHobJ6dEkAs0/08fjkmDQWA0Fu3SkuNNlnWfxJeOg3D1avXSorzvL3g1Ki+q7yrQUjhYZz02z8aZ+ZTr1RPggBJYO9Zu7nrPP+5aUUSENZy7kVI4cETZORALETfLnopni7Hu30B4MFjlBTVsc8uEkJs+to3CiVAQrr4643uT5IlL6gnAVACrSVwYpR4uxsAJMQnxsTEaKdRHr3AS6cBoGn6wYMIAEN66dZNI0mk5oiPXLYvLqNeKTEiCrvOOmwJdLaxVJtI6MJSQWTCi2JRAxQexiIrH2YmcPHUydz6i6jwdncAePAET5IgrL1jKBLi2n2zsV+2zMyjXimCJIm8IupQkENOofB5eSUANYP4VHFeiUAr6knTcHVAS3ckJydFR0droUUefcFLpwFISkqKjo4BMKAboGM3jRKwUhHD6SZBQCyEWAKxCAQBggBMcDjIfnD3/MWfJ/fxL16wsemvhxsJrDTtqBIEVOUIjwWA6aMAvUx2qWk0cgSAxDTcfwJo7CZTAoiFEFIgRBCLWJmYVqor738hBbEYYhFEVOWXIyBZqZgWUixEEEsgEoIgIBLjSbLsnS/aJaZLtZL+jgVIEgO6A0BYWBhf2duIMObQOKMlNTX18ZM4gkBz/bhpAACSBK3EpQjz+FSpu5Oil0+hkMLZYMvcYmFCmuTkKSuFUsA5WX/tt+/Suqips6LG51hAIiMHj58BQHcfPUkny0AqwZgBOHweGdlglCA0CO6iBIhMkBSUiBytFE9TZS3d5cN751qbqwgCQgFinonvPbYwk6k9nCpSskV9OxWSBAQkyhVkcKh5UqbU26O0Y/OyjGwq8JqtREifC7VJyxYP65lXz8h/lgVJoLsPft6HyMjIoqIiS0vLerXIoy946TQAqampFeWlPdqDhJ7m1kmCZWhsO+l0+paNm4Pi8GVJVJJs7tj0J8+kKhWRlCl5GG/K0ERhCUUJmZCHFq08ykhCQddkG0kitwiJyQDQ0hOsXl4DLECR8GmGw+cRGQe5EmKq5q9RIERYlMXBi44WpmpbS2VOftHKXR4Xf46wNFNcu2+6YoeHo7VKRDHPsiQ0Q/p5PxQIWLUam/92sTBRp2RL8ktcvpsR38xNHpNiwrJEVKIMBEb0qq90ctfT1A0AYmIel5SU8NJpLPDSqW9Ylo2MjATQuTVIfa1bpwTsw3jp8Wt2P36Y4Nu29M4jk+mrWnRuWfLZpIyjVx3e6Zr36eh0CJCQIRUKmK1fPVUoUaNuAiAI5OYjKRMO1rAy1+iQ+sOyoMRo3xIAIp+ivAISc42GjGViJiZZtnHu48Hd8m8+spCKaaGQzcoTrD/U2K918aLxyeUq4oddje/EWFIkSxDILRJ1bpk5Y2iaQkn+sKfxH3+77vk2at6Y5KmrW300Mq1Hu2K1NhaAsYClGbzc8DQ5p6ioqFGjRlpolEf38GOd+qasrIybS/VpDoFAL14nAYGADQq3NpUxIJg7j0yKSgQMSzx4YgIpCAaUgIUIICEgWIJkIdG0YZZBQhoAdG4NsX6upfLEsLOCqQliE6FUajrfTTOEk43irQ5FElMQBMuyhIBkswuE8WnSvh0KzMxZezumY8sSNU0AYBjYWyl7tiuwNGcdHGi/ViWp2WKFkhCJGIJlhUJGqKWcoQwDMxlaegIA907lMQp4r1PfVFRUxMcnAHB30V91XBJsYRGVkStat79xhZIUkGjlUdrIXgEaLMCCAANwI4Zs5d81QhBQqBGXAgBebqCE+pNOhoG5DO6OeBSPwlI42Wl0FAtIhKAZ4LkSJiqaUKkIAcWCAQiwLPH8/jRNctvVNEsAIEjuQFbjb6nma2Ehk8DdGQCePn2qnUZ5dA8vnfpGoVCkpKYBsDDR39J1FoSDncLZVvHzZ3EyqYqmCYAQC9kXJnbUNCER05BBIAddkzQQBNRKJGcAgLszKIEOA1RfgGVhYgInOzyKx7N0eDfR+MCX25EwEjHzLFMKUQloFBRTJPGaX4WoPEShIimKhVg702IsC6kUznYA8OzZMy20yKMXeOnUNxUVFcVFBc62kEr0MdBJM4RSRSqU5Ltv5Z6+abdkm3vfzvksSygUxJCeeaZglWqC66KCQYvGZf/ctP3uZ9cJ/bIbOSirV08uyJGTTjcnCPQonQwLEykcbQAgOUPTYSeahlJFcG4jw0CpJlRqwsNJ8V5A5raTziXlArWaOHjJXixiWIBhCKWKrEpnRTOEUkUwDMxltJmM3nHaKTM3b0iP/BpfMBpBVl5LYlKSNprj0Qf8WKe+4Sp52VtDItZ5D5dlYGWm7tyiiKJYR1v1Hwtim7hU/H3V/nyYdXG5UK0GVOjQvMTZRgEaKiWmD8vw8y6+E2NeLNcg5JuAWoX0XAAwN9XthbwAy0Imhq0VAKTlanYMA3trVccWxZSABQ0LU6aLd7FQyAopzH8v7aORqSEPzVUqYlivXIYByxAmMsa3VZGpCc2wAA0Ha1Wn5iUEwbo7KZdNTSgsoWKTZVrMGGpuBgBpqelaa5FHxxB8FK6eCQoK6tu3b68OOLQOtpa6ys9WhYgCIYa6AjQNSgCB6N9132qoFGBYiE0AFRRKABCQoKQACUZec+plSoDcAjQdjLIK3NiJbj6VjegHsRjLNmH5ZswZi9+XQCHX4BARIISqHAwDIQVSAnU5GBrPssTlFYLGzuWZOaIVOzxd7MqXTUuSSkCIwVRUVlgSCwERVOVgGYjEgBCgoSjX2rWcv4GR8yAxsc/LzdJOozw6hu+w65uioiIAMgmEpD7GOpVq4N9wSzUN9UtP+/M1OGkGdG1qCrEsSsthalLrle9aQACpGABKyqCh96dQ/v/aLZUaKAUAksSDp6Z/nnQBWBMJ3dS1fM7IdLEIStX/DGUqnvunQgEotHYdAMBCIoZUgoJCYy7s9x+Dl059wyXIkUogEBh1gmOAqAzklIlAaRCUrvWzc4pZWj/Xj2HQ3ze/U/NihZqQiGBroZSI9TdoW4VYBIkYTKF2JZlHh/DSqW+USiUASmjENR05CFQWBREJQRluzFxZb7WRiNlGjpUuJc0YQDfBQkBCSAIATdMCgZHfGf8NeOnUN9zgMsHidTEwxgR3CQada6y/t8uyhpDL/6UyG8u/twdPw4efYdc3FEUBYFiDZYYXSyB+1YT467ZXA5eQiVYbMsu9QEtvf5KA2Azil9YIiaUQayNJUnUQYOhKF54y6mJ1/yV46dQ3EokEgFIJmtVVOdxqus9iCf446jjxmxYvqKRYgi3HHSd89eL2amDZSkdJoYKK0Xtp33+/PYlIo9k2gqguVT5JQF6B/rPbBF63fl49xVKs3Or28eomulZPJc0VJjHeAsn/OXjp1Dfm5uYASiugUmn/SSEIKFTE6VDLhHTxq3NukigsE6bliF785UkUllCpueJalawgSVAUyuQ6uZYa4eK6zE1qPjVBQKkkzt2yepIqfeXXQhBgCTzLkpaVC/6nNRJ5xcKMXLFuHxQCCgXkCshMzHV5Gh5twkunvrG2tgZQVgaVWvtqIxKiTE7OXtsyNVsiMK90tcQSiE0gllT2rwUEKxSwEEIshVgGsbjyWJJkBYJK/40g/j1KXN1Ce5KElTkUKn1X9CQAVoniMgCwskSNy8lFFPJKqIWbmsSnSgXmIAlQgv+/wKrgf0rACikW/3vhgue+FpKs7L+LRVr97QiUK1BaBhtrKy22yqNT+IEVfWNlZQUgvwQKtZbTfwhIpGRRa/Y1tjJT/3XaOeiu1bcfJOUWC09dt3uSIvH2lI/vnyk0BQgQJJsaR+047VJcRnRrWzwiIP95JSBJUAJs+9vhwVPTPp0KBnXNFxCvWDPKshCQsLNCTj4U/9feecZHVeV9/HvblIT0BEJICCECCYTQm/RmiyIqEIq4gC7iFrFRXAu4wgqKIoqIC4sCu5ZFkFVwRSAQECkRkd4DhEBIQgop0++9z4vEx7aKwCSTwft9N/czc+Z/bia/e875N2etPoUFAYeL0nKAyJDLv7nCxjN/T7Qo+nuf19++P/jpMWfyikxrt0eczrN2Ti67q1dhgAVAlvQym/jex1E7DgR3TSkd0qfo+2twWcLh5LUVjXLzzTd1Lh7YudRrB9YCNjuqTmRUhDeGM6gNjFVnbWO1WoH8i9jtXpZOXSc40BPf0KFpeoMwV3KCDYEvD4QcPBXQOrFy/a7wKQsStUpMsl5QbH56UWJQgFuR9VnL4l98Jxbx25+CgAjPLGqy5ZuQ+IaO11fErdoU9T+XWDoocnWvi7yi7wLvawFBoNJBfhFAXIPLF+uUZFo2qdA0oiPcSfE2RdY3fR2Wk2dpHmf717roGUvjbU5kCbtT/Ne66MNnAhtFOV9fEffC8sY4EUUdqv9RJr+ZeDwnICrMPXNpk01fh3gtiEinuBygSXxjL41oUOMYq87axmKxNG4cn5Nzxubw8siaTpCVEf3zF/0nJq1b0cAepa5Khve7OCLtIiKtmlb+cU7zvSesoqjXC/A8d392fKwbmbc+cC7/LHpI33xZ1gFktu6rtz4rbOO8b+o10qPDnUvWxNza7WK9AF370b5YR5Zp0hDgVC5uFUGoJVe7IFBRWZ0+nxB7GTeRrmOWGda/4KPMqL4digcPKHFV8OCdF7CARkyE86X3Go8YmN8szuFyi/3alzz9wFmgdWLFlDcSB/W4qFTdFoU128KO5wR8vnA/Vswm9R9rYgZ0vPRrentcdi5uJ7n5AE2bNr22wQxqD0M6axuLxdKkSXxOzpn8Iu+7VnRwuwUQ3Cp4kCRsTjJ3hBw6E3g6z4ouXKqUBbCatfhmbmcxisSAjsVz34/LLbBIVcsriZPnAhSJZZ81CDCrh04FHc0JcHlE4SdLO13HpNC0EcCJs7hVlNrKjxJFyu3VchMTdfn6eAi4VUFF8KgibmSZknJh69bQw2cCjuYEuD1ieaUCjgCrp2mMA9A93BBr1wUhv8QkCdW35fCZQEHg7ZX1BUE/mRt45Iy1auRrnLMgYHOQcx4M6fQrjA17bWO1WhMSEoAjp9BqIKanOkpdABGHk9c/jP3HmkaySGrTSk0XqlwiAiB8G4ato+nf+/cXKK+UK+3ioVOBWUdCnB5h2IACs6L9dDmpgyzRtDHAyRw83j66/QUEkUtlnMsnLAiT8qs/piMKIFFSLr7yXty7G6KDA9VWiZWaRlWNTknAbNaovi26LOqK+O28RYrLlQqbtPdEvawjIYqi3dXrouaNgHxRoNLGqTyApKSkax3OoLYwVp21jclkSk1NBfYcRtW8sGz5MQIuNxUOCY2LZfJb/2n03LhT9w0uOHzM8sr7cYAgUmEXD+y1Jje2Ax9sapAYY09JsO05GgSgkhDjCLBok0aeiYnwOFwCgm42/Wxp0ZgIrBa276fCTmDA5Z3dXkHXyM4FSGlGgOVX6Fd1KXzB6QGd7PPWdzc0fP3Ro7f1Kd30ZfDStSIgCJTb5K8OB6V1K1Ikdh0KDrBoTWLsalYYgEpSXOWBk/VmjM9WJBxuQRJ1zRs5SKJIhY19RwAaNzbOOv0GQzp9QHJyMrB5N7qK6NWWPrpOkFVrnWh748NGx85ax6XldWxRtnJz5Pki88HsgECr6nBLHjc64vTFTVom2M4Vmk7kBjw+MiciVrU5JIdTwkPf9sWbvg7989ykrimX8otNPVJL7+he9D9XlJpGZDhJTdhzhLwCYqJqw1ckCLjcfHUIoE0LrObLV4xWdcKD3V1SShesjMs6GPLEqDMtm1Qu+2/DPceD9hwLsphUl0fQNEyydiC73uQ3mlrMeuaesAcH5zZNdFXYJYdLxMVdvQu27gsdN7Nl2+ZluQWWu3oX9ml/ySuPvbwiymwkJydXxfwa+AXS9OnTfW3Db47KysrPPluXe770oXSCA/mx++Ua0HUsZj0lsdzjkaJCXd1alXdLuWR3yW6PMHLghfiGjmaxtuB6aofm5YN6XDyTZ40Idd9/x/kBncpw4XAJ0RGuLi3KFYnuqaUmRT9XYGoQ5kpJrGgY4f65zbhZZvs+Dp6kTQs6tUWt+QBPScTu5JHZXKpg9O10a3f5Xva6TqBVbxZr03UhOMBzc7dL7W8oK7XJASZt5M0XYiNdLeJt4UEeWdbG3JanqoJbFe+75cI9fYoFHbtDTIh2tEustJjo2qrUo4rFl5SGUa7WieVRoZ5rV05RZMV6NuygT58+I0aMMBIx/QWj1LEPKCwsHD58REbGxlWvcld/nN52tZtkBAU0XC4kEakqs9ADEpqn+hhU1xBkAN1THdBuVkCqNkYUURSQQEdzV5f7/Z+YrUx+iZeW0jmFnR/jLPLyXH6KLFNUSoO+KAqrX+W2Xr/2BioSogl0XA5kGVGp6twGEqobVcNkRlcRJBBAxeVCryqQLOB0QlUpaBOIoKO6vFA0pCpnYdgkVm3k+eeff/rpp691RIPawnjE+YCoqKg2bVIzMjZ+uoW7bgNvS+fPljf+0ZLwhy+/X81X06rF4vLodG2DInHwBNhrIz5Jktm+F6BjEskJqL/6jMCtwre3wv29W/RdDWPHD15WX/xe6XtVQ/XqH0sUcLlZtRGT2dquXTtvDm1Qwxgedt/Qq1cvUbKsyQR37TmmawLVTefWNGlEpYNNX2LyUnfyX8LCfzYBtE0moVGNdyipUWSFLbsBWrVMbt26ta/NMbgCDOn0DV27do2Orl9SxpYdVxJeU/fwqMTG0DIR4L/bwFKzXycIYCMjC0Gga2uo/er03iWAZWsAWrdubbjX/QtDOn1DdHR065SWTjcrN0JNl4OseW7uDvDF19iKf6m227VjUti5j7MXaBRFl9ZotdhIzuuIAlSweReg9OrV09fmGFwZhnT6jHvvHQVs28OF0/zvAnF+guok/SYCLOw7wYYdyDW6iFZYsQFNo3s7WrT4Jf9V3Ucxs+5LCouJjYsZNGiQr80xuDIM6fQZ6enpgfWCvzlMRpbXSp37BI9KeEPu6EWljU+3oqs1dXqryGRns24bwO8G1WrBEa9Tlcf10WbcGrfcPDAqKsrXFhlcGYZ0+gxFUYYOuVuFdV/icHxXNdIvsXPvHQCbsjhwElPNPAlEic1fceAEjeozsBtuf96tKzIHT5C5C2D06NG+NsfgijGk05eMGzcO+O8XnCv0RStz7+F20yWFyFCO5fDFnhqpGC+JlJXz+XaA9JuQLd5MJah9BIGtuzlymiZNEnr16uVrcwyuGEM6fUnbtm179OhRWMK/1n7X6scf0XVCg5l4L8CC9yktw+sNcWWFnfv5YB3AhGFo/tyxXBI5X8CS1QCPP/6Yj60xuCoM6fQlQUFBEyZMAOb9k8KSmvVN1yi6jiwypD/N4zlwkvW7kM2X/9SvRxRx2Jm1BGD4zTRu6OfhnDIZu8g6SExMTHp6uq/NMbga/Paf9XphwIAB3brdWFzG8jVI/hyl5FZpFk/fTgBzl4FXF9GKzMGTZOwiqQmTx2GSL1/yo84iijhdzFwMMHbsWMNB5KcY0uljGjRokJ4+DFi0irIi/Lf4g64jKQy7mZB6bN/Luq2YArw3ejhT5wH07kS7trj82beuWPlsG0dO0bBhzN133+1rcwyuEkM6fc+ECRNatUo5epo/v4Bk9eMTT6eDfjfy2H0Az8ynIN87vi+zmc2fs2EnoUEM7oNuv/xH6iyyROUlnngZYMKEB9u3b+9riwyuEkM6fY/ZbJ49exawJpP1m/07L1N18ugoYuqTdZBFK4FrfRLIEhXlPDkPYNRt3DKwthsXexFBQJKY9y4nzpKSkvrwww/72iKDq8eQzjpBWlpap06disuY/x42u/fd07WGRyUokifHAbz5b74+hHINT4Iq2V3yH3bso344U8ehVXrHTp9gMrP9G+YsBZg06fHQ0FAfG2RwDRjSWVeYN28e8HEmazL9PC+zkmG3cEMs5wqY9y6CfvXR/iYTufnM+xfAH9KJjffjzEtJxOlg4QpKyujQocOoUaN8bZHBNWFIZ12hW7duU6dOBf70AnkFmGuhelvN4FGpH8ai6QRa+edaln6CclX+IknCZuORF8k+R6cU/jQcjz8vOWWFxatYtgZRlJYuXSr5787CADCks04xZcqU225LKyzlT7NQVT/etrvd9GjPY6MBHn2R3FzMVx7mKQcwZxmrNxFSj3mTiQj/FU2D6ypmCyfOMPkVgGeffaZVq1a+tsjgWjGksw4RGhr63HPTLdbAVRt5ZTmS6K/edk1HFHh4FGk9KCnnz7MoK78yb7vZypEjTFsA8Mi9dGyJy2/ThxQZWwV/mInNye233/7YY0b60PWAIZ11i44dO06e9DgwazHb9mKy+tqgq8XtITKCFx5FlFidwYtvo+u/Nl3KbKbgIo++CJDWk8fvQ/Jq39DaRBJB4IUlrN+B1Ro4Y8aMoKAgXxtl4AWMjph1jr59+x4/fmLX7v3bvmZgF6Ij/TXpUPUQE0N0CGu2svVrAsz06ojquUxxEFmmuJQ/zuTjTMKCWP93wkP8NSBJEFBkFq9i0lyA5cuXDRgwwNdGGXgHY9VZF1my5B+dOnU+lsPIqeTmX81BYR3BbWf8ECaNAZj6Guu2Yf7FJZck4XTyp1msWA+weh71I3/QWM2/MFn4JJOHngeYOXPm8OHDfW2RgdcwpLMuYjab33xzQWxs3J4jPPoS5RX+GievaejwzHhG3w4wYQYnTmD+GYe7ICBbeeN9PvgMSeCVJ+jZ3o+POM2BZO3l/umoOunp6U8++aSvLTLwJoZ01lE6dOgwf/7rIHy4nkmv4nT6a7iS20NQILMm0rsDp88z+mmyT2P+SaETUcQUyCef89R8gEljeSgdVfPXI05zIKdP8/vnKCzhxhtvfPnllwU/dfkZ/AyC7qe/zd8Gq1evHjI0XfW4ht3MG08SEeKvlS9MCoVFDJjA/uOkNGPJdDqlftv3HEQRWWTJxzw8C5udaQ8y7SE0DY8fHvIKAiaFrw7y++f45iidO3dZtWplo0aNfG2XgZcxpLOu88EHH4wcOUrT1LSeLJ5OdBRO/9zDms2czOHWhzh+lqhQPn2Dju1wViJLaBovL+PJ1wCm3s8LT+Eu8dci8GYLGTu47ynOFXBDs2bbv/wyMjLS10YZeB/Dw17XSUlJiYuL3bBh46GT7pO59O1ASAiqH649VZWoMLq356uDnMwlI4seqcQ1QVSZ+irP/x1gwlDmTsJV4Zf7dEHAHMymL7l3KucvkpiYuOaTT4zu6tcrxqrTP3j33Xersp5v6c7Cp4hv6pf6UhWsc+AED81g2zdER/L4feQV8spygMdG8/wfsZj9MlFdkREVPs1k/HTOFdKpU+fFixelpqb62i6DmsKQTr9h27Zt99wzND8/L64+rz9FWk9Ewf9URgBFxulm3HTe+7T6oknhracZMxhVw+NvMwLMJi6W8Ld/MHc5wJgxY+bNmxccHOxruwxqEMPD7jd07959164dvXr1PlvA4Ik8t5BKO2ZLTXSfrEF0QMBiZuQtNP3Wd9KpFXf1BwHd3843JRGzhSPZDH60WjenTZv+9ttvG7p53WOcdfoTISEhQ4bcU1ZWlpWVtWU3p3JJjCW2AbruH5t3QcBspaSE2W/z4POUlNOhQwdRlA4eL1u9iUALqc1QFL8p82E24fawaj0P/JW9RwkLC589e9aUKVN8bZdBbWBs2P0Pj8czf/78x5+YpKme6Ej+8gB/vh8cuJ11t9lZ1SmnYGLDFl58h/U7ACZOnDhp0qTCwsIxY8bu3fuNAPffwwsPE1kfj61OC6gkIVvJP8+0N1myCrdG585d5sx5qWfPnr42zaCWMKTTXzl69OgDv//9F1u3As3jWTqDjsmIMqqnzgmoIiNAXiHT36ruuhHdMOa1ea8OHTq06g1lZWVTp0598823QAsPZt4UhtyESUbX61xopywhCDhdLPmIJ17B4QKYNGnSzJkzlWspiG/gbxjS6Zfoul6VnbJo0aJZs1/MPnkCGJ3GH4bTsSWygstVJ7bwsoykcPQkH21i+gKcLgICg0YMHzZ37tyfFhDKysr6y1+e2rBhPdC2BX95gIFdCQ3H7agTMZ6iiGKiqJjM3Tw8i3MFAP37D/jrX5+78cYbfW2dQW1jSKffc+zYsWnTpv373x9qmic8mDGDGXsHKc1B8GXwvCIjBnDxAotXsmgV2bkAffr0efbZZ/v27ftzn7Lb7QsWLJg9+8XCwgLgzj7c2ZdRaZgCcVf6bDUtCigBOMpZv4M3V/DfLwDi4+PHjx//yCOPBAR4sWmygd9gSOf1gNPpXLt27WuvvZaZmQkkNGJgVx64m06dwYXmQlVrQ3cEAVFAVsBC3ln+voJPtrL7IEBISMiMGTPS09OjoqIuO87OnTvfeeedhQsXVr3s1YHht/DQKBDAiUetripSowgCgoAsIVjBxfuf8sE61n2B3QUwduzYiRMntmnTpoatMKi7GNJ5/aBpWkZGxsyZf9u8eVPVld7tuf8e+nUiPASLGUBVve9+EQUkCVHE6cTpYe9RFrzPv9dX77IjI6NefnnOnXfeGRISckXDnjp1as6cOQsWLAQNqB/GwyMZ3I/GMVjNyCKq5v36IIKAJCLJqG4cLnIu8M+1vL2avIsAJnPAH//w4IQJE5o3b+7NbzXwQwzpvA7JzMxcuPCtzZlbL+TlVl0ZMoC7+9OmBQ3CiYgEHd2DR7v6M8SqFZkog4CtgvMXOXaKT79g1QbyigCCQ8LbtU0dOXLE+PHjr2Uu58+fnz9//iefrD1w4CCoQIckRqTRuwPRkURHIFvBjUe9poLQkoQsgYTuIq+IQyfZfZiVG8k6UDVbuUWL5mlpt06ZPLl+/frXMh2D6wZDOq9b9u7du3r16rVr12ZlZVVdiW9I+2Ra3kDHJJonEB9NYCgAKqhoGpqOrv14a1+1DRdFRBFEqJIYG6cvcCSb7fs4n8/XR9hzpPr9TZsmDhw4YOjQoX369PFW38eSkpIVK1asXr16+/adpaXFgNVC1xTaJBEdQb8uNI6mQQOQwAMauvbtdH4Y8Vq1Da+ajvDtXFC5WMiJsxzK5sBx9p9gw47q9wcHh/bv33fQoDtvvz3NqOJh8H0M6bzOOXv27MGDBzdt2vThhyuzs09WXTTJJDSiQQRxDUlOIDGOmCgaRhIVRkgQghVMIIAOHnBSUUZRKQWlnCvg1FkOn+JMHgVFZJ+nrKL6iyIiIgYNGtSvX7927drVUMfHsrKyw4cP79y586OPVv//oQTQOJqGkYSH0PoGWiQQ24DoCOpHEh6CyQoWAETQwIGzkuIyCksoKCT7PMdyOHmWCwWczedc4XffddNNN916661dunRJTU0NDPxJeVGD3zyGdP5WqKysPHfu3JYtWzIyMjI2bSksLNJUd9UWuApFRFaQJUQRSaj2w+g6mo5HxePGrX7fOSMiKGaznNAk7ne/+13fvn2TkpKCgoJEsTZSe51OZ1FR0e7du7ds2bJ8+fLikgq3ywXfNTCSBBQFWUISEcTqXFWB6uNRt4rHjfqDH75itliSk5r17t2zd+/e3bt3DwsLM+I0DX4BQzp/o+Tk5Ozfv//AgQP79x84dfqMrdJWUVnpcDgcDqfH4/F4PLquC4IoiqKiyGaTyWq1WqzmwMDARjENW7ZsmZyclJqa2rp1a1/PA8But3/11VeHDh3au3ffsWPHS0tLbXZHZUWlw+l0u92qR1U1FRBFSZJEs9lssZgDAgKsVktERHhSUoukFi1SUlI6d+5ssVh8PRUDv8GQTgMAu91eVFRUUlJSVlbmcDhcLpemaYIgKIpisVjq1asXEhISHh4eGhrqa0svj6qqRUVFxcXFpaWldrvd6XSqqgooiqIoSmBgYEhISFhYWEREhLeOYg1+gxjSaWBgYHDFGEXnDAwMDK6Y/wN8h9UT1OzmiwAAAABJRU5ErkJggg==)"
      ],
      "metadata": {
        "id": "1ghjCgrtgX3y"
      }
    },
    {
      "cell_type": "markdown",
      "source": [
        "Now we can join both Control and Test using Outer Join"
      ],
      "metadata": {
        "id": "spr-0rfshbBQ"
      }
    },
    {
      "cell_type": "code",
      "source": [
        "ab_data = Control.merge(Test, how = 'outer').sort_values([\"Date\"])\n",
        "\n",
        "ab_data = ab_data.reset_index(drop=True) # [ Leraning Scope]\n",
        "\n",
        "print(ab_data.head())"
      ],
      "metadata": {
        "colab": {
          "base_uri": "https://localhost:8080/"
        },
        "id": "4wy0-9ozharZ",
        "outputId": "c55a459e-98bc-4eb7-e256-5fb3cfd6d9fe"
      },
      "execution_count": 29,
      "outputs": [
        {
          "output_type": "stream",
          "name": "stdout",
          "text": [
            "      Campaign_Name        Date  Amount Spent  Number of Impressions    Reach  \\\n",
            "0  Control Campaign   1.08.2019          2280                82702.0  56930.0   \n",
            "1     Test Campaign   1.08.2019          3008                39550.0  35820.0   \n",
            "2     Test Campaign  10.08.2019          2790                95054.0  79632.0   \n",
            "3  Control Campaign  10.08.2019          2149               117624.0  91257.0   \n",
            "4     Test Campaign  11.08.2019          2420                83633.0  71286.0   \n",
            "\n",
            "   Website Clicks  Searches_Received  Content Viewed  Add_to_Cart  Purchases  \n",
            "0          7016.0             2290.0          2159.0       1819.0      618.0  \n",
            "1          3038.0             1946.0          1069.0        894.0      255.0  \n",
            "2          8125.0             2312.0          1804.0        424.0      275.0  \n",
            "3          2277.0             2475.0          1984.0       1629.0      734.0  \n",
            "4          3750.0             2893.0          2617.0       1075.0      668.0  \n"
          ]
        }
      ]
    },
    {
      "cell_type": "code",
      "source": [
        "print(ab_data[\"Campaign_Name\"].value_counts()) #Value Counts will return number of each ditinct values"
      ],
      "metadata": {
        "colab": {
          "base_uri": "https://localhost:8080/"
        },
        "id": "H6ZIH2oUgtmR",
        "outputId": "4d2ced65-8658-43ef-f810-22d5f7b494a1"
      },
      "execution_count": 31,
      "outputs": [
        {
          "output_type": "stream",
          "name": "stdout",
          "text": [
            "Control Campaign    30\n",
            "Test Campaign       30\n",
            "Name: Campaign_Name, dtype: int64\n"
          ]
        }
      ]
    },
    {
      "cell_type": "code",
      "source": [
        "#Plotting data for Impression and Amount Spent for Control and Test\n",
        "Figure = px.scatter(ab_data, x = 'Number of Impressions', y = 'Amount Spent', size = 'Amount Spent',\n",
        "                    trendline = 'ols', color = 'Campaign_Name')\n",
        "Figure.show()"
      ],
      "metadata": {
        "colab": {
          "base_uri": "https://localhost:8080/",
          "height": 542
        },
        "id": "1WFgxZAjiglc",
        "outputId": "ac0407b9-e8ee-449b-8bee-b2dfa3943d9c"
      },
      "execution_count": 32,
      "outputs": [
        {
          "output_type": "display_data",
          "data": {
            "text/html": [
              "<html>\n",
              "<head><meta charset=\"utf-8\" /></head>\n",
              "<body>\n",
              "    <div>            <script src=\"https://cdnjs.cloudflare.com/ajax/libs/mathjax/2.7.5/MathJax.js?config=TeX-AMS-MML_SVG\"></script><script type=\"text/javascript\">if (window.MathJax) {MathJax.Hub.Config({SVG: {font: \"STIX-Web\"}});}</script>                <script type=\"text/javascript\">window.PlotlyConfig = {MathJaxConfig: 'local'};</script>\n",
              "        <script src=\"https://cdn.plot.ly/plotly-2.8.3.min.js\"></script>                <div id=\"6fcda376-840c-4b99-bf49-e8538e8ee873\" class=\"plotly-graph-div\" style=\"height:525px; width:100%;\"></div>            <script type=\"text/javascript\">                                    window.PLOTLYENV=window.PLOTLYENV || {};                                    if (document.getElementById(\"6fcda376-840c-4b99-bf49-e8538e8ee873\")) {                    Plotly.newPlot(                        \"6fcda376-840c-4b99-bf49-e8538e8ee873\",                        [{\"hovertemplate\":\"Campaign_Name=Control Campaign<br>Number of Impressions=%{x}<br>Amount Spent=%{marker.size}<extra></extra>\",\"legendgroup\":\"Control Campaign\",\"marker\":{\"color\":\"#636efa\",\"size\":[2280,2149,2490,2319,2697,1875,2774,2024,2177,1876,2596,1757,2675,1803,2939,2496,1892,1962,2233,2061,2421,2375,2343,2324,1940,1835,3083,2544,1900,2813],\"sizemode\":\"area\",\"sizeref\":7.78,\"symbol\":\"circle\"},\"mode\":\"markers\",\"name\":\"Control Campaign\",\"orientation\":\"v\",\"showlegend\":true,\"x\":[82702.0,117624.0,115247.0,116639.0,82847.0,145248.0,132845.0,71274.0,119612.0,108452.0,107890.0,121040.0,113430.0,74654.0,105705.0,129880.0,72515.0,117006.0,124897.0,104678.0,141654.0,92029.0,131711.0,111306.0,72878.0,109559.75862068965,109076.0,142123.0,90939.0,121332.0],\"xaxis\":\"x\",\"y\":[2280,2149,2490,2319,2697,1875,2774,2024,2177,1876,2596,1757,2675,1803,2939,2496,1892,1962,2233,2061,2421,2375,2343,2324,1940,1835,3083,2544,1900,2813],\"yaxis\":\"y\",\"type\":\"scatter\"},{\"hovertemplate\":\"<b>OLS trendline</b><br>Amount Spent = 0.00453629 * Number of Impressions + 1791.44<br>R<sup>2</sup>=0.069265<br><br>Campaign_Name=Control Campaign<br>Number of Impressions=%{x}<br>Amount Spent=%{y} <b>(trend)</b><extra></extra>\",\"legendgroup\":\"Control Campaign\",\"marker\":{\"color\":\"#636efa\",\"symbol\":\"circle\"},\"mode\":\"lines\",\"name\":\"Control Campaign\",\"showlegend\":false,\"x\":[71274.0,72515.0,72878.0,74654.0,82702.0,82847.0,90939.0,92029.0,104678.0,105705.0,107890.0,108452.0,109076.0,109559.75862068965,111306.0,113430.0,115247.0,116639.0,117006.0,117624.0,119612.0,121040.0,121332.0,124897.0,129880.0,131711.0,132845.0,141654.0,142123.0,145248.0],\"xaxis\":\"x\",\"y\":[2114.7579636191645,2120.3875016400934,2122.034175533403,2130.090629622984,2166.598705362256,2167.2564676612365,2203.9641402360617,2208.9086982077074,2266.2882521373863,2270.947023730854,2280.858821132732,2283.4082170777456,2286.23886310922,2288.4333333333334,2296.3547936383675,2305.9898772455012,2314.2323192954836,2320.546837365696,2322.2116564258736,2325.0150847070454,2334.033232640653,2340.511057212681,2341.835654394076,2358.00753436556,2380.6118759919013,2388.917826125923,2394.0619809331215,2434.022174669112,2436.1496954844347,2450.325607100392],\"yaxis\":\"y\",\"type\":\"scatter\"},{\"hovertemplate\":\"Campaign_Name=Test Campaign<br>Number of Impressions=%{x}<br>Amount Spent=%{marker.size}<extra></extra>\",\"legendgroup\":\"Test Campaign\",\"marker\":{\"color\":\"#EF553B\",\"size\":[3008,2790,2420,2831,1972,2537,2516,3076,1968,1979,2626,2542,2712,3112,2899,2407,2078,2928,2311,2915,2247,2805,2365,1977,2710,2297,2458,2838,2916,2652],\"sizemode\":\"area\",\"sizeref\":7.78,\"symbol\":\"circle\"},\"mode\":\"markers\",\"name\":\"Test Campaign\",\"orientation\":\"v\",\"showlegend\":true,\"x\":[39550.0,95054.0,83633.0,124591.0,65827.0,56304.0,94338.0,106584.0,95843.0,53632.0,22521.0,100719.0,39470.0,133771.0,34752.0,60286.0,36650.0,120576.0,80841.0,111469.0,54627.0,67444.0,70263.0,120203.0,78451.0,114295.0,42684.0,53986.0,33669.0,45511.0],\"xaxis\":\"x\",\"y\":[3008,2790,2420,2831,1972,2537,2516,3076,1968,1979,2626,2542,2712,3112,2899,2407,2078,2928,2311,2915,2247,2805,2365,1977,2710,2297,2458,2838,2916,2652],\"yaxis\":\"y\",\"type\":\"scatter\"},{\"hovertemplate\":\"<b>OLS trendline</b><br>Amount Spent = 0.00100671 * Number of Impressions + 2487.98<br>R<sup>2</sup>=0.008600<br><br>Campaign_Name=Test Campaign<br>Number of Impressions=%{x}<br>Amount Spent=%{y} <b>(trend)</b><extra></extra>\",\"legendgroup\":\"Test Campaign\",\"marker\":{\"color\":\"#EF553B\",\"symbol\":\"circle\"},\"mode\":\"lines\",\"name\":\"Test Campaign\",\"showlegend\":false,\"x\":[22521.0,33669.0,34752.0,36650.0,39470.0,39550.0,42684.0,45511.0,53632.0,53986.0,54627.0,56304.0,60286.0,65827.0,67444.0,70263.0,78451.0,80841.0,83633.0,94338.0,95054.0,95843.0,100719.0,106584.0,111469.0,114295.0,120203.0,120576.0,124591.0,133771.0],\"xaxis\":\"x\",\"y\":[2510.6536698946106,2521.876440572412,2522.96670435462,2524.8774344179915,2527.7163484215257,2527.7968849890017,2530.9519050198796,2533.797865973068,2541.9733342789905,2542.329708590072,2542.975007836975,2544.6632556326936,2548.6719632788186,2554.2501272836353,2555.877972653747,2558.7158799501876,2566.958797631371,2569.364827584721,2572.1755537896383,2582.95235322504,2583.673155503952,2584.467447400685,2589.3761511883563,2595.280488291451,2600.198252442963,2603.043206689058,2608.9908321971716,2609.366333943029,2613.408262923238,2622.649834041126],\"yaxis\":\"y\",\"type\":\"scatter\"}],                        {\"template\":{\"data\":{\"bar\":[{\"error_x\":{\"color\":\"#2a3f5f\"},\"error_y\":{\"color\":\"#2a3f5f\"},\"marker\":{\"line\":{\"color\":\"white\",\"width\":0.5},\"pattern\":{\"fillmode\":\"overlay\",\"size\":10,\"solidity\":0.2}},\"type\":\"bar\"}],\"barpolar\":[{\"marker\":{\"line\":{\"color\":\"white\",\"width\":0.5},\"pattern\":{\"fillmode\":\"overlay\",\"size\":10,\"solidity\":0.2}},\"type\":\"barpolar\"}],\"carpet\":[{\"aaxis\":{\"endlinecolor\":\"#2a3f5f\",\"gridcolor\":\"#C8D4E3\",\"linecolor\":\"#C8D4E3\",\"minorgridcolor\":\"#C8D4E3\",\"startlinecolor\":\"#2a3f5f\"},\"baxis\":{\"endlinecolor\":\"#2a3f5f\",\"gridcolor\":\"#C8D4E3\",\"linecolor\":\"#C8D4E3\",\"minorgridcolor\":\"#C8D4E3\",\"startlinecolor\":\"#2a3f5f\"},\"type\":\"carpet\"}],\"choropleth\":[{\"colorbar\":{\"outlinewidth\":0,\"ticks\":\"\"},\"type\":\"choropleth\"}],\"contour\":[{\"colorbar\":{\"outlinewidth\":0,\"ticks\":\"\"},\"colorscale\":[[0.0,\"#0d0887\"],[0.1111111111111111,\"#46039f\"],[0.2222222222222222,\"#7201a8\"],[0.3333333333333333,\"#9c179e\"],[0.4444444444444444,\"#bd3786\"],[0.5555555555555556,\"#d8576b\"],[0.6666666666666666,\"#ed7953\"],[0.7777777777777778,\"#fb9f3a\"],[0.8888888888888888,\"#fdca26\"],[1.0,\"#f0f921\"]],\"type\":\"contour\"}],\"contourcarpet\":[{\"colorbar\":{\"outlinewidth\":0,\"ticks\":\"\"},\"type\":\"contourcarpet\"}],\"heatmap\":[{\"colorbar\":{\"outlinewidth\":0,\"ticks\":\"\"},\"colorscale\":[[0.0,\"#0d0887\"],[0.1111111111111111,\"#46039f\"],[0.2222222222222222,\"#7201a8\"],[0.3333333333333333,\"#9c179e\"],[0.4444444444444444,\"#bd3786\"],[0.5555555555555556,\"#d8576b\"],[0.6666666666666666,\"#ed7953\"],[0.7777777777777778,\"#fb9f3a\"],[0.8888888888888888,\"#fdca26\"],[1.0,\"#f0f921\"]],\"type\":\"heatmap\"}],\"heatmapgl\":[{\"colorbar\":{\"outlinewidth\":0,\"ticks\":\"\"},\"colorscale\":[[0.0,\"#0d0887\"],[0.1111111111111111,\"#46039f\"],[0.2222222222222222,\"#7201a8\"],[0.3333333333333333,\"#9c179e\"],[0.4444444444444444,\"#bd3786\"],[0.5555555555555556,\"#d8576b\"],[0.6666666666666666,\"#ed7953\"],[0.7777777777777778,\"#fb9f3a\"],[0.8888888888888888,\"#fdca26\"],[1.0,\"#f0f921\"]],\"type\":\"heatmapgl\"}],\"histogram\":[{\"marker\":{\"pattern\":{\"fillmode\":\"overlay\",\"size\":10,\"solidity\":0.2}},\"type\":\"histogram\"}],\"histogram2d\":[{\"colorbar\":{\"outlinewidth\":0,\"ticks\":\"\"},\"colorscale\":[[0.0,\"#0d0887\"],[0.1111111111111111,\"#46039f\"],[0.2222222222222222,\"#7201a8\"],[0.3333333333333333,\"#9c179e\"],[0.4444444444444444,\"#bd3786\"],[0.5555555555555556,\"#d8576b\"],[0.6666666666666666,\"#ed7953\"],[0.7777777777777778,\"#fb9f3a\"],[0.8888888888888888,\"#fdca26\"],[1.0,\"#f0f921\"]],\"type\":\"histogram2d\"}],\"histogram2dcontour\":[{\"colorbar\":{\"outlinewidth\":0,\"ticks\":\"\"},\"colorscale\":[[0.0,\"#0d0887\"],[0.1111111111111111,\"#46039f\"],[0.2222222222222222,\"#7201a8\"],[0.3333333333333333,\"#9c179e\"],[0.4444444444444444,\"#bd3786\"],[0.5555555555555556,\"#d8576b\"],[0.6666666666666666,\"#ed7953\"],[0.7777777777777778,\"#fb9f3a\"],[0.8888888888888888,\"#fdca26\"],[1.0,\"#f0f921\"]],\"type\":\"histogram2dcontour\"}],\"mesh3d\":[{\"colorbar\":{\"outlinewidth\":0,\"ticks\":\"\"},\"type\":\"mesh3d\"}],\"parcoords\":[{\"line\":{\"colorbar\":{\"outlinewidth\":0,\"ticks\":\"\"}},\"type\":\"parcoords\"}],\"pie\":[{\"automargin\":true,\"type\":\"pie\"}],\"scatter\":[{\"marker\":{\"colorbar\":{\"outlinewidth\":0,\"ticks\":\"\"}},\"type\":\"scatter\"}],\"scatter3d\":[{\"line\":{\"colorbar\":{\"outlinewidth\":0,\"ticks\":\"\"}},\"marker\":{\"colorbar\":{\"outlinewidth\":0,\"ticks\":\"\"}},\"type\":\"scatter3d\"}],\"scattercarpet\":[{\"marker\":{\"colorbar\":{\"outlinewidth\":0,\"ticks\":\"\"}},\"type\":\"scattercarpet\"}],\"scattergeo\":[{\"marker\":{\"colorbar\":{\"outlinewidth\":0,\"ticks\":\"\"}},\"type\":\"scattergeo\"}],\"scattergl\":[{\"marker\":{\"colorbar\":{\"outlinewidth\":0,\"ticks\":\"\"}},\"type\":\"scattergl\"}],\"scattermapbox\":[{\"marker\":{\"colorbar\":{\"outlinewidth\":0,\"ticks\":\"\"}},\"type\":\"scattermapbox\"}],\"scatterpolar\":[{\"marker\":{\"colorbar\":{\"outlinewidth\":0,\"ticks\":\"\"}},\"type\":\"scatterpolar\"}],\"scatterpolargl\":[{\"marker\":{\"colorbar\":{\"outlinewidth\":0,\"ticks\":\"\"}},\"type\":\"scatterpolargl\"}],\"scatterternary\":[{\"marker\":{\"colorbar\":{\"outlinewidth\":0,\"ticks\":\"\"}},\"type\":\"scatterternary\"}],\"surface\":[{\"colorbar\":{\"outlinewidth\":0,\"ticks\":\"\"},\"colorscale\":[[0.0,\"#0d0887\"],[0.1111111111111111,\"#46039f\"],[0.2222222222222222,\"#7201a8\"],[0.3333333333333333,\"#9c179e\"],[0.4444444444444444,\"#bd3786\"],[0.5555555555555556,\"#d8576b\"],[0.6666666666666666,\"#ed7953\"],[0.7777777777777778,\"#fb9f3a\"],[0.8888888888888888,\"#fdca26\"],[1.0,\"#f0f921\"]],\"type\":\"surface\"}],\"table\":[{\"cells\":{\"fill\":{\"color\":\"#EBF0F8\"},\"line\":{\"color\":\"white\"}},\"header\":{\"fill\":{\"color\":\"#C8D4E3\"},\"line\":{\"color\":\"white\"}},\"type\":\"table\"}]},\"layout\":{\"annotationdefaults\":{\"arrowcolor\":\"#2a3f5f\",\"arrowhead\":0,\"arrowwidth\":1},\"autotypenumbers\":\"strict\",\"coloraxis\":{\"colorbar\":{\"outlinewidth\":0,\"ticks\":\"\"}},\"colorscale\":{\"diverging\":[[0,\"#8e0152\"],[0.1,\"#c51b7d\"],[0.2,\"#de77ae\"],[0.3,\"#f1b6da\"],[0.4,\"#fde0ef\"],[0.5,\"#f7f7f7\"],[0.6,\"#e6f5d0\"],[0.7,\"#b8e186\"],[0.8,\"#7fbc41\"],[0.9,\"#4d9221\"],[1,\"#276419\"]],\"sequential\":[[0.0,\"#0d0887\"],[0.1111111111111111,\"#46039f\"],[0.2222222222222222,\"#7201a8\"],[0.3333333333333333,\"#9c179e\"],[0.4444444444444444,\"#bd3786\"],[0.5555555555555556,\"#d8576b\"],[0.6666666666666666,\"#ed7953\"],[0.7777777777777778,\"#fb9f3a\"],[0.8888888888888888,\"#fdca26\"],[1.0,\"#f0f921\"]],\"sequentialminus\":[[0.0,\"#0d0887\"],[0.1111111111111111,\"#46039f\"],[0.2222222222222222,\"#7201a8\"],[0.3333333333333333,\"#9c179e\"],[0.4444444444444444,\"#bd3786\"],[0.5555555555555556,\"#d8576b\"],[0.6666666666666666,\"#ed7953\"],[0.7777777777777778,\"#fb9f3a\"],[0.8888888888888888,\"#fdca26\"],[1.0,\"#f0f921\"]]},\"colorway\":[\"#636efa\",\"#EF553B\",\"#00cc96\",\"#ab63fa\",\"#FFA15A\",\"#19d3f3\",\"#FF6692\",\"#B6E880\",\"#FF97FF\",\"#FECB52\"],\"font\":{\"color\":\"#2a3f5f\"},\"geo\":{\"bgcolor\":\"white\",\"lakecolor\":\"white\",\"landcolor\":\"white\",\"showlakes\":true,\"showland\":true,\"subunitcolor\":\"#C8D4E3\"},\"hoverlabel\":{\"align\":\"left\"},\"hovermode\":\"closest\",\"mapbox\":{\"style\":\"light\"},\"paper_bgcolor\":\"white\",\"plot_bgcolor\":\"white\",\"polar\":{\"angularaxis\":{\"gridcolor\":\"#EBF0F8\",\"linecolor\":\"#EBF0F8\",\"ticks\":\"\"},\"bgcolor\":\"white\",\"radialaxis\":{\"gridcolor\":\"#EBF0F8\",\"linecolor\":\"#EBF0F8\",\"ticks\":\"\"}},\"scene\":{\"xaxis\":{\"backgroundcolor\":\"white\",\"gridcolor\":\"#DFE8F3\",\"gridwidth\":2,\"linecolor\":\"#EBF0F8\",\"showbackground\":true,\"ticks\":\"\",\"zerolinecolor\":\"#EBF0F8\"},\"yaxis\":{\"backgroundcolor\":\"white\",\"gridcolor\":\"#DFE8F3\",\"gridwidth\":2,\"linecolor\":\"#EBF0F8\",\"showbackground\":true,\"ticks\":\"\",\"zerolinecolor\":\"#EBF0F8\"},\"zaxis\":{\"backgroundcolor\":\"white\",\"gridcolor\":\"#DFE8F3\",\"gridwidth\":2,\"linecolor\":\"#EBF0F8\",\"showbackground\":true,\"ticks\":\"\",\"zerolinecolor\":\"#EBF0F8\"}},\"shapedefaults\":{\"line\":{\"color\":\"#2a3f5f\"}},\"ternary\":{\"aaxis\":{\"gridcolor\":\"#DFE8F3\",\"linecolor\":\"#A2B1C6\",\"ticks\":\"\"},\"baxis\":{\"gridcolor\":\"#DFE8F3\",\"linecolor\":\"#A2B1C6\",\"ticks\":\"\"},\"bgcolor\":\"white\",\"caxis\":{\"gridcolor\":\"#DFE8F3\",\"linecolor\":\"#A2B1C6\",\"ticks\":\"\"}},\"title\":{\"x\":0.05},\"xaxis\":{\"automargin\":true,\"gridcolor\":\"#EBF0F8\",\"linecolor\":\"#EBF0F8\",\"ticks\":\"\",\"title\":{\"standoff\":15},\"zerolinecolor\":\"#EBF0F8\",\"zerolinewidth\":2},\"yaxis\":{\"automargin\":true,\"gridcolor\":\"#EBF0F8\",\"linecolor\":\"#EBF0F8\",\"ticks\":\"\",\"title\":{\"standoff\":15},\"zerolinecolor\":\"#EBF0F8\",\"zerolinewidth\":2}}},\"xaxis\":{\"anchor\":\"y\",\"domain\":[0.0,1.0],\"title\":{\"text\":\"Number of Impressions\"}},\"yaxis\":{\"anchor\":\"x\",\"domain\":[0.0,1.0],\"title\":{\"text\":\"Amount Spent\"}},\"legend\":{\"title\":{\"text\":\"Campaign_Name\"},\"tracegroupgap\":0,\"itemsizing\":\"constant\"},\"margin\":{\"t\":60}},                        {\"responsive\": true}                    ).then(function(){\n",
              "                            \n",
              "var gd = document.getElementById('6fcda376-840c-4b99-bf49-e8538e8ee873');\n",
              "var x = new MutationObserver(function (mutations, observer) {{\n",
              "        var display = window.getComputedStyle(gd).display;\n",
              "        if (!display || display === 'none') {{\n",
              "            console.log([gd, 'removed!']);\n",
              "            Plotly.purge(gd);\n",
              "            observer.disconnect();\n",
              "        }}\n",
              "}});\n",
              "\n",
              "// Listen for the removal of the full notebook cells\n",
              "var notebookContainer = gd.closest('#notebook-container');\n",
              "if (notebookContainer) {{\n",
              "    x.observe(notebookContainer, {childList: true});\n",
              "}}\n",
              "\n",
              "// Listen for the clearing of the current output cell\n",
              "var outputEl = gd.closest('.output');\n",
              "if (outputEl) {{\n",
              "    x.observe(outputEl, {childList: true});\n",
              "}}\n",
              "\n",
              "                        })                };                            </script>        </div>\n",
              "</body>\n",
              "</html>"
            ]
          },
          "metadata": {}
        }
      ]
    },
    {
      "cell_type": "markdown",
      "source": [
        "# The Control Campaign seem to have more impressions with less amount spent"
      ],
      "metadata": {
        "id": "weNZCU8CkjZr"
      }
    },
    {
      "cell_type": "code",
      "source": [
        "# [ LEARNING SCOPE]\n",
        "labels = ['Total Seraches from Control', 'Total Seraches from Test']\n",
        "\n",
        "counts = [sum(Control['Searches_Received']), sum(Test['Searches_Received'])]\n",
        "\n",
        "colors = ['gold','lightgreen']\n",
        "\n",
        "fig = go.Figure(data= [go.Pie(labels = labels, values = counts)])\n",
        "fig.update_layout(title_text = 'Control vs Test : Searches')\n",
        "fig.update_traces(hoverinfo = 'label+percent', textinfo='value', textfont_size = 30,\n",
        "                  marker = dict(colors = colors, line = dict(color = 'black', width = 3)))\n",
        "\n",
        "fig.show()\n"
      ],
      "metadata": {
        "colab": {
          "base_uri": "https://localhost:8080/",
          "height": 542
        },
        "id": "qOjIBm4wjavw",
        "outputId": "4d8b013d-e87b-4226-e949-82f579e1990b"
      },
      "execution_count": 34,
      "outputs": [
        {
          "output_type": "display_data",
          "data": {
            "text/html": [
              "<html>\n",
              "<head><meta charset=\"utf-8\" /></head>\n",
              "<body>\n",
              "    <div>            <script src=\"https://cdnjs.cloudflare.com/ajax/libs/mathjax/2.7.5/MathJax.js?config=TeX-AMS-MML_SVG\"></script><script type=\"text/javascript\">if (window.MathJax) {MathJax.Hub.Config({SVG: {font: \"STIX-Web\"}});}</script>                <script type=\"text/javascript\">window.PlotlyConfig = {MathJaxConfig: 'local'};</script>\n",
              "        <script src=\"https://cdn.plot.ly/plotly-2.8.3.min.js\"></script>                <div id=\"72f32443-b75d-47a7-a689-543cfe4f0d23\" class=\"plotly-graph-div\" style=\"height:525px; width:100%;\"></div>            <script type=\"text/javascript\">                                    window.PLOTLYENV=window.PLOTLYENV || {};                                    if (document.getElementById(\"72f32443-b75d-47a7-a689-543cfe4f0d23\")) {                    Plotly.newPlot(                        \"72f32443-b75d-47a7-a689-543cfe4f0d23\",                        [{\"labels\":[\"Total Seraches from Control\",\"Total Seraches from Test\"],\"values\":[66639.3103448276,72569],\"type\":\"pie\",\"textfont\":{\"size\":30},\"marker\":{\"line\":{\"color\":\"black\",\"width\":3},\"colors\":[\"gold\",\"lightgreen\"]},\"hoverinfo\":\"label+percent\",\"textinfo\":\"value\"}],                        {\"template\":{\"data\":{\"bar\":[{\"error_x\":{\"color\":\"#2a3f5f\"},\"error_y\":{\"color\":\"#2a3f5f\"},\"marker\":{\"line\":{\"color\":\"white\",\"width\":0.5},\"pattern\":{\"fillmode\":\"overlay\",\"size\":10,\"solidity\":0.2}},\"type\":\"bar\"}],\"barpolar\":[{\"marker\":{\"line\":{\"color\":\"white\",\"width\":0.5},\"pattern\":{\"fillmode\":\"overlay\",\"size\":10,\"solidity\":0.2}},\"type\":\"barpolar\"}],\"carpet\":[{\"aaxis\":{\"endlinecolor\":\"#2a3f5f\",\"gridcolor\":\"#C8D4E3\",\"linecolor\":\"#C8D4E3\",\"minorgridcolor\":\"#C8D4E3\",\"startlinecolor\":\"#2a3f5f\"},\"baxis\":{\"endlinecolor\":\"#2a3f5f\",\"gridcolor\":\"#C8D4E3\",\"linecolor\":\"#C8D4E3\",\"minorgridcolor\":\"#C8D4E3\",\"startlinecolor\":\"#2a3f5f\"},\"type\":\"carpet\"}],\"choropleth\":[{\"colorbar\":{\"outlinewidth\":0,\"ticks\":\"\"},\"type\":\"choropleth\"}],\"contour\":[{\"colorbar\":{\"outlinewidth\":0,\"ticks\":\"\"},\"colorscale\":[[0.0,\"#0d0887\"],[0.1111111111111111,\"#46039f\"],[0.2222222222222222,\"#7201a8\"],[0.3333333333333333,\"#9c179e\"],[0.4444444444444444,\"#bd3786\"],[0.5555555555555556,\"#d8576b\"],[0.6666666666666666,\"#ed7953\"],[0.7777777777777778,\"#fb9f3a\"],[0.8888888888888888,\"#fdca26\"],[1.0,\"#f0f921\"]],\"type\":\"contour\"}],\"contourcarpet\":[{\"colorbar\":{\"outlinewidth\":0,\"ticks\":\"\"},\"type\":\"contourcarpet\"}],\"heatmap\":[{\"colorbar\":{\"outlinewidth\":0,\"ticks\":\"\"},\"colorscale\":[[0.0,\"#0d0887\"],[0.1111111111111111,\"#46039f\"],[0.2222222222222222,\"#7201a8\"],[0.3333333333333333,\"#9c179e\"],[0.4444444444444444,\"#bd3786\"],[0.5555555555555556,\"#d8576b\"],[0.6666666666666666,\"#ed7953\"],[0.7777777777777778,\"#fb9f3a\"],[0.8888888888888888,\"#fdca26\"],[1.0,\"#f0f921\"]],\"type\":\"heatmap\"}],\"heatmapgl\":[{\"colorbar\":{\"outlinewidth\":0,\"ticks\":\"\"},\"colorscale\":[[0.0,\"#0d0887\"],[0.1111111111111111,\"#46039f\"],[0.2222222222222222,\"#7201a8\"],[0.3333333333333333,\"#9c179e\"],[0.4444444444444444,\"#bd3786\"],[0.5555555555555556,\"#d8576b\"],[0.6666666666666666,\"#ed7953\"],[0.7777777777777778,\"#fb9f3a\"],[0.8888888888888888,\"#fdca26\"],[1.0,\"#f0f921\"]],\"type\":\"heatmapgl\"}],\"histogram\":[{\"marker\":{\"pattern\":{\"fillmode\":\"overlay\",\"size\":10,\"solidity\":0.2}},\"type\":\"histogram\"}],\"histogram2d\":[{\"colorbar\":{\"outlinewidth\":0,\"ticks\":\"\"},\"colorscale\":[[0.0,\"#0d0887\"],[0.1111111111111111,\"#46039f\"],[0.2222222222222222,\"#7201a8\"],[0.3333333333333333,\"#9c179e\"],[0.4444444444444444,\"#bd3786\"],[0.5555555555555556,\"#d8576b\"],[0.6666666666666666,\"#ed7953\"],[0.7777777777777778,\"#fb9f3a\"],[0.8888888888888888,\"#fdca26\"],[1.0,\"#f0f921\"]],\"type\":\"histogram2d\"}],\"histogram2dcontour\":[{\"colorbar\":{\"outlinewidth\":0,\"ticks\":\"\"},\"colorscale\":[[0.0,\"#0d0887\"],[0.1111111111111111,\"#46039f\"],[0.2222222222222222,\"#7201a8\"],[0.3333333333333333,\"#9c179e\"],[0.4444444444444444,\"#bd3786\"],[0.5555555555555556,\"#d8576b\"],[0.6666666666666666,\"#ed7953\"],[0.7777777777777778,\"#fb9f3a\"],[0.8888888888888888,\"#fdca26\"],[1.0,\"#f0f921\"]],\"type\":\"histogram2dcontour\"}],\"mesh3d\":[{\"colorbar\":{\"outlinewidth\":0,\"ticks\":\"\"},\"type\":\"mesh3d\"}],\"parcoords\":[{\"line\":{\"colorbar\":{\"outlinewidth\":0,\"ticks\":\"\"}},\"type\":\"parcoords\"}],\"pie\":[{\"automargin\":true,\"type\":\"pie\"}],\"scatter\":[{\"marker\":{\"colorbar\":{\"outlinewidth\":0,\"ticks\":\"\"}},\"type\":\"scatter\"}],\"scatter3d\":[{\"line\":{\"colorbar\":{\"outlinewidth\":0,\"ticks\":\"\"}},\"marker\":{\"colorbar\":{\"outlinewidth\":0,\"ticks\":\"\"}},\"type\":\"scatter3d\"}],\"scattercarpet\":[{\"marker\":{\"colorbar\":{\"outlinewidth\":0,\"ticks\":\"\"}},\"type\":\"scattercarpet\"}],\"scattergeo\":[{\"marker\":{\"colorbar\":{\"outlinewidth\":0,\"ticks\":\"\"}},\"type\":\"scattergeo\"}],\"scattergl\":[{\"marker\":{\"colorbar\":{\"outlinewidth\":0,\"ticks\":\"\"}},\"type\":\"scattergl\"}],\"scattermapbox\":[{\"marker\":{\"colorbar\":{\"outlinewidth\":0,\"ticks\":\"\"}},\"type\":\"scattermapbox\"}],\"scatterpolar\":[{\"marker\":{\"colorbar\":{\"outlinewidth\":0,\"ticks\":\"\"}},\"type\":\"scatterpolar\"}],\"scatterpolargl\":[{\"marker\":{\"colorbar\":{\"outlinewidth\":0,\"ticks\":\"\"}},\"type\":\"scatterpolargl\"}],\"scatterternary\":[{\"marker\":{\"colorbar\":{\"outlinewidth\":0,\"ticks\":\"\"}},\"type\":\"scatterternary\"}],\"surface\":[{\"colorbar\":{\"outlinewidth\":0,\"ticks\":\"\"},\"colorscale\":[[0.0,\"#0d0887\"],[0.1111111111111111,\"#46039f\"],[0.2222222222222222,\"#7201a8\"],[0.3333333333333333,\"#9c179e\"],[0.4444444444444444,\"#bd3786\"],[0.5555555555555556,\"#d8576b\"],[0.6666666666666666,\"#ed7953\"],[0.7777777777777778,\"#fb9f3a\"],[0.8888888888888888,\"#fdca26\"],[1.0,\"#f0f921\"]],\"type\":\"surface\"}],\"table\":[{\"cells\":{\"fill\":{\"color\":\"#EBF0F8\"},\"line\":{\"color\":\"white\"}},\"header\":{\"fill\":{\"color\":\"#C8D4E3\"},\"line\":{\"color\":\"white\"}},\"type\":\"table\"}]},\"layout\":{\"annotationdefaults\":{\"arrowcolor\":\"#2a3f5f\",\"arrowhead\":0,\"arrowwidth\":1},\"autotypenumbers\":\"strict\",\"coloraxis\":{\"colorbar\":{\"outlinewidth\":0,\"ticks\":\"\"}},\"colorscale\":{\"diverging\":[[0,\"#8e0152\"],[0.1,\"#c51b7d\"],[0.2,\"#de77ae\"],[0.3,\"#f1b6da\"],[0.4,\"#fde0ef\"],[0.5,\"#f7f7f7\"],[0.6,\"#e6f5d0\"],[0.7,\"#b8e186\"],[0.8,\"#7fbc41\"],[0.9,\"#4d9221\"],[1,\"#276419\"]],\"sequential\":[[0.0,\"#0d0887\"],[0.1111111111111111,\"#46039f\"],[0.2222222222222222,\"#7201a8\"],[0.3333333333333333,\"#9c179e\"],[0.4444444444444444,\"#bd3786\"],[0.5555555555555556,\"#d8576b\"],[0.6666666666666666,\"#ed7953\"],[0.7777777777777778,\"#fb9f3a\"],[0.8888888888888888,\"#fdca26\"],[1.0,\"#f0f921\"]],\"sequentialminus\":[[0.0,\"#0d0887\"],[0.1111111111111111,\"#46039f\"],[0.2222222222222222,\"#7201a8\"],[0.3333333333333333,\"#9c179e\"],[0.4444444444444444,\"#bd3786\"],[0.5555555555555556,\"#d8576b\"],[0.6666666666666666,\"#ed7953\"],[0.7777777777777778,\"#fb9f3a\"],[0.8888888888888888,\"#fdca26\"],[1.0,\"#f0f921\"]]},\"colorway\":[\"#636efa\",\"#EF553B\",\"#00cc96\",\"#ab63fa\",\"#FFA15A\",\"#19d3f3\",\"#FF6692\",\"#B6E880\",\"#FF97FF\",\"#FECB52\"],\"font\":{\"color\":\"#2a3f5f\"},\"geo\":{\"bgcolor\":\"white\",\"lakecolor\":\"white\",\"landcolor\":\"white\",\"showlakes\":true,\"showland\":true,\"subunitcolor\":\"#C8D4E3\"},\"hoverlabel\":{\"align\":\"left\"},\"hovermode\":\"closest\",\"mapbox\":{\"style\":\"light\"},\"paper_bgcolor\":\"white\",\"plot_bgcolor\":\"white\",\"polar\":{\"angularaxis\":{\"gridcolor\":\"#EBF0F8\",\"linecolor\":\"#EBF0F8\",\"ticks\":\"\"},\"bgcolor\":\"white\",\"radialaxis\":{\"gridcolor\":\"#EBF0F8\",\"linecolor\":\"#EBF0F8\",\"ticks\":\"\"}},\"scene\":{\"xaxis\":{\"backgroundcolor\":\"white\",\"gridcolor\":\"#DFE8F3\",\"gridwidth\":2,\"linecolor\":\"#EBF0F8\",\"showbackground\":true,\"ticks\":\"\",\"zerolinecolor\":\"#EBF0F8\"},\"yaxis\":{\"backgroundcolor\":\"white\",\"gridcolor\":\"#DFE8F3\",\"gridwidth\":2,\"linecolor\":\"#EBF0F8\",\"showbackground\":true,\"ticks\":\"\",\"zerolinecolor\":\"#EBF0F8\"},\"zaxis\":{\"backgroundcolor\":\"white\",\"gridcolor\":\"#DFE8F3\",\"gridwidth\":2,\"linecolor\":\"#EBF0F8\",\"showbackground\":true,\"ticks\":\"\",\"zerolinecolor\":\"#EBF0F8\"}},\"shapedefaults\":{\"line\":{\"color\":\"#2a3f5f\"}},\"ternary\":{\"aaxis\":{\"gridcolor\":\"#DFE8F3\",\"linecolor\":\"#A2B1C6\",\"ticks\":\"\"},\"baxis\":{\"gridcolor\":\"#DFE8F3\",\"linecolor\":\"#A2B1C6\",\"ticks\":\"\"},\"bgcolor\":\"white\",\"caxis\":{\"gridcolor\":\"#DFE8F3\",\"linecolor\":\"#A2B1C6\",\"ticks\":\"\"}},\"title\":{\"x\":0.05},\"xaxis\":{\"automargin\":true,\"gridcolor\":\"#EBF0F8\",\"linecolor\":\"#EBF0F8\",\"ticks\":\"\",\"title\":{\"standoff\":15},\"zerolinecolor\":\"#EBF0F8\",\"zerolinewidth\":2},\"yaxis\":{\"automargin\":true,\"gridcolor\":\"#EBF0F8\",\"linecolor\":\"#EBF0F8\",\"ticks\":\"\",\"title\":{\"standoff\":15},\"zerolinecolor\":\"#EBF0F8\",\"zerolinewidth\":2}}},\"title\":{\"text\":\"Control vs Test : Searches\"}},                        {\"responsive\": true}                    ).then(function(){\n",
              "                            \n",
              "var gd = document.getElementById('72f32443-b75d-47a7-a689-543cfe4f0d23');\n",
              "var x = new MutationObserver(function (mutations, observer) {{\n",
              "        var display = window.getComputedStyle(gd).display;\n",
              "        if (!display || display === 'none') {{\n",
              "            console.log([gd, 'removed!']);\n",
              "            Plotly.purge(gd);\n",
              "            observer.disconnect();\n",
              "        }}\n",
              "}});\n",
              "\n",
              "// Listen for the removal of the full notebook cells\n",
              "var notebookContainer = gd.closest('#notebook-container');\n",
              "if (notebookContainer) {{\n",
              "    x.observe(notebookContainer, {childList: true});\n",
              "}}\n",
              "\n",
              "// Listen for the clearing of the current output cell\n",
              "var outputEl = gd.closest('.output');\n",
              "if (outputEl) {{\n",
              "    x.observe(outputEl, {childList: true});\n",
              "}}\n",
              "\n",
              "                        })                };                            </script>        </div>\n",
              "</body>\n",
              "</html>"
            ]
          },
          "metadata": {}
        }
      ]
    },
    {
      "cell_type": "code",
      "source": [
        "# [ LEARNING SCOPE]\n",
        "labels = ['Total Clicks from Control', 'Total Clicks raches from Test']\n",
        "\n",
        "counts = [sum(Control['Website Clicks']), sum(Test['Website Clicks'])]\n",
        "\n",
        "colors = ['gold','lightgreen']\n",
        "\n",
        "fig = go.Figure(data= [go.Pie(labels = labels, values = counts)])\n",
        "fig.update_layout(title_text = 'Control vs Test : Searches')\n",
        "fig.update_traces(hoverinfo = 'label+percent', textinfo='value', textfont_size = 30,\n",
        "                  marker = dict(colors = colors, line = dict(color = 'black', width = 3)))\n",
        "\n",
        "fig.show()\n"
      ],
      "metadata": {
        "colab": {
          "base_uri": "https://localhost:8080/",
          "height": 542
        },
        "id": "Ap1jOfWZmjl6",
        "outputId": "b1c0cff3-8eaa-43b7-871a-1bf99090e1d1"
      },
      "execution_count": 35,
      "outputs": [
        {
          "output_type": "display_data",
          "data": {
            "text/html": [
              "<html>\n",
              "<head><meta charset=\"utf-8\" /></head>\n",
              "<body>\n",
              "    <div>            <script src=\"https://cdnjs.cloudflare.com/ajax/libs/mathjax/2.7.5/MathJax.js?config=TeX-AMS-MML_SVG\"></script><script type=\"text/javascript\">if (window.MathJax) {MathJax.Hub.Config({SVG: {font: \"STIX-Web\"}});}</script>                <script type=\"text/javascript\">window.PlotlyConfig = {MathJaxConfig: 'local'};</script>\n",
              "        <script src=\"https://cdn.plot.ly/plotly-2.8.3.min.js\"></script>                <div id=\"5895af79-3450-4661-9358-e2f568f82847\" class=\"plotly-graph-div\" style=\"height:525px; width:100%;\"></div>            <script type=\"text/javascript\">                                    window.PLOTLYENV=window.PLOTLYENV || {};                                    if (document.getElementById(\"5895af79-3450-4661-9358-e2f568f82847\")) {                    Plotly.newPlot(                        \"5895af79-3450-4661-9358-e2f568f82847\",                        [{\"labels\":[\"Total Clicks from Control\",\"Total Clicks raches from Test\"],\"values\":[159623.7931034483,180970],\"type\":\"pie\",\"textfont\":{\"size\":30},\"marker\":{\"line\":{\"color\":\"black\",\"width\":3},\"colors\":[\"gold\",\"lightgreen\"]},\"hoverinfo\":\"label+percent\",\"textinfo\":\"value\"}],                        {\"template\":{\"data\":{\"bar\":[{\"error_x\":{\"color\":\"#2a3f5f\"},\"error_y\":{\"color\":\"#2a3f5f\"},\"marker\":{\"line\":{\"color\":\"white\",\"width\":0.5},\"pattern\":{\"fillmode\":\"overlay\",\"size\":10,\"solidity\":0.2}},\"type\":\"bar\"}],\"barpolar\":[{\"marker\":{\"line\":{\"color\":\"white\",\"width\":0.5},\"pattern\":{\"fillmode\":\"overlay\",\"size\":10,\"solidity\":0.2}},\"type\":\"barpolar\"}],\"carpet\":[{\"aaxis\":{\"endlinecolor\":\"#2a3f5f\",\"gridcolor\":\"#C8D4E3\",\"linecolor\":\"#C8D4E3\",\"minorgridcolor\":\"#C8D4E3\",\"startlinecolor\":\"#2a3f5f\"},\"baxis\":{\"endlinecolor\":\"#2a3f5f\",\"gridcolor\":\"#C8D4E3\",\"linecolor\":\"#C8D4E3\",\"minorgridcolor\":\"#C8D4E3\",\"startlinecolor\":\"#2a3f5f\"},\"type\":\"carpet\"}],\"choropleth\":[{\"colorbar\":{\"outlinewidth\":0,\"ticks\":\"\"},\"type\":\"choropleth\"}],\"contour\":[{\"colorbar\":{\"outlinewidth\":0,\"ticks\":\"\"},\"colorscale\":[[0.0,\"#0d0887\"],[0.1111111111111111,\"#46039f\"],[0.2222222222222222,\"#7201a8\"],[0.3333333333333333,\"#9c179e\"],[0.4444444444444444,\"#bd3786\"],[0.5555555555555556,\"#d8576b\"],[0.6666666666666666,\"#ed7953\"],[0.7777777777777778,\"#fb9f3a\"],[0.8888888888888888,\"#fdca26\"],[1.0,\"#f0f921\"]],\"type\":\"contour\"}],\"contourcarpet\":[{\"colorbar\":{\"outlinewidth\":0,\"ticks\":\"\"},\"type\":\"contourcarpet\"}],\"heatmap\":[{\"colorbar\":{\"outlinewidth\":0,\"ticks\":\"\"},\"colorscale\":[[0.0,\"#0d0887\"],[0.1111111111111111,\"#46039f\"],[0.2222222222222222,\"#7201a8\"],[0.3333333333333333,\"#9c179e\"],[0.4444444444444444,\"#bd3786\"],[0.5555555555555556,\"#d8576b\"],[0.6666666666666666,\"#ed7953\"],[0.7777777777777778,\"#fb9f3a\"],[0.8888888888888888,\"#fdca26\"],[1.0,\"#f0f921\"]],\"type\":\"heatmap\"}],\"heatmapgl\":[{\"colorbar\":{\"outlinewidth\":0,\"ticks\":\"\"},\"colorscale\":[[0.0,\"#0d0887\"],[0.1111111111111111,\"#46039f\"],[0.2222222222222222,\"#7201a8\"],[0.3333333333333333,\"#9c179e\"],[0.4444444444444444,\"#bd3786\"],[0.5555555555555556,\"#d8576b\"],[0.6666666666666666,\"#ed7953\"],[0.7777777777777778,\"#fb9f3a\"],[0.8888888888888888,\"#fdca26\"],[1.0,\"#f0f921\"]],\"type\":\"heatmapgl\"}],\"histogram\":[{\"marker\":{\"pattern\":{\"fillmode\":\"overlay\",\"size\":10,\"solidity\":0.2}},\"type\":\"histogram\"}],\"histogram2d\":[{\"colorbar\":{\"outlinewidth\":0,\"ticks\":\"\"},\"colorscale\":[[0.0,\"#0d0887\"],[0.1111111111111111,\"#46039f\"],[0.2222222222222222,\"#7201a8\"],[0.3333333333333333,\"#9c179e\"],[0.4444444444444444,\"#bd3786\"],[0.5555555555555556,\"#d8576b\"],[0.6666666666666666,\"#ed7953\"],[0.7777777777777778,\"#fb9f3a\"],[0.8888888888888888,\"#fdca26\"],[1.0,\"#f0f921\"]],\"type\":\"histogram2d\"}],\"histogram2dcontour\":[{\"colorbar\":{\"outlinewidth\":0,\"ticks\":\"\"},\"colorscale\":[[0.0,\"#0d0887\"],[0.1111111111111111,\"#46039f\"],[0.2222222222222222,\"#7201a8\"],[0.3333333333333333,\"#9c179e\"],[0.4444444444444444,\"#bd3786\"],[0.5555555555555556,\"#d8576b\"],[0.6666666666666666,\"#ed7953\"],[0.7777777777777778,\"#fb9f3a\"],[0.8888888888888888,\"#fdca26\"],[1.0,\"#f0f921\"]],\"type\":\"histogram2dcontour\"}],\"mesh3d\":[{\"colorbar\":{\"outlinewidth\":0,\"ticks\":\"\"},\"type\":\"mesh3d\"}],\"parcoords\":[{\"line\":{\"colorbar\":{\"outlinewidth\":0,\"ticks\":\"\"}},\"type\":\"parcoords\"}],\"pie\":[{\"automargin\":true,\"type\":\"pie\"}],\"scatter\":[{\"marker\":{\"colorbar\":{\"outlinewidth\":0,\"ticks\":\"\"}},\"type\":\"scatter\"}],\"scatter3d\":[{\"line\":{\"colorbar\":{\"outlinewidth\":0,\"ticks\":\"\"}},\"marker\":{\"colorbar\":{\"outlinewidth\":0,\"ticks\":\"\"}},\"type\":\"scatter3d\"}],\"scattercarpet\":[{\"marker\":{\"colorbar\":{\"outlinewidth\":0,\"ticks\":\"\"}},\"type\":\"scattercarpet\"}],\"scattergeo\":[{\"marker\":{\"colorbar\":{\"outlinewidth\":0,\"ticks\":\"\"}},\"type\":\"scattergeo\"}],\"scattergl\":[{\"marker\":{\"colorbar\":{\"outlinewidth\":0,\"ticks\":\"\"}},\"type\":\"scattergl\"}],\"scattermapbox\":[{\"marker\":{\"colorbar\":{\"outlinewidth\":0,\"ticks\":\"\"}},\"type\":\"scattermapbox\"}],\"scatterpolar\":[{\"marker\":{\"colorbar\":{\"outlinewidth\":0,\"ticks\":\"\"}},\"type\":\"scatterpolar\"}],\"scatterpolargl\":[{\"marker\":{\"colorbar\":{\"outlinewidth\":0,\"ticks\":\"\"}},\"type\":\"scatterpolargl\"}],\"scatterternary\":[{\"marker\":{\"colorbar\":{\"outlinewidth\":0,\"ticks\":\"\"}},\"type\":\"scatterternary\"}],\"surface\":[{\"colorbar\":{\"outlinewidth\":0,\"ticks\":\"\"},\"colorscale\":[[0.0,\"#0d0887\"],[0.1111111111111111,\"#46039f\"],[0.2222222222222222,\"#7201a8\"],[0.3333333333333333,\"#9c179e\"],[0.4444444444444444,\"#bd3786\"],[0.5555555555555556,\"#d8576b\"],[0.6666666666666666,\"#ed7953\"],[0.7777777777777778,\"#fb9f3a\"],[0.8888888888888888,\"#fdca26\"],[1.0,\"#f0f921\"]],\"type\":\"surface\"}],\"table\":[{\"cells\":{\"fill\":{\"color\":\"#EBF0F8\"},\"line\":{\"color\":\"white\"}},\"header\":{\"fill\":{\"color\":\"#C8D4E3\"},\"line\":{\"color\":\"white\"}},\"type\":\"table\"}]},\"layout\":{\"annotationdefaults\":{\"arrowcolor\":\"#2a3f5f\",\"arrowhead\":0,\"arrowwidth\":1},\"autotypenumbers\":\"strict\",\"coloraxis\":{\"colorbar\":{\"outlinewidth\":0,\"ticks\":\"\"}},\"colorscale\":{\"diverging\":[[0,\"#8e0152\"],[0.1,\"#c51b7d\"],[0.2,\"#de77ae\"],[0.3,\"#f1b6da\"],[0.4,\"#fde0ef\"],[0.5,\"#f7f7f7\"],[0.6,\"#e6f5d0\"],[0.7,\"#b8e186\"],[0.8,\"#7fbc41\"],[0.9,\"#4d9221\"],[1,\"#276419\"]],\"sequential\":[[0.0,\"#0d0887\"],[0.1111111111111111,\"#46039f\"],[0.2222222222222222,\"#7201a8\"],[0.3333333333333333,\"#9c179e\"],[0.4444444444444444,\"#bd3786\"],[0.5555555555555556,\"#d8576b\"],[0.6666666666666666,\"#ed7953\"],[0.7777777777777778,\"#fb9f3a\"],[0.8888888888888888,\"#fdca26\"],[1.0,\"#f0f921\"]],\"sequentialminus\":[[0.0,\"#0d0887\"],[0.1111111111111111,\"#46039f\"],[0.2222222222222222,\"#7201a8\"],[0.3333333333333333,\"#9c179e\"],[0.4444444444444444,\"#bd3786\"],[0.5555555555555556,\"#d8576b\"],[0.6666666666666666,\"#ed7953\"],[0.7777777777777778,\"#fb9f3a\"],[0.8888888888888888,\"#fdca26\"],[1.0,\"#f0f921\"]]},\"colorway\":[\"#636efa\",\"#EF553B\",\"#00cc96\",\"#ab63fa\",\"#FFA15A\",\"#19d3f3\",\"#FF6692\",\"#B6E880\",\"#FF97FF\",\"#FECB52\"],\"font\":{\"color\":\"#2a3f5f\"},\"geo\":{\"bgcolor\":\"white\",\"lakecolor\":\"white\",\"landcolor\":\"white\",\"showlakes\":true,\"showland\":true,\"subunitcolor\":\"#C8D4E3\"},\"hoverlabel\":{\"align\":\"left\"},\"hovermode\":\"closest\",\"mapbox\":{\"style\":\"light\"},\"paper_bgcolor\":\"white\",\"plot_bgcolor\":\"white\",\"polar\":{\"angularaxis\":{\"gridcolor\":\"#EBF0F8\",\"linecolor\":\"#EBF0F8\",\"ticks\":\"\"},\"bgcolor\":\"white\",\"radialaxis\":{\"gridcolor\":\"#EBF0F8\",\"linecolor\":\"#EBF0F8\",\"ticks\":\"\"}},\"scene\":{\"xaxis\":{\"backgroundcolor\":\"white\",\"gridcolor\":\"#DFE8F3\",\"gridwidth\":2,\"linecolor\":\"#EBF0F8\",\"showbackground\":true,\"ticks\":\"\",\"zerolinecolor\":\"#EBF0F8\"},\"yaxis\":{\"backgroundcolor\":\"white\",\"gridcolor\":\"#DFE8F3\",\"gridwidth\":2,\"linecolor\":\"#EBF0F8\",\"showbackground\":true,\"ticks\":\"\",\"zerolinecolor\":\"#EBF0F8\"},\"zaxis\":{\"backgroundcolor\":\"white\",\"gridcolor\":\"#DFE8F3\",\"gridwidth\":2,\"linecolor\":\"#EBF0F8\",\"showbackground\":true,\"ticks\":\"\",\"zerolinecolor\":\"#EBF0F8\"}},\"shapedefaults\":{\"line\":{\"color\":\"#2a3f5f\"}},\"ternary\":{\"aaxis\":{\"gridcolor\":\"#DFE8F3\",\"linecolor\":\"#A2B1C6\",\"ticks\":\"\"},\"baxis\":{\"gridcolor\":\"#DFE8F3\",\"linecolor\":\"#A2B1C6\",\"ticks\":\"\"},\"bgcolor\":\"white\",\"caxis\":{\"gridcolor\":\"#DFE8F3\",\"linecolor\":\"#A2B1C6\",\"ticks\":\"\"}},\"title\":{\"x\":0.05},\"xaxis\":{\"automargin\":true,\"gridcolor\":\"#EBF0F8\",\"linecolor\":\"#EBF0F8\",\"ticks\":\"\",\"title\":{\"standoff\":15},\"zerolinecolor\":\"#EBF0F8\",\"zerolinewidth\":2},\"yaxis\":{\"automargin\":true,\"gridcolor\":\"#EBF0F8\",\"linecolor\":\"#EBF0F8\",\"ticks\":\"\",\"title\":{\"standoff\":15},\"zerolinecolor\":\"#EBF0F8\",\"zerolinewidth\":2}}},\"title\":{\"text\":\"Control vs Test : Searches\"}},                        {\"responsive\": true}                    ).then(function(){\n",
              "                            \n",
              "var gd = document.getElementById('5895af79-3450-4661-9358-e2f568f82847');\n",
              "var x = new MutationObserver(function (mutations, observer) {{\n",
              "        var display = window.getComputedStyle(gd).display;\n",
              "        if (!display || display === 'none') {{\n",
              "            console.log([gd, 'removed!']);\n",
              "            Plotly.purge(gd);\n",
              "            observer.disconnect();\n",
              "        }}\n",
              "}});\n",
              "\n",
              "// Listen for the removal of the full notebook cells\n",
              "var notebookContainer = gd.closest('#notebook-container');\n",
              "if (notebookContainer) {{\n",
              "    x.observe(notebookContainer, {childList: true});\n",
              "}}\n",
              "\n",
              "// Listen for the clearing of the current output cell\n",
              "var outputEl = gd.closest('.output');\n",
              "if (outputEl) {{\n",
              "    x.observe(outputEl, {childList: true});\n",
              "}}\n",
              "\n",
              "                        })                };                            </script>        </div>\n",
              "</body>\n",
              "</html>"
            ]
          },
          "metadata": {}
        }
      ]
    },
    {
      "cell_type": "code",
      "source": [
        "# [ LEARNING SCOPE]\n",
        "labels = ['Total Content Viewed from Control', 'Total Content Viewed from Test']\n",
        "\n",
        "counts = [sum(Control['Content Viewed']), sum(Test['Content Viewed'])]\n",
        "\n",
        "colors = ['gold','lightgreen']\n",
        "\n",
        "fig = go.Figure(data= [go.Pie(labels = labels, values = counts)])\n",
        "fig.update_layout(title_text = 'Control vs Test : Searches')\n",
        "fig.update_traces(hoverinfo = 'label+percent', textinfo='value', textfont_size = 30,\n",
        "                  marker = dict(colors = colors, line = dict(color = 'black', width = 3)))\n",
        "\n",
        "fig.show()"
      ],
      "metadata": {
        "colab": {
          "base_uri": "https://localhost:8080/",
          "height": 542
        },
        "id": "iOA6HNUJm5XP",
        "outputId": "cca67959-45ff-42a2-93bd-aabbea83aadb"
      },
      "execution_count": 36,
      "outputs": [
        {
          "output_type": "display_data",
          "data": {
            "text/html": [
              "<html>\n",
              "<head><meta charset=\"utf-8\" /></head>\n",
              "<body>\n",
              "    <div>            <script src=\"https://cdnjs.cloudflare.com/ajax/libs/mathjax/2.7.5/MathJax.js?config=TeX-AMS-MML_SVG\"></script><script type=\"text/javascript\">if (window.MathJax) {MathJax.Hub.Config({SVG: {font: \"STIX-Web\"}});}</script>                <script type=\"text/javascript\">window.PlotlyConfig = {MathJaxConfig: 'local'};</script>\n",
              "        <script src=\"https://cdn.plot.ly/plotly-2.8.3.min.js\"></script>                <div id=\"23bd5b44-3725-446d-b235-ebf1c1539e42\" class=\"plotly-graph-div\" style=\"height:525px; width:100%;\"></div>            <script type=\"text/javascript\">                                    window.PLOTLYENV=window.PLOTLYENV || {};                                    if (document.getElementById(\"23bd5b44-3725-446d-b235-ebf1c1539e42\")) {                    Plotly.newPlot(                        \"23bd5b44-3725-446d-b235-ebf1c1539e42\",                        [{\"labels\":[\"Total Content Viewed from Control\",\"Total Content Viewed from Test\"],\"values\":[58313.793103448275,55740],\"type\":\"pie\",\"textfont\":{\"size\":30},\"marker\":{\"line\":{\"color\":\"black\",\"width\":3},\"colors\":[\"gold\",\"lightgreen\"]},\"hoverinfo\":\"label+percent\",\"textinfo\":\"value\"}],                        {\"template\":{\"data\":{\"bar\":[{\"error_x\":{\"color\":\"#2a3f5f\"},\"error_y\":{\"color\":\"#2a3f5f\"},\"marker\":{\"line\":{\"color\":\"white\",\"width\":0.5},\"pattern\":{\"fillmode\":\"overlay\",\"size\":10,\"solidity\":0.2}},\"type\":\"bar\"}],\"barpolar\":[{\"marker\":{\"line\":{\"color\":\"white\",\"width\":0.5},\"pattern\":{\"fillmode\":\"overlay\",\"size\":10,\"solidity\":0.2}},\"type\":\"barpolar\"}],\"carpet\":[{\"aaxis\":{\"endlinecolor\":\"#2a3f5f\",\"gridcolor\":\"#C8D4E3\",\"linecolor\":\"#C8D4E3\",\"minorgridcolor\":\"#C8D4E3\",\"startlinecolor\":\"#2a3f5f\"},\"baxis\":{\"endlinecolor\":\"#2a3f5f\",\"gridcolor\":\"#C8D4E3\",\"linecolor\":\"#C8D4E3\",\"minorgridcolor\":\"#C8D4E3\",\"startlinecolor\":\"#2a3f5f\"},\"type\":\"carpet\"}],\"choropleth\":[{\"colorbar\":{\"outlinewidth\":0,\"ticks\":\"\"},\"type\":\"choropleth\"}],\"contour\":[{\"colorbar\":{\"outlinewidth\":0,\"ticks\":\"\"},\"colorscale\":[[0.0,\"#0d0887\"],[0.1111111111111111,\"#46039f\"],[0.2222222222222222,\"#7201a8\"],[0.3333333333333333,\"#9c179e\"],[0.4444444444444444,\"#bd3786\"],[0.5555555555555556,\"#d8576b\"],[0.6666666666666666,\"#ed7953\"],[0.7777777777777778,\"#fb9f3a\"],[0.8888888888888888,\"#fdca26\"],[1.0,\"#f0f921\"]],\"type\":\"contour\"}],\"contourcarpet\":[{\"colorbar\":{\"outlinewidth\":0,\"ticks\":\"\"},\"type\":\"contourcarpet\"}],\"heatmap\":[{\"colorbar\":{\"outlinewidth\":0,\"ticks\":\"\"},\"colorscale\":[[0.0,\"#0d0887\"],[0.1111111111111111,\"#46039f\"],[0.2222222222222222,\"#7201a8\"],[0.3333333333333333,\"#9c179e\"],[0.4444444444444444,\"#bd3786\"],[0.5555555555555556,\"#d8576b\"],[0.6666666666666666,\"#ed7953\"],[0.7777777777777778,\"#fb9f3a\"],[0.8888888888888888,\"#fdca26\"],[1.0,\"#f0f921\"]],\"type\":\"heatmap\"}],\"heatmapgl\":[{\"colorbar\":{\"outlinewidth\":0,\"ticks\":\"\"},\"colorscale\":[[0.0,\"#0d0887\"],[0.1111111111111111,\"#46039f\"],[0.2222222222222222,\"#7201a8\"],[0.3333333333333333,\"#9c179e\"],[0.4444444444444444,\"#bd3786\"],[0.5555555555555556,\"#d8576b\"],[0.6666666666666666,\"#ed7953\"],[0.7777777777777778,\"#fb9f3a\"],[0.8888888888888888,\"#fdca26\"],[1.0,\"#f0f921\"]],\"type\":\"heatmapgl\"}],\"histogram\":[{\"marker\":{\"pattern\":{\"fillmode\":\"overlay\",\"size\":10,\"solidity\":0.2}},\"type\":\"histogram\"}],\"histogram2d\":[{\"colorbar\":{\"outlinewidth\":0,\"ticks\":\"\"},\"colorscale\":[[0.0,\"#0d0887\"],[0.1111111111111111,\"#46039f\"],[0.2222222222222222,\"#7201a8\"],[0.3333333333333333,\"#9c179e\"],[0.4444444444444444,\"#bd3786\"],[0.5555555555555556,\"#d8576b\"],[0.6666666666666666,\"#ed7953\"],[0.7777777777777778,\"#fb9f3a\"],[0.8888888888888888,\"#fdca26\"],[1.0,\"#f0f921\"]],\"type\":\"histogram2d\"}],\"histogram2dcontour\":[{\"colorbar\":{\"outlinewidth\":0,\"ticks\":\"\"},\"colorscale\":[[0.0,\"#0d0887\"],[0.1111111111111111,\"#46039f\"],[0.2222222222222222,\"#7201a8\"],[0.3333333333333333,\"#9c179e\"],[0.4444444444444444,\"#bd3786\"],[0.5555555555555556,\"#d8576b\"],[0.6666666666666666,\"#ed7953\"],[0.7777777777777778,\"#fb9f3a\"],[0.8888888888888888,\"#fdca26\"],[1.0,\"#f0f921\"]],\"type\":\"histogram2dcontour\"}],\"mesh3d\":[{\"colorbar\":{\"outlinewidth\":0,\"ticks\":\"\"},\"type\":\"mesh3d\"}],\"parcoords\":[{\"line\":{\"colorbar\":{\"outlinewidth\":0,\"ticks\":\"\"}},\"type\":\"parcoords\"}],\"pie\":[{\"automargin\":true,\"type\":\"pie\"}],\"scatter\":[{\"marker\":{\"colorbar\":{\"outlinewidth\":0,\"ticks\":\"\"}},\"type\":\"scatter\"}],\"scatter3d\":[{\"line\":{\"colorbar\":{\"outlinewidth\":0,\"ticks\":\"\"}},\"marker\":{\"colorbar\":{\"outlinewidth\":0,\"ticks\":\"\"}},\"type\":\"scatter3d\"}],\"scattercarpet\":[{\"marker\":{\"colorbar\":{\"outlinewidth\":0,\"ticks\":\"\"}},\"type\":\"scattercarpet\"}],\"scattergeo\":[{\"marker\":{\"colorbar\":{\"outlinewidth\":0,\"ticks\":\"\"}},\"type\":\"scattergeo\"}],\"scattergl\":[{\"marker\":{\"colorbar\":{\"outlinewidth\":0,\"ticks\":\"\"}},\"type\":\"scattergl\"}],\"scattermapbox\":[{\"marker\":{\"colorbar\":{\"outlinewidth\":0,\"ticks\":\"\"}},\"type\":\"scattermapbox\"}],\"scatterpolar\":[{\"marker\":{\"colorbar\":{\"outlinewidth\":0,\"ticks\":\"\"}},\"type\":\"scatterpolar\"}],\"scatterpolargl\":[{\"marker\":{\"colorbar\":{\"outlinewidth\":0,\"ticks\":\"\"}},\"type\":\"scatterpolargl\"}],\"scatterternary\":[{\"marker\":{\"colorbar\":{\"outlinewidth\":0,\"ticks\":\"\"}},\"type\":\"scatterternary\"}],\"surface\":[{\"colorbar\":{\"outlinewidth\":0,\"ticks\":\"\"},\"colorscale\":[[0.0,\"#0d0887\"],[0.1111111111111111,\"#46039f\"],[0.2222222222222222,\"#7201a8\"],[0.3333333333333333,\"#9c179e\"],[0.4444444444444444,\"#bd3786\"],[0.5555555555555556,\"#d8576b\"],[0.6666666666666666,\"#ed7953\"],[0.7777777777777778,\"#fb9f3a\"],[0.8888888888888888,\"#fdca26\"],[1.0,\"#f0f921\"]],\"type\":\"surface\"}],\"table\":[{\"cells\":{\"fill\":{\"color\":\"#EBF0F8\"},\"line\":{\"color\":\"white\"}},\"header\":{\"fill\":{\"color\":\"#C8D4E3\"},\"line\":{\"color\":\"white\"}},\"type\":\"table\"}]},\"layout\":{\"annotationdefaults\":{\"arrowcolor\":\"#2a3f5f\",\"arrowhead\":0,\"arrowwidth\":1},\"autotypenumbers\":\"strict\",\"coloraxis\":{\"colorbar\":{\"outlinewidth\":0,\"ticks\":\"\"}},\"colorscale\":{\"diverging\":[[0,\"#8e0152\"],[0.1,\"#c51b7d\"],[0.2,\"#de77ae\"],[0.3,\"#f1b6da\"],[0.4,\"#fde0ef\"],[0.5,\"#f7f7f7\"],[0.6,\"#e6f5d0\"],[0.7,\"#b8e186\"],[0.8,\"#7fbc41\"],[0.9,\"#4d9221\"],[1,\"#276419\"]],\"sequential\":[[0.0,\"#0d0887\"],[0.1111111111111111,\"#46039f\"],[0.2222222222222222,\"#7201a8\"],[0.3333333333333333,\"#9c179e\"],[0.4444444444444444,\"#bd3786\"],[0.5555555555555556,\"#d8576b\"],[0.6666666666666666,\"#ed7953\"],[0.7777777777777778,\"#fb9f3a\"],[0.8888888888888888,\"#fdca26\"],[1.0,\"#f0f921\"]],\"sequentialminus\":[[0.0,\"#0d0887\"],[0.1111111111111111,\"#46039f\"],[0.2222222222222222,\"#7201a8\"],[0.3333333333333333,\"#9c179e\"],[0.4444444444444444,\"#bd3786\"],[0.5555555555555556,\"#d8576b\"],[0.6666666666666666,\"#ed7953\"],[0.7777777777777778,\"#fb9f3a\"],[0.8888888888888888,\"#fdca26\"],[1.0,\"#f0f921\"]]},\"colorway\":[\"#636efa\",\"#EF553B\",\"#00cc96\",\"#ab63fa\",\"#FFA15A\",\"#19d3f3\",\"#FF6692\",\"#B6E880\",\"#FF97FF\",\"#FECB52\"],\"font\":{\"color\":\"#2a3f5f\"},\"geo\":{\"bgcolor\":\"white\",\"lakecolor\":\"white\",\"landcolor\":\"white\",\"showlakes\":true,\"showland\":true,\"subunitcolor\":\"#C8D4E3\"},\"hoverlabel\":{\"align\":\"left\"},\"hovermode\":\"closest\",\"mapbox\":{\"style\":\"light\"},\"paper_bgcolor\":\"white\",\"plot_bgcolor\":\"white\",\"polar\":{\"angularaxis\":{\"gridcolor\":\"#EBF0F8\",\"linecolor\":\"#EBF0F8\",\"ticks\":\"\"},\"bgcolor\":\"white\",\"radialaxis\":{\"gridcolor\":\"#EBF0F8\",\"linecolor\":\"#EBF0F8\",\"ticks\":\"\"}},\"scene\":{\"xaxis\":{\"backgroundcolor\":\"white\",\"gridcolor\":\"#DFE8F3\",\"gridwidth\":2,\"linecolor\":\"#EBF0F8\",\"showbackground\":true,\"ticks\":\"\",\"zerolinecolor\":\"#EBF0F8\"},\"yaxis\":{\"backgroundcolor\":\"white\",\"gridcolor\":\"#DFE8F3\",\"gridwidth\":2,\"linecolor\":\"#EBF0F8\",\"showbackground\":true,\"ticks\":\"\",\"zerolinecolor\":\"#EBF0F8\"},\"zaxis\":{\"backgroundcolor\":\"white\",\"gridcolor\":\"#DFE8F3\",\"gridwidth\":2,\"linecolor\":\"#EBF0F8\",\"showbackground\":true,\"ticks\":\"\",\"zerolinecolor\":\"#EBF0F8\"}},\"shapedefaults\":{\"line\":{\"color\":\"#2a3f5f\"}},\"ternary\":{\"aaxis\":{\"gridcolor\":\"#DFE8F3\",\"linecolor\":\"#A2B1C6\",\"ticks\":\"\"},\"baxis\":{\"gridcolor\":\"#DFE8F3\",\"linecolor\":\"#A2B1C6\",\"ticks\":\"\"},\"bgcolor\":\"white\",\"caxis\":{\"gridcolor\":\"#DFE8F3\",\"linecolor\":\"#A2B1C6\",\"ticks\":\"\"}},\"title\":{\"x\":0.05},\"xaxis\":{\"automargin\":true,\"gridcolor\":\"#EBF0F8\",\"linecolor\":\"#EBF0F8\",\"ticks\":\"\",\"title\":{\"standoff\":15},\"zerolinecolor\":\"#EBF0F8\",\"zerolinewidth\":2},\"yaxis\":{\"automargin\":true,\"gridcolor\":\"#EBF0F8\",\"linecolor\":\"#EBF0F8\",\"ticks\":\"\",\"title\":{\"standoff\":15},\"zerolinecolor\":\"#EBF0F8\",\"zerolinewidth\":2}}},\"title\":{\"text\":\"Control vs Test : Searches\"}},                        {\"responsive\": true}                    ).then(function(){\n",
              "                            \n",
              "var gd = document.getElementById('23bd5b44-3725-446d-b235-ebf1c1539e42');\n",
              "var x = new MutationObserver(function (mutations, observer) {{\n",
              "        var display = window.getComputedStyle(gd).display;\n",
              "        if (!display || display === 'none') {{\n",
              "            console.log([gd, 'removed!']);\n",
              "            Plotly.purge(gd);\n",
              "            observer.disconnect();\n",
              "        }}\n",
              "}});\n",
              "\n",
              "// Listen for the removal of the full notebook cells\n",
              "var notebookContainer = gd.closest('#notebook-container');\n",
              "if (notebookContainer) {{\n",
              "    x.observe(notebookContainer, {childList: true});\n",
              "}}\n",
              "\n",
              "// Listen for the clearing of the current output cell\n",
              "var outputEl = gd.closest('.output');\n",
              "if (outputEl) {{\n",
              "    x.observe(outputEl, {childList: true});\n",
              "}}\n",
              "\n",
              "                        })                };                            </script>        </div>\n",
              "</body>\n",
              "</html>"
            ]
          },
          "metadata": {}
        }
      ]
    },
    {
      "cell_type": "code",
      "source": [
        "# [ LEARNING SCOPE]\n",
        "labels = ['Total RATIO OF CLICKED VS VIEWED from Control', 'Total RATIO OF CLICKED VS VIEWED from Test']\n",
        "\n",
        "counts = [sum(Control['Website Clicks'])/sum(Control['Content Viewed']), sum(Test['Website Clicks'])/sum(Test['Content Viewed'])]\n",
        "\n",
        "colors = ['gold','lightgreen']\n",
        "\n",
        "fig = go.Figure(data= [go.Pie(labels = labels, values = counts)])\n",
        "fig.update_layout(title_text = 'Control vs Test : Cicked vs Viewed Ratio')\n",
        "fig.update_traces(hoverinfo = 'label+percent', textinfo='value', textfont_size = 30,\n",
        "                  marker = dict(colors = colors, line = dict(color = 'black', width = 3)))\n",
        "\n",
        "fig.show()"
      ],
      "metadata": {
        "colab": {
          "base_uri": "https://localhost:8080/",
          "height": 542
        },
        "id": "aJ_rwkR6nK6z",
        "outputId": "c3af73ab-3b9e-4d32-a385-5765194db0ed"
      },
      "execution_count": 37,
      "outputs": [
        {
          "output_type": "display_data",
          "data": {
            "text/html": [
              "<html>\n",
              "<head><meta charset=\"utf-8\" /></head>\n",
              "<body>\n",
              "    <div>            <script src=\"https://cdnjs.cloudflare.com/ajax/libs/mathjax/2.7.5/MathJax.js?config=TeX-AMS-MML_SVG\"></script><script type=\"text/javascript\">if (window.MathJax) {MathJax.Hub.Config({SVG: {font: \"STIX-Web\"}});}</script>                <script type=\"text/javascript\">window.PlotlyConfig = {MathJaxConfig: 'local'};</script>\n",
              "        <script src=\"https://cdn.plot.ly/plotly-2.8.3.min.js\"></script>                <div id=\"e6e0f9ce-665a-43c6-b6b3-ed3bbc6f49ea\" class=\"plotly-graph-div\" style=\"height:525px; width:100%;\"></div>            <script type=\"text/javascript\">                                    window.PLOTLYENV=window.PLOTLYENV || {};                                    if (document.getElementById(\"e6e0f9ce-665a-43c6-b6b3-ed3bbc6f49ea\")) {                    Plotly.newPlot(                        \"e6e0f9ce-665a-43c6-b6b3-ed3bbc6f49ea\",                        [{\"labels\":[\"Total RATIO OF CLICKED VS VIEWED from Control\",\"Total RATIO OF CLICKED VS VIEWED from Test\"],\"values\":[2.7373248181656913,3.246681019016864],\"type\":\"pie\",\"textfont\":{\"size\":30},\"marker\":{\"line\":{\"color\":\"black\",\"width\":3},\"colors\":[\"gold\",\"lightgreen\"]},\"hoverinfo\":\"label+percent\",\"textinfo\":\"value\"}],                        {\"template\":{\"data\":{\"bar\":[{\"error_x\":{\"color\":\"#2a3f5f\"},\"error_y\":{\"color\":\"#2a3f5f\"},\"marker\":{\"line\":{\"color\":\"white\",\"width\":0.5},\"pattern\":{\"fillmode\":\"overlay\",\"size\":10,\"solidity\":0.2}},\"type\":\"bar\"}],\"barpolar\":[{\"marker\":{\"line\":{\"color\":\"white\",\"width\":0.5},\"pattern\":{\"fillmode\":\"overlay\",\"size\":10,\"solidity\":0.2}},\"type\":\"barpolar\"}],\"carpet\":[{\"aaxis\":{\"endlinecolor\":\"#2a3f5f\",\"gridcolor\":\"#C8D4E3\",\"linecolor\":\"#C8D4E3\",\"minorgridcolor\":\"#C8D4E3\",\"startlinecolor\":\"#2a3f5f\"},\"baxis\":{\"endlinecolor\":\"#2a3f5f\",\"gridcolor\":\"#C8D4E3\",\"linecolor\":\"#C8D4E3\",\"minorgridcolor\":\"#C8D4E3\",\"startlinecolor\":\"#2a3f5f\"},\"type\":\"carpet\"}],\"choropleth\":[{\"colorbar\":{\"outlinewidth\":0,\"ticks\":\"\"},\"type\":\"choropleth\"}],\"contour\":[{\"colorbar\":{\"outlinewidth\":0,\"ticks\":\"\"},\"colorscale\":[[0.0,\"#0d0887\"],[0.1111111111111111,\"#46039f\"],[0.2222222222222222,\"#7201a8\"],[0.3333333333333333,\"#9c179e\"],[0.4444444444444444,\"#bd3786\"],[0.5555555555555556,\"#d8576b\"],[0.6666666666666666,\"#ed7953\"],[0.7777777777777778,\"#fb9f3a\"],[0.8888888888888888,\"#fdca26\"],[1.0,\"#f0f921\"]],\"type\":\"contour\"}],\"contourcarpet\":[{\"colorbar\":{\"outlinewidth\":0,\"ticks\":\"\"},\"type\":\"contourcarpet\"}],\"heatmap\":[{\"colorbar\":{\"outlinewidth\":0,\"ticks\":\"\"},\"colorscale\":[[0.0,\"#0d0887\"],[0.1111111111111111,\"#46039f\"],[0.2222222222222222,\"#7201a8\"],[0.3333333333333333,\"#9c179e\"],[0.4444444444444444,\"#bd3786\"],[0.5555555555555556,\"#d8576b\"],[0.6666666666666666,\"#ed7953\"],[0.7777777777777778,\"#fb9f3a\"],[0.8888888888888888,\"#fdca26\"],[1.0,\"#f0f921\"]],\"type\":\"heatmap\"}],\"heatmapgl\":[{\"colorbar\":{\"outlinewidth\":0,\"ticks\":\"\"},\"colorscale\":[[0.0,\"#0d0887\"],[0.1111111111111111,\"#46039f\"],[0.2222222222222222,\"#7201a8\"],[0.3333333333333333,\"#9c179e\"],[0.4444444444444444,\"#bd3786\"],[0.5555555555555556,\"#d8576b\"],[0.6666666666666666,\"#ed7953\"],[0.7777777777777778,\"#fb9f3a\"],[0.8888888888888888,\"#fdca26\"],[1.0,\"#f0f921\"]],\"type\":\"heatmapgl\"}],\"histogram\":[{\"marker\":{\"pattern\":{\"fillmode\":\"overlay\",\"size\":10,\"solidity\":0.2}},\"type\":\"histogram\"}],\"histogram2d\":[{\"colorbar\":{\"outlinewidth\":0,\"ticks\":\"\"},\"colorscale\":[[0.0,\"#0d0887\"],[0.1111111111111111,\"#46039f\"],[0.2222222222222222,\"#7201a8\"],[0.3333333333333333,\"#9c179e\"],[0.4444444444444444,\"#bd3786\"],[0.5555555555555556,\"#d8576b\"],[0.6666666666666666,\"#ed7953\"],[0.7777777777777778,\"#fb9f3a\"],[0.8888888888888888,\"#fdca26\"],[1.0,\"#f0f921\"]],\"type\":\"histogram2d\"}],\"histogram2dcontour\":[{\"colorbar\":{\"outlinewidth\":0,\"ticks\":\"\"},\"colorscale\":[[0.0,\"#0d0887\"],[0.1111111111111111,\"#46039f\"],[0.2222222222222222,\"#7201a8\"],[0.3333333333333333,\"#9c179e\"],[0.4444444444444444,\"#bd3786\"],[0.5555555555555556,\"#d8576b\"],[0.6666666666666666,\"#ed7953\"],[0.7777777777777778,\"#fb9f3a\"],[0.8888888888888888,\"#fdca26\"],[1.0,\"#f0f921\"]],\"type\":\"histogram2dcontour\"}],\"mesh3d\":[{\"colorbar\":{\"outlinewidth\":0,\"ticks\":\"\"},\"type\":\"mesh3d\"}],\"parcoords\":[{\"line\":{\"colorbar\":{\"outlinewidth\":0,\"ticks\":\"\"}},\"type\":\"parcoords\"}],\"pie\":[{\"automargin\":true,\"type\":\"pie\"}],\"scatter\":[{\"marker\":{\"colorbar\":{\"outlinewidth\":0,\"ticks\":\"\"}},\"type\":\"scatter\"}],\"scatter3d\":[{\"line\":{\"colorbar\":{\"outlinewidth\":0,\"ticks\":\"\"}},\"marker\":{\"colorbar\":{\"outlinewidth\":0,\"ticks\":\"\"}},\"type\":\"scatter3d\"}],\"scattercarpet\":[{\"marker\":{\"colorbar\":{\"outlinewidth\":0,\"ticks\":\"\"}},\"type\":\"scattercarpet\"}],\"scattergeo\":[{\"marker\":{\"colorbar\":{\"outlinewidth\":0,\"ticks\":\"\"}},\"type\":\"scattergeo\"}],\"scattergl\":[{\"marker\":{\"colorbar\":{\"outlinewidth\":0,\"ticks\":\"\"}},\"type\":\"scattergl\"}],\"scattermapbox\":[{\"marker\":{\"colorbar\":{\"outlinewidth\":0,\"ticks\":\"\"}},\"type\":\"scattermapbox\"}],\"scatterpolar\":[{\"marker\":{\"colorbar\":{\"outlinewidth\":0,\"ticks\":\"\"}},\"type\":\"scatterpolar\"}],\"scatterpolargl\":[{\"marker\":{\"colorbar\":{\"outlinewidth\":0,\"ticks\":\"\"}},\"type\":\"scatterpolargl\"}],\"scatterternary\":[{\"marker\":{\"colorbar\":{\"outlinewidth\":0,\"ticks\":\"\"}},\"type\":\"scatterternary\"}],\"surface\":[{\"colorbar\":{\"outlinewidth\":0,\"ticks\":\"\"},\"colorscale\":[[0.0,\"#0d0887\"],[0.1111111111111111,\"#46039f\"],[0.2222222222222222,\"#7201a8\"],[0.3333333333333333,\"#9c179e\"],[0.4444444444444444,\"#bd3786\"],[0.5555555555555556,\"#d8576b\"],[0.6666666666666666,\"#ed7953\"],[0.7777777777777778,\"#fb9f3a\"],[0.8888888888888888,\"#fdca26\"],[1.0,\"#f0f921\"]],\"type\":\"surface\"}],\"table\":[{\"cells\":{\"fill\":{\"color\":\"#EBF0F8\"},\"line\":{\"color\":\"white\"}},\"header\":{\"fill\":{\"color\":\"#C8D4E3\"},\"line\":{\"color\":\"white\"}},\"type\":\"table\"}]},\"layout\":{\"annotationdefaults\":{\"arrowcolor\":\"#2a3f5f\",\"arrowhead\":0,\"arrowwidth\":1},\"autotypenumbers\":\"strict\",\"coloraxis\":{\"colorbar\":{\"outlinewidth\":0,\"ticks\":\"\"}},\"colorscale\":{\"diverging\":[[0,\"#8e0152\"],[0.1,\"#c51b7d\"],[0.2,\"#de77ae\"],[0.3,\"#f1b6da\"],[0.4,\"#fde0ef\"],[0.5,\"#f7f7f7\"],[0.6,\"#e6f5d0\"],[0.7,\"#b8e186\"],[0.8,\"#7fbc41\"],[0.9,\"#4d9221\"],[1,\"#276419\"]],\"sequential\":[[0.0,\"#0d0887\"],[0.1111111111111111,\"#46039f\"],[0.2222222222222222,\"#7201a8\"],[0.3333333333333333,\"#9c179e\"],[0.4444444444444444,\"#bd3786\"],[0.5555555555555556,\"#d8576b\"],[0.6666666666666666,\"#ed7953\"],[0.7777777777777778,\"#fb9f3a\"],[0.8888888888888888,\"#fdca26\"],[1.0,\"#f0f921\"]],\"sequentialminus\":[[0.0,\"#0d0887\"],[0.1111111111111111,\"#46039f\"],[0.2222222222222222,\"#7201a8\"],[0.3333333333333333,\"#9c179e\"],[0.4444444444444444,\"#bd3786\"],[0.5555555555555556,\"#d8576b\"],[0.6666666666666666,\"#ed7953\"],[0.7777777777777778,\"#fb9f3a\"],[0.8888888888888888,\"#fdca26\"],[1.0,\"#f0f921\"]]},\"colorway\":[\"#636efa\",\"#EF553B\",\"#00cc96\",\"#ab63fa\",\"#FFA15A\",\"#19d3f3\",\"#FF6692\",\"#B6E880\",\"#FF97FF\",\"#FECB52\"],\"font\":{\"color\":\"#2a3f5f\"},\"geo\":{\"bgcolor\":\"white\",\"lakecolor\":\"white\",\"landcolor\":\"white\",\"showlakes\":true,\"showland\":true,\"subunitcolor\":\"#C8D4E3\"},\"hoverlabel\":{\"align\":\"left\"},\"hovermode\":\"closest\",\"mapbox\":{\"style\":\"light\"},\"paper_bgcolor\":\"white\",\"plot_bgcolor\":\"white\",\"polar\":{\"angularaxis\":{\"gridcolor\":\"#EBF0F8\",\"linecolor\":\"#EBF0F8\",\"ticks\":\"\"},\"bgcolor\":\"white\",\"radialaxis\":{\"gridcolor\":\"#EBF0F8\",\"linecolor\":\"#EBF0F8\",\"ticks\":\"\"}},\"scene\":{\"xaxis\":{\"backgroundcolor\":\"white\",\"gridcolor\":\"#DFE8F3\",\"gridwidth\":2,\"linecolor\":\"#EBF0F8\",\"showbackground\":true,\"ticks\":\"\",\"zerolinecolor\":\"#EBF0F8\"},\"yaxis\":{\"backgroundcolor\":\"white\",\"gridcolor\":\"#DFE8F3\",\"gridwidth\":2,\"linecolor\":\"#EBF0F8\",\"showbackground\":true,\"ticks\":\"\",\"zerolinecolor\":\"#EBF0F8\"},\"zaxis\":{\"backgroundcolor\":\"white\",\"gridcolor\":\"#DFE8F3\",\"gridwidth\":2,\"linecolor\":\"#EBF0F8\",\"showbackground\":true,\"ticks\":\"\",\"zerolinecolor\":\"#EBF0F8\"}},\"shapedefaults\":{\"line\":{\"color\":\"#2a3f5f\"}},\"ternary\":{\"aaxis\":{\"gridcolor\":\"#DFE8F3\",\"linecolor\":\"#A2B1C6\",\"ticks\":\"\"},\"baxis\":{\"gridcolor\":\"#DFE8F3\",\"linecolor\":\"#A2B1C6\",\"ticks\":\"\"},\"bgcolor\":\"white\",\"caxis\":{\"gridcolor\":\"#DFE8F3\",\"linecolor\":\"#A2B1C6\",\"ticks\":\"\"}},\"title\":{\"x\":0.05},\"xaxis\":{\"automargin\":true,\"gridcolor\":\"#EBF0F8\",\"linecolor\":\"#EBF0F8\",\"ticks\":\"\",\"title\":{\"standoff\":15},\"zerolinecolor\":\"#EBF0F8\",\"zerolinewidth\":2},\"yaxis\":{\"automargin\":true,\"gridcolor\":\"#EBF0F8\",\"linecolor\":\"#EBF0F8\",\"ticks\":\"\",\"title\":{\"standoff\":15},\"zerolinecolor\":\"#EBF0F8\",\"zerolinewidth\":2}}},\"title\":{\"text\":\"Control vs Test : Cicked vs Viewed Ratio\"}},                        {\"responsive\": true}                    ).then(function(){\n",
              "                            \n",
              "var gd = document.getElementById('e6e0f9ce-665a-43c6-b6b3-ed3bbc6f49ea');\n",
              "var x = new MutationObserver(function (mutations, observer) {{\n",
              "        var display = window.getComputedStyle(gd).display;\n",
              "        if (!display || display === 'none') {{\n",
              "            console.log([gd, 'removed!']);\n",
              "            Plotly.purge(gd);\n",
              "            observer.disconnect();\n",
              "        }}\n",
              "}});\n",
              "\n",
              "// Listen for the removal of the full notebook cells\n",
              "var notebookContainer = gd.closest('#notebook-container');\n",
              "if (notebookContainer) {{\n",
              "    x.observe(notebookContainer, {childList: true});\n",
              "}}\n",
              "\n",
              "// Listen for the clearing of the current output cell\n",
              "var outputEl = gd.closest('.output');\n",
              "if (outputEl) {{\n",
              "    x.observe(outputEl, {childList: true});\n",
              "}}\n",
              "\n",
              "                        })                };                            </script>        </div>\n",
              "</body>\n",
              "</html>"
            ]
          },
          "metadata": {}
        }
      ]
    },
    {
      "cell_type": "code",
      "source": [
        "# [ LEARNING SCOPE]\n",
        "labels = ['Products Added to Cart from Control', 'Products Added to Cart from Test']\n",
        "\n",
        "counts = [sum(Control['Add_to_Cart']), sum(Test['Add_to_Cart'])]\n",
        "\n",
        "colors = ['gold','lightgreen']\n",
        "\n",
        "fig = go.Figure(data= [go.Pie(labels = labels, values = counts)])\n",
        "fig.update_layout(title_text = 'Control vs Test : Cicked vs Viewed Ratio')\n",
        "fig.update_traces(hoverinfo = 'label+percent', textinfo='value', textfont_size = 30,\n",
        "                  marker = dict(colors = colors, line = dict(color = 'black', width = 3)))\n",
        "\n",
        "fig.show()"
      ],
      "metadata": {
        "colab": {
          "base_uri": "https://localhost:8080/",
          "height": 542
        },
        "id": "1AhYaABZn689",
        "outputId": "20b7a9f9-6316-4635-f55a-20defc69bd38"
      },
      "execution_count": 38,
      "outputs": [
        {
          "output_type": "display_data",
          "data": {
            "text/html": [
              "<html>\n",
              "<head><meta charset=\"utf-8\" /></head>\n",
              "<body>\n",
              "    <div>            <script src=\"https://cdnjs.cloudflare.com/ajax/libs/mathjax/2.7.5/MathJax.js?config=TeX-AMS-MML_SVG\"></script><script type=\"text/javascript\">if (window.MathJax) {MathJax.Hub.Config({SVG: {font: \"STIX-Web\"}});}</script>                <script type=\"text/javascript\">window.PlotlyConfig = {MathJaxConfig: 'local'};</script>\n",
              "        <script src=\"https://cdn.plot.ly/plotly-2.8.3.min.js\"></script>                <div id=\"9af588ae-e953-4fff-bc0b-5adaf69c0e1c\" class=\"plotly-graph-div\" style=\"height:525px; width:100%;\"></div>            <script type=\"text/javascript\">                                    window.PLOTLYENV=window.PLOTLYENV || {};                                    if (document.getElementById(\"9af588ae-e953-4fff-bc0b-5adaf69c0e1c\")) {                    Plotly.newPlot(                        \"9af588ae-e953-4fff-bc0b-5adaf69c0e1c\",                        [{\"labels\":[\"Products Added to Cart from Control\",\"Products Added to Cart from Test\"],\"values\":[39000.0,26446],\"type\":\"pie\",\"textfont\":{\"size\":30},\"marker\":{\"line\":{\"color\":\"black\",\"width\":3},\"colors\":[\"gold\",\"lightgreen\"]},\"hoverinfo\":\"label+percent\",\"textinfo\":\"value\"}],                        {\"template\":{\"data\":{\"bar\":[{\"error_x\":{\"color\":\"#2a3f5f\"},\"error_y\":{\"color\":\"#2a3f5f\"},\"marker\":{\"line\":{\"color\":\"white\",\"width\":0.5},\"pattern\":{\"fillmode\":\"overlay\",\"size\":10,\"solidity\":0.2}},\"type\":\"bar\"}],\"barpolar\":[{\"marker\":{\"line\":{\"color\":\"white\",\"width\":0.5},\"pattern\":{\"fillmode\":\"overlay\",\"size\":10,\"solidity\":0.2}},\"type\":\"barpolar\"}],\"carpet\":[{\"aaxis\":{\"endlinecolor\":\"#2a3f5f\",\"gridcolor\":\"#C8D4E3\",\"linecolor\":\"#C8D4E3\",\"minorgridcolor\":\"#C8D4E3\",\"startlinecolor\":\"#2a3f5f\"},\"baxis\":{\"endlinecolor\":\"#2a3f5f\",\"gridcolor\":\"#C8D4E3\",\"linecolor\":\"#C8D4E3\",\"minorgridcolor\":\"#C8D4E3\",\"startlinecolor\":\"#2a3f5f\"},\"type\":\"carpet\"}],\"choropleth\":[{\"colorbar\":{\"outlinewidth\":0,\"ticks\":\"\"},\"type\":\"choropleth\"}],\"contour\":[{\"colorbar\":{\"outlinewidth\":0,\"ticks\":\"\"},\"colorscale\":[[0.0,\"#0d0887\"],[0.1111111111111111,\"#46039f\"],[0.2222222222222222,\"#7201a8\"],[0.3333333333333333,\"#9c179e\"],[0.4444444444444444,\"#bd3786\"],[0.5555555555555556,\"#d8576b\"],[0.6666666666666666,\"#ed7953\"],[0.7777777777777778,\"#fb9f3a\"],[0.8888888888888888,\"#fdca26\"],[1.0,\"#f0f921\"]],\"type\":\"contour\"}],\"contourcarpet\":[{\"colorbar\":{\"outlinewidth\":0,\"ticks\":\"\"},\"type\":\"contourcarpet\"}],\"heatmap\":[{\"colorbar\":{\"outlinewidth\":0,\"ticks\":\"\"},\"colorscale\":[[0.0,\"#0d0887\"],[0.1111111111111111,\"#46039f\"],[0.2222222222222222,\"#7201a8\"],[0.3333333333333333,\"#9c179e\"],[0.4444444444444444,\"#bd3786\"],[0.5555555555555556,\"#d8576b\"],[0.6666666666666666,\"#ed7953\"],[0.7777777777777778,\"#fb9f3a\"],[0.8888888888888888,\"#fdca26\"],[1.0,\"#f0f921\"]],\"type\":\"heatmap\"}],\"heatmapgl\":[{\"colorbar\":{\"outlinewidth\":0,\"ticks\":\"\"},\"colorscale\":[[0.0,\"#0d0887\"],[0.1111111111111111,\"#46039f\"],[0.2222222222222222,\"#7201a8\"],[0.3333333333333333,\"#9c179e\"],[0.4444444444444444,\"#bd3786\"],[0.5555555555555556,\"#d8576b\"],[0.6666666666666666,\"#ed7953\"],[0.7777777777777778,\"#fb9f3a\"],[0.8888888888888888,\"#fdca26\"],[1.0,\"#f0f921\"]],\"type\":\"heatmapgl\"}],\"histogram\":[{\"marker\":{\"pattern\":{\"fillmode\":\"overlay\",\"size\":10,\"solidity\":0.2}},\"type\":\"histogram\"}],\"histogram2d\":[{\"colorbar\":{\"outlinewidth\":0,\"ticks\":\"\"},\"colorscale\":[[0.0,\"#0d0887\"],[0.1111111111111111,\"#46039f\"],[0.2222222222222222,\"#7201a8\"],[0.3333333333333333,\"#9c179e\"],[0.4444444444444444,\"#bd3786\"],[0.5555555555555556,\"#d8576b\"],[0.6666666666666666,\"#ed7953\"],[0.7777777777777778,\"#fb9f3a\"],[0.8888888888888888,\"#fdca26\"],[1.0,\"#f0f921\"]],\"type\":\"histogram2d\"}],\"histogram2dcontour\":[{\"colorbar\":{\"outlinewidth\":0,\"ticks\":\"\"},\"colorscale\":[[0.0,\"#0d0887\"],[0.1111111111111111,\"#46039f\"],[0.2222222222222222,\"#7201a8\"],[0.3333333333333333,\"#9c179e\"],[0.4444444444444444,\"#bd3786\"],[0.5555555555555556,\"#d8576b\"],[0.6666666666666666,\"#ed7953\"],[0.7777777777777778,\"#fb9f3a\"],[0.8888888888888888,\"#fdca26\"],[1.0,\"#f0f921\"]],\"type\":\"histogram2dcontour\"}],\"mesh3d\":[{\"colorbar\":{\"outlinewidth\":0,\"ticks\":\"\"},\"type\":\"mesh3d\"}],\"parcoords\":[{\"line\":{\"colorbar\":{\"outlinewidth\":0,\"ticks\":\"\"}},\"type\":\"parcoords\"}],\"pie\":[{\"automargin\":true,\"type\":\"pie\"}],\"scatter\":[{\"marker\":{\"colorbar\":{\"outlinewidth\":0,\"ticks\":\"\"}},\"type\":\"scatter\"}],\"scatter3d\":[{\"line\":{\"colorbar\":{\"outlinewidth\":0,\"ticks\":\"\"}},\"marker\":{\"colorbar\":{\"outlinewidth\":0,\"ticks\":\"\"}},\"type\":\"scatter3d\"}],\"scattercarpet\":[{\"marker\":{\"colorbar\":{\"outlinewidth\":0,\"ticks\":\"\"}},\"type\":\"scattercarpet\"}],\"scattergeo\":[{\"marker\":{\"colorbar\":{\"outlinewidth\":0,\"ticks\":\"\"}},\"type\":\"scattergeo\"}],\"scattergl\":[{\"marker\":{\"colorbar\":{\"outlinewidth\":0,\"ticks\":\"\"}},\"type\":\"scattergl\"}],\"scattermapbox\":[{\"marker\":{\"colorbar\":{\"outlinewidth\":0,\"ticks\":\"\"}},\"type\":\"scattermapbox\"}],\"scatterpolar\":[{\"marker\":{\"colorbar\":{\"outlinewidth\":0,\"ticks\":\"\"}},\"type\":\"scatterpolar\"}],\"scatterpolargl\":[{\"marker\":{\"colorbar\":{\"outlinewidth\":0,\"ticks\":\"\"}},\"type\":\"scatterpolargl\"}],\"scatterternary\":[{\"marker\":{\"colorbar\":{\"outlinewidth\":0,\"ticks\":\"\"}},\"type\":\"scatterternary\"}],\"surface\":[{\"colorbar\":{\"outlinewidth\":0,\"ticks\":\"\"},\"colorscale\":[[0.0,\"#0d0887\"],[0.1111111111111111,\"#46039f\"],[0.2222222222222222,\"#7201a8\"],[0.3333333333333333,\"#9c179e\"],[0.4444444444444444,\"#bd3786\"],[0.5555555555555556,\"#d8576b\"],[0.6666666666666666,\"#ed7953\"],[0.7777777777777778,\"#fb9f3a\"],[0.8888888888888888,\"#fdca26\"],[1.0,\"#f0f921\"]],\"type\":\"surface\"}],\"table\":[{\"cells\":{\"fill\":{\"color\":\"#EBF0F8\"},\"line\":{\"color\":\"white\"}},\"header\":{\"fill\":{\"color\":\"#C8D4E3\"},\"line\":{\"color\":\"white\"}},\"type\":\"table\"}]},\"layout\":{\"annotationdefaults\":{\"arrowcolor\":\"#2a3f5f\",\"arrowhead\":0,\"arrowwidth\":1},\"autotypenumbers\":\"strict\",\"coloraxis\":{\"colorbar\":{\"outlinewidth\":0,\"ticks\":\"\"}},\"colorscale\":{\"diverging\":[[0,\"#8e0152\"],[0.1,\"#c51b7d\"],[0.2,\"#de77ae\"],[0.3,\"#f1b6da\"],[0.4,\"#fde0ef\"],[0.5,\"#f7f7f7\"],[0.6,\"#e6f5d0\"],[0.7,\"#b8e186\"],[0.8,\"#7fbc41\"],[0.9,\"#4d9221\"],[1,\"#276419\"]],\"sequential\":[[0.0,\"#0d0887\"],[0.1111111111111111,\"#46039f\"],[0.2222222222222222,\"#7201a8\"],[0.3333333333333333,\"#9c179e\"],[0.4444444444444444,\"#bd3786\"],[0.5555555555555556,\"#d8576b\"],[0.6666666666666666,\"#ed7953\"],[0.7777777777777778,\"#fb9f3a\"],[0.8888888888888888,\"#fdca26\"],[1.0,\"#f0f921\"]],\"sequentialminus\":[[0.0,\"#0d0887\"],[0.1111111111111111,\"#46039f\"],[0.2222222222222222,\"#7201a8\"],[0.3333333333333333,\"#9c179e\"],[0.4444444444444444,\"#bd3786\"],[0.5555555555555556,\"#d8576b\"],[0.6666666666666666,\"#ed7953\"],[0.7777777777777778,\"#fb9f3a\"],[0.8888888888888888,\"#fdca26\"],[1.0,\"#f0f921\"]]},\"colorway\":[\"#636efa\",\"#EF553B\",\"#00cc96\",\"#ab63fa\",\"#FFA15A\",\"#19d3f3\",\"#FF6692\",\"#B6E880\",\"#FF97FF\",\"#FECB52\"],\"font\":{\"color\":\"#2a3f5f\"},\"geo\":{\"bgcolor\":\"white\",\"lakecolor\":\"white\",\"landcolor\":\"white\",\"showlakes\":true,\"showland\":true,\"subunitcolor\":\"#C8D4E3\"},\"hoverlabel\":{\"align\":\"left\"},\"hovermode\":\"closest\",\"mapbox\":{\"style\":\"light\"},\"paper_bgcolor\":\"white\",\"plot_bgcolor\":\"white\",\"polar\":{\"angularaxis\":{\"gridcolor\":\"#EBF0F8\",\"linecolor\":\"#EBF0F8\",\"ticks\":\"\"},\"bgcolor\":\"white\",\"radialaxis\":{\"gridcolor\":\"#EBF0F8\",\"linecolor\":\"#EBF0F8\",\"ticks\":\"\"}},\"scene\":{\"xaxis\":{\"backgroundcolor\":\"white\",\"gridcolor\":\"#DFE8F3\",\"gridwidth\":2,\"linecolor\":\"#EBF0F8\",\"showbackground\":true,\"ticks\":\"\",\"zerolinecolor\":\"#EBF0F8\"},\"yaxis\":{\"backgroundcolor\":\"white\",\"gridcolor\":\"#DFE8F3\",\"gridwidth\":2,\"linecolor\":\"#EBF0F8\",\"showbackground\":true,\"ticks\":\"\",\"zerolinecolor\":\"#EBF0F8\"},\"zaxis\":{\"backgroundcolor\":\"white\",\"gridcolor\":\"#DFE8F3\",\"gridwidth\":2,\"linecolor\":\"#EBF0F8\",\"showbackground\":true,\"ticks\":\"\",\"zerolinecolor\":\"#EBF0F8\"}},\"shapedefaults\":{\"line\":{\"color\":\"#2a3f5f\"}},\"ternary\":{\"aaxis\":{\"gridcolor\":\"#DFE8F3\",\"linecolor\":\"#A2B1C6\",\"ticks\":\"\"},\"baxis\":{\"gridcolor\":\"#DFE8F3\",\"linecolor\":\"#A2B1C6\",\"ticks\":\"\"},\"bgcolor\":\"white\",\"caxis\":{\"gridcolor\":\"#DFE8F3\",\"linecolor\":\"#A2B1C6\",\"ticks\":\"\"}},\"title\":{\"x\":0.05},\"xaxis\":{\"automargin\":true,\"gridcolor\":\"#EBF0F8\",\"linecolor\":\"#EBF0F8\",\"ticks\":\"\",\"title\":{\"standoff\":15},\"zerolinecolor\":\"#EBF0F8\",\"zerolinewidth\":2},\"yaxis\":{\"automargin\":true,\"gridcolor\":\"#EBF0F8\",\"linecolor\":\"#EBF0F8\",\"ticks\":\"\",\"title\":{\"standoff\":15},\"zerolinecolor\":\"#EBF0F8\",\"zerolinewidth\":2}}},\"title\":{\"text\":\"Control vs Test : Cicked vs Viewed Ratio\"}},                        {\"responsive\": true}                    ).then(function(){\n",
              "                            \n",
              "var gd = document.getElementById('9af588ae-e953-4fff-bc0b-5adaf69c0e1c');\n",
              "var x = new MutationObserver(function (mutations, observer) {{\n",
              "        var display = window.getComputedStyle(gd).display;\n",
              "        if (!display || display === 'none') {{\n",
              "            console.log([gd, 'removed!']);\n",
              "            Plotly.purge(gd);\n",
              "            observer.disconnect();\n",
              "        }}\n",
              "}});\n",
              "\n",
              "// Listen for the removal of the full notebook cells\n",
              "var notebookContainer = gd.closest('#notebook-container');\n",
              "if (notebookContainer) {{\n",
              "    x.observe(notebookContainer, {childList: true});\n",
              "}}\n",
              "\n",
              "// Listen for the clearing of the current output cell\n",
              "var outputEl = gd.closest('.output');\n",
              "if (outputEl) {{\n",
              "    x.observe(outputEl, {childList: true});\n",
              "}}\n",
              "\n",
              "                        })                };                            </script>        </div>\n",
              "</body>\n",
              "</html>"
            ]
          },
          "metadata": {}
        }
      ]
    },
    {
      "cell_type": "code",
      "source": [
        "label = [\"Amount Spent in Control Campaign\", \n",
        "         \"Amount Spent in Test Campaign\"]\n",
        "counts = [sum(Control[\"Amount Spent\"]), \n",
        "          sum(Test[\"Amount Spent\"])]\n",
        "colors = ['gold','lightgreen']\n",
        "fig = go.Figure(data=[go.Pie(labels=label, values=counts)])\n",
        "fig.update_layout(title_text='Control Vs Test: Amount Spent')\n",
        "fig.update_traces(hoverinfo='label+percent', textinfo='value', \n",
        "                  textfont_size=30,\n",
        "                  marker=dict(colors=colors, \n",
        "                              line=dict(color='black', width=3)))\n",
        "fig.show()"
      ],
      "metadata": {
        "colab": {
          "base_uri": "https://localhost:8080/",
          "height": 542
        },
        "id": "xLjRnUR_o501",
        "outputId": "56b8db4e-19bc-485d-ffa9-cf5b352e9552"
      },
      "execution_count": 40,
      "outputs": [
        {
          "output_type": "display_data",
          "data": {
            "text/html": [
              "<html>\n",
              "<head><meta charset=\"utf-8\" /></head>\n",
              "<body>\n",
              "    <div>            <script src=\"https://cdnjs.cloudflare.com/ajax/libs/mathjax/2.7.5/MathJax.js?config=TeX-AMS-MML_SVG\"></script><script type=\"text/javascript\">if (window.MathJax) {MathJax.Hub.Config({SVG: {font: \"STIX-Web\"}});}</script>                <script type=\"text/javascript\">window.PlotlyConfig = {MathJaxConfig: 'local'};</script>\n",
              "        <script src=\"https://cdn.plot.ly/plotly-2.8.3.min.js\"></script>                <div id=\"67bf85a0-28a0-4e2a-8f4e-75f02f7cec7a\" class=\"plotly-graph-div\" style=\"height:525px; width:100%;\"></div>            <script type=\"text/javascript\">                                    window.PLOTLYENV=window.PLOTLYENV || {};                                    if (document.getElementById(\"67bf85a0-28a0-4e2a-8f4e-75f02f7cec7a\")) {                    Plotly.newPlot(                        \"67bf85a0-28a0-4e2a-8f4e-75f02f7cec7a\",                        [{\"labels\":[\"Amount Spent in Control Campaign\",\"Amount Spent in Test Campaign\"],\"values\":[68653,76892],\"type\":\"pie\",\"textfont\":{\"size\":30},\"marker\":{\"line\":{\"color\":\"black\",\"width\":3},\"colors\":[\"gold\",\"lightgreen\"]},\"hoverinfo\":\"label+percent\",\"textinfo\":\"value\"}],                        {\"template\":{\"data\":{\"bar\":[{\"error_x\":{\"color\":\"#2a3f5f\"},\"error_y\":{\"color\":\"#2a3f5f\"},\"marker\":{\"line\":{\"color\":\"white\",\"width\":0.5},\"pattern\":{\"fillmode\":\"overlay\",\"size\":10,\"solidity\":0.2}},\"type\":\"bar\"}],\"barpolar\":[{\"marker\":{\"line\":{\"color\":\"white\",\"width\":0.5},\"pattern\":{\"fillmode\":\"overlay\",\"size\":10,\"solidity\":0.2}},\"type\":\"barpolar\"}],\"carpet\":[{\"aaxis\":{\"endlinecolor\":\"#2a3f5f\",\"gridcolor\":\"#C8D4E3\",\"linecolor\":\"#C8D4E3\",\"minorgridcolor\":\"#C8D4E3\",\"startlinecolor\":\"#2a3f5f\"},\"baxis\":{\"endlinecolor\":\"#2a3f5f\",\"gridcolor\":\"#C8D4E3\",\"linecolor\":\"#C8D4E3\",\"minorgridcolor\":\"#C8D4E3\",\"startlinecolor\":\"#2a3f5f\"},\"type\":\"carpet\"}],\"choropleth\":[{\"colorbar\":{\"outlinewidth\":0,\"ticks\":\"\"},\"type\":\"choropleth\"}],\"contour\":[{\"colorbar\":{\"outlinewidth\":0,\"ticks\":\"\"},\"colorscale\":[[0.0,\"#0d0887\"],[0.1111111111111111,\"#46039f\"],[0.2222222222222222,\"#7201a8\"],[0.3333333333333333,\"#9c179e\"],[0.4444444444444444,\"#bd3786\"],[0.5555555555555556,\"#d8576b\"],[0.6666666666666666,\"#ed7953\"],[0.7777777777777778,\"#fb9f3a\"],[0.8888888888888888,\"#fdca26\"],[1.0,\"#f0f921\"]],\"type\":\"contour\"}],\"contourcarpet\":[{\"colorbar\":{\"outlinewidth\":0,\"ticks\":\"\"},\"type\":\"contourcarpet\"}],\"heatmap\":[{\"colorbar\":{\"outlinewidth\":0,\"ticks\":\"\"},\"colorscale\":[[0.0,\"#0d0887\"],[0.1111111111111111,\"#46039f\"],[0.2222222222222222,\"#7201a8\"],[0.3333333333333333,\"#9c179e\"],[0.4444444444444444,\"#bd3786\"],[0.5555555555555556,\"#d8576b\"],[0.6666666666666666,\"#ed7953\"],[0.7777777777777778,\"#fb9f3a\"],[0.8888888888888888,\"#fdca26\"],[1.0,\"#f0f921\"]],\"type\":\"heatmap\"}],\"heatmapgl\":[{\"colorbar\":{\"outlinewidth\":0,\"ticks\":\"\"},\"colorscale\":[[0.0,\"#0d0887\"],[0.1111111111111111,\"#46039f\"],[0.2222222222222222,\"#7201a8\"],[0.3333333333333333,\"#9c179e\"],[0.4444444444444444,\"#bd3786\"],[0.5555555555555556,\"#d8576b\"],[0.6666666666666666,\"#ed7953\"],[0.7777777777777778,\"#fb9f3a\"],[0.8888888888888888,\"#fdca26\"],[1.0,\"#f0f921\"]],\"type\":\"heatmapgl\"}],\"histogram\":[{\"marker\":{\"pattern\":{\"fillmode\":\"overlay\",\"size\":10,\"solidity\":0.2}},\"type\":\"histogram\"}],\"histogram2d\":[{\"colorbar\":{\"outlinewidth\":0,\"ticks\":\"\"},\"colorscale\":[[0.0,\"#0d0887\"],[0.1111111111111111,\"#46039f\"],[0.2222222222222222,\"#7201a8\"],[0.3333333333333333,\"#9c179e\"],[0.4444444444444444,\"#bd3786\"],[0.5555555555555556,\"#d8576b\"],[0.6666666666666666,\"#ed7953\"],[0.7777777777777778,\"#fb9f3a\"],[0.8888888888888888,\"#fdca26\"],[1.0,\"#f0f921\"]],\"type\":\"histogram2d\"}],\"histogram2dcontour\":[{\"colorbar\":{\"outlinewidth\":0,\"ticks\":\"\"},\"colorscale\":[[0.0,\"#0d0887\"],[0.1111111111111111,\"#46039f\"],[0.2222222222222222,\"#7201a8\"],[0.3333333333333333,\"#9c179e\"],[0.4444444444444444,\"#bd3786\"],[0.5555555555555556,\"#d8576b\"],[0.6666666666666666,\"#ed7953\"],[0.7777777777777778,\"#fb9f3a\"],[0.8888888888888888,\"#fdca26\"],[1.0,\"#f0f921\"]],\"type\":\"histogram2dcontour\"}],\"mesh3d\":[{\"colorbar\":{\"outlinewidth\":0,\"ticks\":\"\"},\"type\":\"mesh3d\"}],\"parcoords\":[{\"line\":{\"colorbar\":{\"outlinewidth\":0,\"ticks\":\"\"}},\"type\":\"parcoords\"}],\"pie\":[{\"automargin\":true,\"type\":\"pie\"}],\"scatter\":[{\"marker\":{\"colorbar\":{\"outlinewidth\":0,\"ticks\":\"\"}},\"type\":\"scatter\"}],\"scatter3d\":[{\"line\":{\"colorbar\":{\"outlinewidth\":0,\"ticks\":\"\"}},\"marker\":{\"colorbar\":{\"outlinewidth\":0,\"ticks\":\"\"}},\"type\":\"scatter3d\"}],\"scattercarpet\":[{\"marker\":{\"colorbar\":{\"outlinewidth\":0,\"ticks\":\"\"}},\"type\":\"scattercarpet\"}],\"scattergeo\":[{\"marker\":{\"colorbar\":{\"outlinewidth\":0,\"ticks\":\"\"}},\"type\":\"scattergeo\"}],\"scattergl\":[{\"marker\":{\"colorbar\":{\"outlinewidth\":0,\"ticks\":\"\"}},\"type\":\"scattergl\"}],\"scattermapbox\":[{\"marker\":{\"colorbar\":{\"outlinewidth\":0,\"ticks\":\"\"}},\"type\":\"scattermapbox\"}],\"scatterpolar\":[{\"marker\":{\"colorbar\":{\"outlinewidth\":0,\"ticks\":\"\"}},\"type\":\"scatterpolar\"}],\"scatterpolargl\":[{\"marker\":{\"colorbar\":{\"outlinewidth\":0,\"ticks\":\"\"}},\"type\":\"scatterpolargl\"}],\"scatterternary\":[{\"marker\":{\"colorbar\":{\"outlinewidth\":0,\"ticks\":\"\"}},\"type\":\"scatterternary\"}],\"surface\":[{\"colorbar\":{\"outlinewidth\":0,\"ticks\":\"\"},\"colorscale\":[[0.0,\"#0d0887\"],[0.1111111111111111,\"#46039f\"],[0.2222222222222222,\"#7201a8\"],[0.3333333333333333,\"#9c179e\"],[0.4444444444444444,\"#bd3786\"],[0.5555555555555556,\"#d8576b\"],[0.6666666666666666,\"#ed7953\"],[0.7777777777777778,\"#fb9f3a\"],[0.8888888888888888,\"#fdca26\"],[1.0,\"#f0f921\"]],\"type\":\"surface\"}],\"table\":[{\"cells\":{\"fill\":{\"color\":\"#EBF0F8\"},\"line\":{\"color\":\"white\"}},\"header\":{\"fill\":{\"color\":\"#C8D4E3\"},\"line\":{\"color\":\"white\"}},\"type\":\"table\"}]},\"layout\":{\"annotationdefaults\":{\"arrowcolor\":\"#2a3f5f\",\"arrowhead\":0,\"arrowwidth\":1},\"autotypenumbers\":\"strict\",\"coloraxis\":{\"colorbar\":{\"outlinewidth\":0,\"ticks\":\"\"}},\"colorscale\":{\"diverging\":[[0,\"#8e0152\"],[0.1,\"#c51b7d\"],[0.2,\"#de77ae\"],[0.3,\"#f1b6da\"],[0.4,\"#fde0ef\"],[0.5,\"#f7f7f7\"],[0.6,\"#e6f5d0\"],[0.7,\"#b8e186\"],[0.8,\"#7fbc41\"],[0.9,\"#4d9221\"],[1,\"#276419\"]],\"sequential\":[[0.0,\"#0d0887\"],[0.1111111111111111,\"#46039f\"],[0.2222222222222222,\"#7201a8\"],[0.3333333333333333,\"#9c179e\"],[0.4444444444444444,\"#bd3786\"],[0.5555555555555556,\"#d8576b\"],[0.6666666666666666,\"#ed7953\"],[0.7777777777777778,\"#fb9f3a\"],[0.8888888888888888,\"#fdca26\"],[1.0,\"#f0f921\"]],\"sequentialminus\":[[0.0,\"#0d0887\"],[0.1111111111111111,\"#46039f\"],[0.2222222222222222,\"#7201a8\"],[0.3333333333333333,\"#9c179e\"],[0.4444444444444444,\"#bd3786\"],[0.5555555555555556,\"#d8576b\"],[0.6666666666666666,\"#ed7953\"],[0.7777777777777778,\"#fb9f3a\"],[0.8888888888888888,\"#fdca26\"],[1.0,\"#f0f921\"]]},\"colorway\":[\"#636efa\",\"#EF553B\",\"#00cc96\",\"#ab63fa\",\"#FFA15A\",\"#19d3f3\",\"#FF6692\",\"#B6E880\",\"#FF97FF\",\"#FECB52\"],\"font\":{\"color\":\"#2a3f5f\"},\"geo\":{\"bgcolor\":\"white\",\"lakecolor\":\"white\",\"landcolor\":\"white\",\"showlakes\":true,\"showland\":true,\"subunitcolor\":\"#C8D4E3\"},\"hoverlabel\":{\"align\":\"left\"},\"hovermode\":\"closest\",\"mapbox\":{\"style\":\"light\"},\"paper_bgcolor\":\"white\",\"plot_bgcolor\":\"white\",\"polar\":{\"angularaxis\":{\"gridcolor\":\"#EBF0F8\",\"linecolor\":\"#EBF0F8\",\"ticks\":\"\"},\"bgcolor\":\"white\",\"radialaxis\":{\"gridcolor\":\"#EBF0F8\",\"linecolor\":\"#EBF0F8\",\"ticks\":\"\"}},\"scene\":{\"xaxis\":{\"backgroundcolor\":\"white\",\"gridcolor\":\"#DFE8F3\",\"gridwidth\":2,\"linecolor\":\"#EBF0F8\",\"showbackground\":true,\"ticks\":\"\",\"zerolinecolor\":\"#EBF0F8\"},\"yaxis\":{\"backgroundcolor\":\"white\",\"gridcolor\":\"#DFE8F3\",\"gridwidth\":2,\"linecolor\":\"#EBF0F8\",\"showbackground\":true,\"ticks\":\"\",\"zerolinecolor\":\"#EBF0F8\"},\"zaxis\":{\"backgroundcolor\":\"white\",\"gridcolor\":\"#DFE8F3\",\"gridwidth\":2,\"linecolor\":\"#EBF0F8\",\"showbackground\":true,\"ticks\":\"\",\"zerolinecolor\":\"#EBF0F8\"}},\"shapedefaults\":{\"line\":{\"color\":\"#2a3f5f\"}},\"ternary\":{\"aaxis\":{\"gridcolor\":\"#DFE8F3\",\"linecolor\":\"#A2B1C6\",\"ticks\":\"\"},\"baxis\":{\"gridcolor\":\"#DFE8F3\",\"linecolor\":\"#A2B1C6\",\"ticks\":\"\"},\"bgcolor\":\"white\",\"caxis\":{\"gridcolor\":\"#DFE8F3\",\"linecolor\":\"#A2B1C6\",\"ticks\":\"\"}},\"title\":{\"x\":0.05},\"xaxis\":{\"automargin\":true,\"gridcolor\":\"#EBF0F8\",\"linecolor\":\"#EBF0F8\",\"ticks\":\"\",\"title\":{\"standoff\":15},\"zerolinecolor\":\"#EBF0F8\",\"zerolinewidth\":2},\"yaxis\":{\"automargin\":true,\"gridcolor\":\"#EBF0F8\",\"linecolor\":\"#EBF0F8\",\"ticks\":\"\",\"title\":{\"standoff\":15},\"zerolinecolor\":\"#EBF0F8\",\"zerolinewidth\":2}}},\"title\":{\"text\":\"Control Vs Test: Amount Spent\"}},                        {\"responsive\": true}                    ).then(function(){\n",
              "                            \n",
              "var gd = document.getElementById('67bf85a0-28a0-4e2a-8f4e-75f02f7cec7a');\n",
              "var x = new MutationObserver(function (mutations, observer) {{\n",
              "        var display = window.getComputedStyle(gd).display;\n",
              "        if (!display || display === 'none') {{\n",
              "            console.log([gd, 'removed!']);\n",
              "            Plotly.purge(gd);\n",
              "            observer.disconnect();\n",
              "        }}\n",
              "}});\n",
              "\n",
              "// Listen for the removal of the full notebook cells\n",
              "var notebookContainer = gd.closest('#notebook-container');\n",
              "if (notebookContainer) {{\n",
              "    x.observe(notebookContainer, {childList: true});\n",
              "}}\n",
              "\n",
              "// Listen for the clearing of the current output cell\n",
              "var outputEl = gd.closest('.output');\n",
              "if (outputEl) {{\n",
              "    x.observe(outputEl, {childList: true});\n",
              "}}\n",
              "\n",
              "                        })                };                            </script>        </div>\n",
              "</body>\n",
              "</html>"
            ]
          },
          "metadata": {}
        }
      ]
    },
    {
      "cell_type": "code",
      "source": [
        "label = [\"Purchases Made by Control Campaign\", \n",
        "         \"Purchases Made by Test Campaign\"]\n",
        "counts = [sum(Control[\"Purchases\"]), \n",
        "          sum(Test[\"Purchases\"])]\n",
        "colors = ['gold','lightgreen']\n",
        "fig = go.Figure(data=[go.Pie(labels=label, values=counts)])\n",
        "fig.update_layout(title_text='Control Vs Test: Purchases')\n",
        "fig.update_traces(hoverinfo='label+percent', textinfo='value', \n",
        "                  textfont_size=30,\n",
        "                  marker=dict(colors=colors, \n",
        "                              line=dict(color='black', width=3)))\n",
        "fig.show()"
      ],
      "metadata": {
        "colab": {
          "base_uri": "https://localhost:8080/",
          "height": 542
        },
        "id": "HjajYvE0pJyD",
        "outputId": "9556819a-9fe9-4ffc-a131-8ebca5c3c7e5"
      },
      "execution_count": 41,
      "outputs": [
        {
          "output_type": "display_data",
          "data": {
            "text/html": [
              "<html>\n",
              "<head><meta charset=\"utf-8\" /></head>\n",
              "<body>\n",
              "    <div>            <script src=\"https://cdnjs.cloudflare.com/ajax/libs/mathjax/2.7.5/MathJax.js?config=TeX-AMS-MML_SVG\"></script><script type=\"text/javascript\">if (window.MathJax) {MathJax.Hub.Config({SVG: {font: \"STIX-Web\"}});}</script>                <script type=\"text/javascript\">window.PlotlyConfig = {MathJaxConfig: 'local'};</script>\n",
              "        <script src=\"https://cdn.plot.ly/plotly-2.8.3.min.js\"></script>                <div id=\"8bc17175-6ba4-4896-bf00-bd49ace8aebb\" class=\"plotly-graph-div\" style=\"height:525px; width:100%;\"></div>            <script type=\"text/javascript\">                                    window.PLOTLYENV=window.PLOTLYENV || {};                                    if (document.getElementById(\"8bc17175-6ba4-4896-bf00-bd49ace8aebb\")) {                    Plotly.newPlot(                        \"8bc17175-6ba4-4896-bf00-bd49ace8aebb\",                        [{\"labels\":[\"Purchases Made by Control Campaign\",\"Purchases Made by Test Campaign\"],\"values\":[15683.793103448275,15637],\"type\":\"pie\",\"textfont\":{\"size\":30},\"marker\":{\"line\":{\"color\":\"black\",\"width\":3},\"colors\":[\"gold\",\"lightgreen\"]},\"hoverinfo\":\"label+percent\",\"textinfo\":\"value\"}],                        {\"template\":{\"data\":{\"bar\":[{\"error_x\":{\"color\":\"#2a3f5f\"},\"error_y\":{\"color\":\"#2a3f5f\"},\"marker\":{\"line\":{\"color\":\"white\",\"width\":0.5},\"pattern\":{\"fillmode\":\"overlay\",\"size\":10,\"solidity\":0.2}},\"type\":\"bar\"}],\"barpolar\":[{\"marker\":{\"line\":{\"color\":\"white\",\"width\":0.5},\"pattern\":{\"fillmode\":\"overlay\",\"size\":10,\"solidity\":0.2}},\"type\":\"barpolar\"}],\"carpet\":[{\"aaxis\":{\"endlinecolor\":\"#2a3f5f\",\"gridcolor\":\"#C8D4E3\",\"linecolor\":\"#C8D4E3\",\"minorgridcolor\":\"#C8D4E3\",\"startlinecolor\":\"#2a3f5f\"},\"baxis\":{\"endlinecolor\":\"#2a3f5f\",\"gridcolor\":\"#C8D4E3\",\"linecolor\":\"#C8D4E3\",\"minorgridcolor\":\"#C8D4E3\",\"startlinecolor\":\"#2a3f5f\"},\"type\":\"carpet\"}],\"choropleth\":[{\"colorbar\":{\"outlinewidth\":0,\"ticks\":\"\"},\"type\":\"choropleth\"}],\"contour\":[{\"colorbar\":{\"outlinewidth\":0,\"ticks\":\"\"},\"colorscale\":[[0.0,\"#0d0887\"],[0.1111111111111111,\"#46039f\"],[0.2222222222222222,\"#7201a8\"],[0.3333333333333333,\"#9c179e\"],[0.4444444444444444,\"#bd3786\"],[0.5555555555555556,\"#d8576b\"],[0.6666666666666666,\"#ed7953\"],[0.7777777777777778,\"#fb9f3a\"],[0.8888888888888888,\"#fdca26\"],[1.0,\"#f0f921\"]],\"type\":\"contour\"}],\"contourcarpet\":[{\"colorbar\":{\"outlinewidth\":0,\"ticks\":\"\"},\"type\":\"contourcarpet\"}],\"heatmap\":[{\"colorbar\":{\"outlinewidth\":0,\"ticks\":\"\"},\"colorscale\":[[0.0,\"#0d0887\"],[0.1111111111111111,\"#46039f\"],[0.2222222222222222,\"#7201a8\"],[0.3333333333333333,\"#9c179e\"],[0.4444444444444444,\"#bd3786\"],[0.5555555555555556,\"#d8576b\"],[0.6666666666666666,\"#ed7953\"],[0.7777777777777778,\"#fb9f3a\"],[0.8888888888888888,\"#fdca26\"],[1.0,\"#f0f921\"]],\"type\":\"heatmap\"}],\"heatmapgl\":[{\"colorbar\":{\"outlinewidth\":0,\"ticks\":\"\"},\"colorscale\":[[0.0,\"#0d0887\"],[0.1111111111111111,\"#46039f\"],[0.2222222222222222,\"#7201a8\"],[0.3333333333333333,\"#9c179e\"],[0.4444444444444444,\"#bd3786\"],[0.5555555555555556,\"#d8576b\"],[0.6666666666666666,\"#ed7953\"],[0.7777777777777778,\"#fb9f3a\"],[0.8888888888888888,\"#fdca26\"],[1.0,\"#f0f921\"]],\"type\":\"heatmapgl\"}],\"histogram\":[{\"marker\":{\"pattern\":{\"fillmode\":\"overlay\",\"size\":10,\"solidity\":0.2}},\"type\":\"histogram\"}],\"histogram2d\":[{\"colorbar\":{\"outlinewidth\":0,\"ticks\":\"\"},\"colorscale\":[[0.0,\"#0d0887\"],[0.1111111111111111,\"#46039f\"],[0.2222222222222222,\"#7201a8\"],[0.3333333333333333,\"#9c179e\"],[0.4444444444444444,\"#bd3786\"],[0.5555555555555556,\"#d8576b\"],[0.6666666666666666,\"#ed7953\"],[0.7777777777777778,\"#fb9f3a\"],[0.8888888888888888,\"#fdca26\"],[1.0,\"#f0f921\"]],\"type\":\"histogram2d\"}],\"histogram2dcontour\":[{\"colorbar\":{\"outlinewidth\":0,\"ticks\":\"\"},\"colorscale\":[[0.0,\"#0d0887\"],[0.1111111111111111,\"#46039f\"],[0.2222222222222222,\"#7201a8\"],[0.3333333333333333,\"#9c179e\"],[0.4444444444444444,\"#bd3786\"],[0.5555555555555556,\"#d8576b\"],[0.6666666666666666,\"#ed7953\"],[0.7777777777777778,\"#fb9f3a\"],[0.8888888888888888,\"#fdca26\"],[1.0,\"#f0f921\"]],\"type\":\"histogram2dcontour\"}],\"mesh3d\":[{\"colorbar\":{\"outlinewidth\":0,\"ticks\":\"\"},\"type\":\"mesh3d\"}],\"parcoords\":[{\"line\":{\"colorbar\":{\"outlinewidth\":0,\"ticks\":\"\"}},\"type\":\"parcoords\"}],\"pie\":[{\"automargin\":true,\"type\":\"pie\"}],\"scatter\":[{\"marker\":{\"colorbar\":{\"outlinewidth\":0,\"ticks\":\"\"}},\"type\":\"scatter\"}],\"scatter3d\":[{\"line\":{\"colorbar\":{\"outlinewidth\":0,\"ticks\":\"\"}},\"marker\":{\"colorbar\":{\"outlinewidth\":0,\"ticks\":\"\"}},\"type\":\"scatter3d\"}],\"scattercarpet\":[{\"marker\":{\"colorbar\":{\"outlinewidth\":0,\"ticks\":\"\"}},\"type\":\"scattercarpet\"}],\"scattergeo\":[{\"marker\":{\"colorbar\":{\"outlinewidth\":0,\"ticks\":\"\"}},\"type\":\"scattergeo\"}],\"scattergl\":[{\"marker\":{\"colorbar\":{\"outlinewidth\":0,\"ticks\":\"\"}},\"type\":\"scattergl\"}],\"scattermapbox\":[{\"marker\":{\"colorbar\":{\"outlinewidth\":0,\"ticks\":\"\"}},\"type\":\"scattermapbox\"}],\"scatterpolar\":[{\"marker\":{\"colorbar\":{\"outlinewidth\":0,\"ticks\":\"\"}},\"type\":\"scatterpolar\"}],\"scatterpolargl\":[{\"marker\":{\"colorbar\":{\"outlinewidth\":0,\"ticks\":\"\"}},\"type\":\"scatterpolargl\"}],\"scatterternary\":[{\"marker\":{\"colorbar\":{\"outlinewidth\":0,\"ticks\":\"\"}},\"type\":\"scatterternary\"}],\"surface\":[{\"colorbar\":{\"outlinewidth\":0,\"ticks\":\"\"},\"colorscale\":[[0.0,\"#0d0887\"],[0.1111111111111111,\"#46039f\"],[0.2222222222222222,\"#7201a8\"],[0.3333333333333333,\"#9c179e\"],[0.4444444444444444,\"#bd3786\"],[0.5555555555555556,\"#d8576b\"],[0.6666666666666666,\"#ed7953\"],[0.7777777777777778,\"#fb9f3a\"],[0.8888888888888888,\"#fdca26\"],[1.0,\"#f0f921\"]],\"type\":\"surface\"}],\"table\":[{\"cells\":{\"fill\":{\"color\":\"#EBF0F8\"},\"line\":{\"color\":\"white\"}},\"header\":{\"fill\":{\"color\":\"#C8D4E3\"},\"line\":{\"color\":\"white\"}},\"type\":\"table\"}]},\"layout\":{\"annotationdefaults\":{\"arrowcolor\":\"#2a3f5f\",\"arrowhead\":0,\"arrowwidth\":1},\"autotypenumbers\":\"strict\",\"coloraxis\":{\"colorbar\":{\"outlinewidth\":0,\"ticks\":\"\"}},\"colorscale\":{\"diverging\":[[0,\"#8e0152\"],[0.1,\"#c51b7d\"],[0.2,\"#de77ae\"],[0.3,\"#f1b6da\"],[0.4,\"#fde0ef\"],[0.5,\"#f7f7f7\"],[0.6,\"#e6f5d0\"],[0.7,\"#b8e186\"],[0.8,\"#7fbc41\"],[0.9,\"#4d9221\"],[1,\"#276419\"]],\"sequential\":[[0.0,\"#0d0887\"],[0.1111111111111111,\"#46039f\"],[0.2222222222222222,\"#7201a8\"],[0.3333333333333333,\"#9c179e\"],[0.4444444444444444,\"#bd3786\"],[0.5555555555555556,\"#d8576b\"],[0.6666666666666666,\"#ed7953\"],[0.7777777777777778,\"#fb9f3a\"],[0.8888888888888888,\"#fdca26\"],[1.0,\"#f0f921\"]],\"sequentialminus\":[[0.0,\"#0d0887\"],[0.1111111111111111,\"#46039f\"],[0.2222222222222222,\"#7201a8\"],[0.3333333333333333,\"#9c179e\"],[0.4444444444444444,\"#bd3786\"],[0.5555555555555556,\"#d8576b\"],[0.6666666666666666,\"#ed7953\"],[0.7777777777777778,\"#fb9f3a\"],[0.8888888888888888,\"#fdca26\"],[1.0,\"#f0f921\"]]},\"colorway\":[\"#636efa\",\"#EF553B\",\"#00cc96\",\"#ab63fa\",\"#FFA15A\",\"#19d3f3\",\"#FF6692\",\"#B6E880\",\"#FF97FF\",\"#FECB52\"],\"font\":{\"color\":\"#2a3f5f\"},\"geo\":{\"bgcolor\":\"white\",\"lakecolor\":\"white\",\"landcolor\":\"white\",\"showlakes\":true,\"showland\":true,\"subunitcolor\":\"#C8D4E3\"},\"hoverlabel\":{\"align\":\"left\"},\"hovermode\":\"closest\",\"mapbox\":{\"style\":\"light\"},\"paper_bgcolor\":\"white\",\"plot_bgcolor\":\"white\",\"polar\":{\"angularaxis\":{\"gridcolor\":\"#EBF0F8\",\"linecolor\":\"#EBF0F8\",\"ticks\":\"\"},\"bgcolor\":\"white\",\"radialaxis\":{\"gridcolor\":\"#EBF0F8\",\"linecolor\":\"#EBF0F8\",\"ticks\":\"\"}},\"scene\":{\"xaxis\":{\"backgroundcolor\":\"white\",\"gridcolor\":\"#DFE8F3\",\"gridwidth\":2,\"linecolor\":\"#EBF0F8\",\"showbackground\":true,\"ticks\":\"\",\"zerolinecolor\":\"#EBF0F8\"},\"yaxis\":{\"backgroundcolor\":\"white\",\"gridcolor\":\"#DFE8F3\",\"gridwidth\":2,\"linecolor\":\"#EBF0F8\",\"showbackground\":true,\"ticks\":\"\",\"zerolinecolor\":\"#EBF0F8\"},\"zaxis\":{\"backgroundcolor\":\"white\",\"gridcolor\":\"#DFE8F3\",\"gridwidth\":2,\"linecolor\":\"#EBF0F8\",\"showbackground\":true,\"ticks\":\"\",\"zerolinecolor\":\"#EBF0F8\"}},\"shapedefaults\":{\"line\":{\"color\":\"#2a3f5f\"}},\"ternary\":{\"aaxis\":{\"gridcolor\":\"#DFE8F3\",\"linecolor\":\"#A2B1C6\",\"ticks\":\"\"},\"baxis\":{\"gridcolor\":\"#DFE8F3\",\"linecolor\":\"#A2B1C6\",\"ticks\":\"\"},\"bgcolor\":\"white\",\"caxis\":{\"gridcolor\":\"#DFE8F3\",\"linecolor\":\"#A2B1C6\",\"ticks\":\"\"}},\"title\":{\"x\":0.05},\"xaxis\":{\"automargin\":true,\"gridcolor\":\"#EBF0F8\",\"linecolor\":\"#EBF0F8\",\"ticks\":\"\",\"title\":{\"standoff\":15},\"zerolinecolor\":\"#EBF0F8\",\"zerolinewidth\":2},\"yaxis\":{\"automargin\":true,\"gridcolor\":\"#EBF0F8\",\"linecolor\":\"#EBF0F8\",\"ticks\":\"\",\"title\":{\"standoff\":15},\"zerolinecolor\":\"#EBF0F8\",\"zerolinewidth\":2}}},\"title\":{\"text\":\"Control Vs Test: Purchases\"}},                        {\"responsive\": true}                    ).then(function(){\n",
              "                            \n",
              "var gd = document.getElementById('8bc17175-6ba4-4896-bf00-bd49ace8aebb');\n",
              "var x = new MutationObserver(function (mutations, observer) {{\n",
              "        var display = window.getComputedStyle(gd).display;\n",
              "        if (!display || display === 'none') {{\n",
              "            console.log([gd, 'removed!']);\n",
              "            Plotly.purge(gd);\n",
              "            observer.disconnect();\n",
              "        }}\n",
              "}});\n",
              "\n",
              "// Listen for the removal of the full notebook cells\n",
              "var notebookContainer = gd.closest('#notebook-container');\n",
              "if (notebookContainer) {{\n",
              "    x.observe(notebookContainer, {childList: true});\n",
              "}}\n",
              "\n",
              "// Listen for the clearing of the current output cell\n",
              "var outputEl = gd.closest('.output');\n",
              "if (outputEl) {{\n",
              "    x.observe(outputEl, {childList: true});\n",
              "}}\n",
              "\n",
              "                        })                };                            </script>        </div>\n",
              "</body>\n",
              "</html>"
            ]
          },
          "metadata": {}
        }
      ]
    },
    {
      "cell_type": "code",
      "source": [
        "ab_data.columns"
      ],
      "metadata": {
        "colab": {
          "base_uri": "https://localhost:8080/"
        },
        "id": "vWqeFTP0pYH_",
        "outputId": "c7521ce7-2edc-46f8-dd97-c91a8721b69e"
      },
      "execution_count": 42,
      "outputs": [
        {
          "output_type": "execute_result",
          "data": {
            "text/plain": [
              "Index(['Campaign_Name', 'Date', 'Amount Spent', 'Number of Impressions',\n",
              "       'Reach', 'Website Clicks', 'Searches_Received', 'Content Viewed',\n",
              "       'Add_to_Cart', 'Purchases'],\n",
              "      dtype='object')"
            ]
          },
          "metadata": {},
          "execution_count": 42
        }
      ]
    },
    {
      "cell_type": "code",
      "source": [
        "fig = px.scatter(ab_data, x = 'Content Viewed', y ='Website Clicks', size = 'Website Clicks', \n",
        "                 color = 'Campaign_Name', trendline = 'ols')\n",
        "\n",
        "fig.show()"
      ],
      "metadata": {
        "colab": {
          "base_uri": "https://localhost:8080/",
          "height": 542
        },
        "id": "0q68XoLaptlJ",
        "outputId": "810669b6-13a5-4cd8-d0f3-699a14412491"
      },
      "execution_count": 43,
      "outputs": [
        {
          "output_type": "display_data",
          "data": {
            "text/html": [
              "<html>\n",
              "<head><meta charset=\"utf-8\" /></head>\n",
              "<body>\n",
              "    <div>            <script src=\"https://cdnjs.cloudflare.com/ajax/libs/mathjax/2.7.5/MathJax.js?config=TeX-AMS-MML_SVG\"></script><script type=\"text/javascript\">if (window.MathJax) {MathJax.Hub.Config({SVG: {font: \"STIX-Web\"}});}</script>                <script type=\"text/javascript\">window.PlotlyConfig = {MathJaxConfig: 'local'};</script>\n",
              "        <script src=\"https://cdn.plot.ly/plotly-2.8.3.min.js\"></script>                <div id=\"2980993b-6938-4183-811e-191db097c96f\" class=\"plotly-graph-div\" style=\"height:525px; width:100%;\"></div>            <script type=\"text/javascript\">                                    window.PLOTLYENV=window.PLOTLYENV || {};                                    if (document.getElementById(\"2980993b-6938-4183-811e-191db097c96f\")) {                    Plotly.newPlot(                        \"2980993b-6938-4183-811e-191db097c96f\",                        [{\"hovertemplate\":\"Campaign_Name=Control Campaign<br>Content Viewed=%{x}<br>Website Clicks=%{marker.size}<extra></extra>\",\"legendgroup\":\"Control Campaign\",\"marker\":{\"color\":\"#636efa\",\"size\":[7016.0,2277.0,8137.0,2993.0,6554.0,4521.0,4896.0,5224.0,6628.0,7253.0,3706.0,8110.0,2578.0,5691.0,6843.0,4410.0,4085.0,4234.0,5435.0,4941.0,6287.0,8127.0,6508.0,4658.0,3065.0,5320.793103448276,4028.0,2640.0,7260.0,6198.0],\"sizemode\":\"area\",\"sizeref\":20.66,\"symbol\":\"circle\"},\"mode\":\"markers\",\"name\":\"Control Campaign\",\"orientation\":\"v\",\"showlegend\":true,\"x\":[2159.0,1984.0,2486.0,1147.0,1975.0,1149.0,1005.0,2158.0,1642.0,2115.0,2098.0,1841.0,848.0,2496.0,2988.0,2496.0,1149.0,2096.0,2421.0,3249.0,1589.0,4219.0,1549.0,1249.0,982.0,1943.7931034482758,1249.0,1106.0,2746.0,2179.0],\"xaxis\":\"x\",\"y\":[7016.0,2277.0,8137.0,2993.0,6554.0,4521.0,4896.0,5224.0,6628.0,7253.0,3706.0,8110.0,2578.0,5691.0,6843.0,4410.0,4085.0,4234.0,5435.0,4941.0,6287.0,8127.0,6508.0,4658.0,3065.0,5320.793103448276,4028.0,2640.0,7260.0,6198.0],\"yaxis\":\"y\",\"type\":\"scatter\"},{\"hovertemplate\":\"<b>OLS trendline</b><br>Website Clicks = 1.29125 * Content Viewed + 2810.87<br>R<sup>2</sup>=0.326398<br><br>Campaign_Name=Control Campaign<br>Content Viewed=%{x}<br>Website Clicks=%{y} <b>(trend)</b><extra></extra>\",\"legendgroup\":\"Control Campaign\",\"marker\":{\"color\":\"#636efa\",\"symbol\":\"circle\"},\"mode\":\"lines\",\"name\":\"Control Campaign\",\"showlegend\":false,\"x\":[848.0,982.0,1005.0,1106.0,1147.0,1149.0,1149.0,1249.0,1249.0,1549.0,1589.0,1642.0,1841.0,1943.7931034482758,1975.0,1984.0,2096.0,2098.0,2115.0,2158.0,2159.0,2179.0,2421.0,2486.0,2496.0,2496.0,2746.0,2988.0,3249.0,4219.0],\"xaxis\":\"x\",\"y\":[3905.8483861475033,4078.8761151244935,4108.574904426514,4238.9913270136485,4291.932647073772,4294.515150491339,4294.515150491339,4423.64032136969,4423.64032136969,4811.015834004744,4862.665902356084,4931.10224292161,5188.061332969529,5320.793103448275,5361.089061946519,5372.710327325571,5517.330518709324,5519.9130221268915,5541.864301176211,5597.388124653902,5598.679376362685,5624.504410538355,5936.9873240639645,6020.918685134893,6033.831202222728,6033.831202222728,6356.644129418606,6669.127042944216,7006.143738936711,8258.657896456716],\"yaxis\":\"y\",\"type\":\"scatter\"},{\"hovertemplate\":\"Campaign_Name=Test Campaign<br>Content Viewed=%{x}<br>Website Clicks=%{marker.size}<extra></extra>\",\"legendgroup\":\"Test Campaign\",\"marker\":{\"color\":\"#EF553B\",\"size\":[3038.0,8125.0,3750.0,8264.0,7568.0,3993.0,4993.0,6800.0,7910.0,6909.0,7617.0,4657.0,6050.0,5471.0,4431.0,5077.0,7156.0,3596.0,3820.0,6435.0,8144.0,7651.0,7885.0,4399.0,4216.0,5863.0,7488.0,4221.0,7184.0,8259.0],\"sizemode\":\"area\",\"sizeref\":20.66,\"symbol\":\"circle\"},\"mode\":\"markers\",\"name\":\"Test Campaign\",\"orientation\":\"v\",\"showlegend\":true,\"x\":[1069.0,1804.0,2617.0,1992.0,2058.0,1059.0,1609.0,2594.0,1576.0,2522.0,2801.0,1548.0,1894.0,1868.0,1131.0,2004.0,2427.0,2551.0,1046.0,2552.0,1281.0,1240.0,2367.0,1625.0,1437.0,858.0,1073.0,2182.0,2194.0,2761.0],\"xaxis\":\"x\",\"y\":[3038.0,8125.0,3750.0,8264.0,7568.0,3993.0,4993.0,6800.0,7910.0,6909.0,7617.0,4657.0,6050.0,5471.0,4431.0,5077.0,7156.0,3596.0,3820.0,6435.0,8144.0,7651.0,7885.0,4399.0,4216.0,5863.0,7488.0,4221.0,7184.0,8259.0],\"yaxis\":\"y\",\"type\":\"scatter\"},{\"hovertemplate\":\"<b>OLS trendline</b><br>Website Clicks = 0.801598 * Content Viewed + 4542.96<br>R<sup>2</sup>=0.078623<br><br>Campaign_Name=Test Campaign<br>Content Viewed=%{x}<br>Website Clicks=%{y} <b>(trend)</b><extra></extra>\",\"legendgroup\":\"Test Campaign\",\"marker\":{\"color\":\"#EF553B\",\"symbol\":\"circle\"},\"mode\":\"lines\",\"name\":\"Test Campaign\",\"showlegend\":false,\"x\":[858.0,1046.0,1059.0,1069.0,1073.0,1131.0,1240.0,1281.0,1437.0,1548.0,1576.0,1609.0,1625.0,1804.0,1868.0,1894.0,1992.0,2004.0,2058.0,2182.0,2194.0,2367.0,2427.0,2522.0,2551.0,2552.0,2594.0,2617.0,2761.0,2801.0],\"xaxis\":\"x\",\"y\":[5230.735482979489,5381.435878846011,5391.856650900611,5399.87262940415,5403.079020805565,5449.571696126088,5536.945861814656,5569.811373679165,5694.860638334364,5783.837999723641,5806.282739533548,5832.735468595225,5845.561034200887,5989.047049414225,6040.349311836871,6061.19085594607,6139.747445280747,6149.366619484993,6192.6529034041005,6292.051036847977,6301.670211052223,6440.346639163437,6488.442510184668,6564.594305968283,6587.840643628545,6588.642241478899,6622.30935119376,6640.746101751898,6756.176192202853,6788.240106217006],\"yaxis\":\"y\",\"type\":\"scatter\"}],                        {\"template\":{\"data\":{\"bar\":[{\"error_x\":{\"color\":\"#2a3f5f\"},\"error_y\":{\"color\":\"#2a3f5f\"},\"marker\":{\"line\":{\"color\":\"white\",\"width\":0.5},\"pattern\":{\"fillmode\":\"overlay\",\"size\":10,\"solidity\":0.2}},\"type\":\"bar\"}],\"barpolar\":[{\"marker\":{\"line\":{\"color\":\"white\",\"width\":0.5},\"pattern\":{\"fillmode\":\"overlay\",\"size\":10,\"solidity\":0.2}},\"type\":\"barpolar\"}],\"carpet\":[{\"aaxis\":{\"endlinecolor\":\"#2a3f5f\",\"gridcolor\":\"#C8D4E3\",\"linecolor\":\"#C8D4E3\",\"minorgridcolor\":\"#C8D4E3\",\"startlinecolor\":\"#2a3f5f\"},\"baxis\":{\"endlinecolor\":\"#2a3f5f\",\"gridcolor\":\"#C8D4E3\",\"linecolor\":\"#C8D4E3\",\"minorgridcolor\":\"#C8D4E3\",\"startlinecolor\":\"#2a3f5f\"},\"type\":\"carpet\"}],\"choropleth\":[{\"colorbar\":{\"outlinewidth\":0,\"ticks\":\"\"},\"type\":\"choropleth\"}],\"contour\":[{\"colorbar\":{\"outlinewidth\":0,\"ticks\":\"\"},\"colorscale\":[[0.0,\"#0d0887\"],[0.1111111111111111,\"#46039f\"],[0.2222222222222222,\"#7201a8\"],[0.3333333333333333,\"#9c179e\"],[0.4444444444444444,\"#bd3786\"],[0.5555555555555556,\"#d8576b\"],[0.6666666666666666,\"#ed7953\"],[0.7777777777777778,\"#fb9f3a\"],[0.8888888888888888,\"#fdca26\"],[1.0,\"#f0f921\"]],\"type\":\"contour\"}],\"contourcarpet\":[{\"colorbar\":{\"outlinewidth\":0,\"ticks\":\"\"},\"type\":\"contourcarpet\"}],\"heatmap\":[{\"colorbar\":{\"outlinewidth\":0,\"ticks\":\"\"},\"colorscale\":[[0.0,\"#0d0887\"],[0.1111111111111111,\"#46039f\"],[0.2222222222222222,\"#7201a8\"],[0.3333333333333333,\"#9c179e\"],[0.4444444444444444,\"#bd3786\"],[0.5555555555555556,\"#d8576b\"],[0.6666666666666666,\"#ed7953\"],[0.7777777777777778,\"#fb9f3a\"],[0.8888888888888888,\"#fdca26\"],[1.0,\"#f0f921\"]],\"type\":\"heatmap\"}],\"heatmapgl\":[{\"colorbar\":{\"outlinewidth\":0,\"ticks\":\"\"},\"colorscale\":[[0.0,\"#0d0887\"],[0.1111111111111111,\"#46039f\"],[0.2222222222222222,\"#7201a8\"],[0.3333333333333333,\"#9c179e\"],[0.4444444444444444,\"#bd3786\"],[0.5555555555555556,\"#d8576b\"],[0.6666666666666666,\"#ed7953\"],[0.7777777777777778,\"#fb9f3a\"],[0.8888888888888888,\"#fdca26\"],[1.0,\"#f0f921\"]],\"type\":\"heatmapgl\"}],\"histogram\":[{\"marker\":{\"pattern\":{\"fillmode\":\"overlay\",\"size\":10,\"solidity\":0.2}},\"type\":\"histogram\"}],\"histogram2d\":[{\"colorbar\":{\"outlinewidth\":0,\"ticks\":\"\"},\"colorscale\":[[0.0,\"#0d0887\"],[0.1111111111111111,\"#46039f\"],[0.2222222222222222,\"#7201a8\"],[0.3333333333333333,\"#9c179e\"],[0.4444444444444444,\"#bd3786\"],[0.5555555555555556,\"#d8576b\"],[0.6666666666666666,\"#ed7953\"],[0.7777777777777778,\"#fb9f3a\"],[0.8888888888888888,\"#fdca26\"],[1.0,\"#f0f921\"]],\"type\":\"histogram2d\"}],\"histogram2dcontour\":[{\"colorbar\":{\"outlinewidth\":0,\"ticks\":\"\"},\"colorscale\":[[0.0,\"#0d0887\"],[0.1111111111111111,\"#46039f\"],[0.2222222222222222,\"#7201a8\"],[0.3333333333333333,\"#9c179e\"],[0.4444444444444444,\"#bd3786\"],[0.5555555555555556,\"#d8576b\"],[0.6666666666666666,\"#ed7953\"],[0.7777777777777778,\"#fb9f3a\"],[0.8888888888888888,\"#fdca26\"],[1.0,\"#f0f921\"]],\"type\":\"histogram2dcontour\"}],\"mesh3d\":[{\"colorbar\":{\"outlinewidth\":0,\"ticks\":\"\"},\"type\":\"mesh3d\"}],\"parcoords\":[{\"line\":{\"colorbar\":{\"outlinewidth\":0,\"ticks\":\"\"}},\"type\":\"parcoords\"}],\"pie\":[{\"automargin\":true,\"type\":\"pie\"}],\"scatter\":[{\"marker\":{\"colorbar\":{\"outlinewidth\":0,\"ticks\":\"\"}},\"type\":\"scatter\"}],\"scatter3d\":[{\"line\":{\"colorbar\":{\"outlinewidth\":0,\"ticks\":\"\"}},\"marker\":{\"colorbar\":{\"outlinewidth\":0,\"ticks\":\"\"}},\"type\":\"scatter3d\"}],\"scattercarpet\":[{\"marker\":{\"colorbar\":{\"outlinewidth\":0,\"ticks\":\"\"}},\"type\":\"scattercarpet\"}],\"scattergeo\":[{\"marker\":{\"colorbar\":{\"outlinewidth\":0,\"ticks\":\"\"}},\"type\":\"scattergeo\"}],\"scattergl\":[{\"marker\":{\"colorbar\":{\"outlinewidth\":0,\"ticks\":\"\"}},\"type\":\"scattergl\"}],\"scattermapbox\":[{\"marker\":{\"colorbar\":{\"outlinewidth\":0,\"ticks\":\"\"}},\"type\":\"scattermapbox\"}],\"scatterpolar\":[{\"marker\":{\"colorbar\":{\"outlinewidth\":0,\"ticks\":\"\"}},\"type\":\"scatterpolar\"}],\"scatterpolargl\":[{\"marker\":{\"colorbar\":{\"outlinewidth\":0,\"ticks\":\"\"}},\"type\":\"scatterpolargl\"}],\"scatterternary\":[{\"marker\":{\"colorbar\":{\"outlinewidth\":0,\"ticks\":\"\"}},\"type\":\"scatterternary\"}],\"surface\":[{\"colorbar\":{\"outlinewidth\":0,\"ticks\":\"\"},\"colorscale\":[[0.0,\"#0d0887\"],[0.1111111111111111,\"#46039f\"],[0.2222222222222222,\"#7201a8\"],[0.3333333333333333,\"#9c179e\"],[0.4444444444444444,\"#bd3786\"],[0.5555555555555556,\"#d8576b\"],[0.6666666666666666,\"#ed7953\"],[0.7777777777777778,\"#fb9f3a\"],[0.8888888888888888,\"#fdca26\"],[1.0,\"#f0f921\"]],\"type\":\"surface\"}],\"table\":[{\"cells\":{\"fill\":{\"color\":\"#EBF0F8\"},\"line\":{\"color\":\"white\"}},\"header\":{\"fill\":{\"color\":\"#C8D4E3\"},\"line\":{\"color\":\"white\"}},\"type\":\"table\"}]},\"layout\":{\"annotationdefaults\":{\"arrowcolor\":\"#2a3f5f\",\"arrowhead\":0,\"arrowwidth\":1},\"autotypenumbers\":\"strict\",\"coloraxis\":{\"colorbar\":{\"outlinewidth\":0,\"ticks\":\"\"}},\"colorscale\":{\"diverging\":[[0,\"#8e0152\"],[0.1,\"#c51b7d\"],[0.2,\"#de77ae\"],[0.3,\"#f1b6da\"],[0.4,\"#fde0ef\"],[0.5,\"#f7f7f7\"],[0.6,\"#e6f5d0\"],[0.7,\"#b8e186\"],[0.8,\"#7fbc41\"],[0.9,\"#4d9221\"],[1,\"#276419\"]],\"sequential\":[[0.0,\"#0d0887\"],[0.1111111111111111,\"#46039f\"],[0.2222222222222222,\"#7201a8\"],[0.3333333333333333,\"#9c179e\"],[0.4444444444444444,\"#bd3786\"],[0.5555555555555556,\"#d8576b\"],[0.6666666666666666,\"#ed7953\"],[0.7777777777777778,\"#fb9f3a\"],[0.8888888888888888,\"#fdca26\"],[1.0,\"#f0f921\"]],\"sequentialminus\":[[0.0,\"#0d0887\"],[0.1111111111111111,\"#46039f\"],[0.2222222222222222,\"#7201a8\"],[0.3333333333333333,\"#9c179e\"],[0.4444444444444444,\"#bd3786\"],[0.5555555555555556,\"#d8576b\"],[0.6666666666666666,\"#ed7953\"],[0.7777777777777778,\"#fb9f3a\"],[0.8888888888888888,\"#fdca26\"],[1.0,\"#f0f921\"]]},\"colorway\":[\"#636efa\",\"#EF553B\",\"#00cc96\",\"#ab63fa\",\"#FFA15A\",\"#19d3f3\",\"#FF6692\",\"#B6E880\",\"#FF97FF\",\"#FECB52\"],\"font\":{\"color\":\"#2a3f5f\"},\"geo\":{\"bgcolor\":\"white\",\"lakecolor\":\"white\",\"landcolor\":\"white\",\"showlakes\":true,\"showland\":true,\"subunitcolor\":\"#C8D4E3\"},\"hoverlabel\":{\"align\":\"left\"},\"hovermode\":\"closest\",\"mapbox\":{\"style\":\"light\"},\"paper_bgcolor\":\"white\",\"plot_bgcolor\":\"white\",\"polar\":{\"angularaxis\":{\"gridcolor\":\"#EBF0F8\",\"linecolor\":\"#EBF0F8\",\"ticks\":\"\"},\"bgcolor\":\"white\",\"radialaxis\":{\"gridcolor\":\"#EBF0F8\",\"linecolor\":\"#EBF0F8\",\"ticks\":\"\"}},\"scene\":{\"xaxis\":{\"backgroundcolor\":\"white\",\"gridcolor\":\"#DFE8F3\",\"gridwidth\":2,\"linecolor\":\"#EBF0F8\",\"showbackground\":true,\"ticks\":\"\",\"zerolinecolor\":\"#EBF0F8\"},\"yaxis\":{\"backgroundcolor\":\"white\",\"gridcolor\":\"#DFE8F3\",\"gridwidth\":2,\"linecolor\":\"#EBF0F8\",\"showbackground\":true,\"ticks\":\"\",\"zerolinecolor\":\"#EBF0F8\"},\"zaxis\":{\"backgroundcolor\":\"white\",\"gridcolor\":\"#DFE8F3\",\"gridwidth\":2,\"linecolor\":\"#EBF0F8\",\"showbackground\":true,\"ticks\":\"\",\"zerolinecolor\":\"#EBF0F8\"}},\"shapedefaults\":{\"line\":{\"color\":\"#2a3f5f\"}},\"ternary\":{\"aaxis\":{\"gridcolor\":\"#DFE8F3\",\"linecolor\":\"#A2B1C6\",\"ticks\":\"\"},\"baxis\":{\"gridcolor\":\"#DFE8F3\",\"linecolor\":\"#A2B1C6\",\"ticks\":\"\"},\"bgcolor\":\"white\",\"caxis\":{\"gridcolor\":\"#DFE8F3\",\"linecolor\":\"#A2B1C6\",\"ticks\":\"\"}},\"title\":{\"x\":0.05},\"xaxis\":{\"automargin\":true,\"gridcolor\":\"#EBF0F8\",\"linecolor\":\"#EBF0F8\",\"ticks\":\"\",\"title\":{\"standoff\":15},\"zerolinecolor\":\"#EBF0F8\",\"zerolinewidth\":2},\"yaxis\":{\"automargin\":true,\"gridcolor\":\"#EBF0F8\",\"linecolor\":\"#EBF0F8\",\"ticks\":\"\",\"title\":{\"standoff\":15},\"zerolinecolor\":\"#EBF0F8\",\"zerolinewidth\":2}}},\"xaxis\":{\"anchor\":\"y\",\"domain\":[0.0,1.0],\"title\":{\"text\":\"Content Viewed\"}},\"yaxis\":{\"anchor\":\"x\",\"domain\":[0.0,1.0],\"title\":{\"text\":\"Website Clicks\"}},\"legend\":{\"title\":{\"text\":\"Campaign_Name\"},\"tracegroupgap\":0,\"itemsizing\":\"constant\"},\"margin\":{\"t\":60}},                        {\"responsive\": true}                    ).then(function(){\n",
              "                            \n",
              "var gd = document.getElementById('2980993b-6938-4183-811e-191db097c96f');\n",
              "var x = new MutationObserver(function (mutations, observer) {{\n",
              "        var display = window.getComputedStyle(gd).display;\n",
              "        if (!display || display === 'none') {{\n",
              "            console.log([gd, 'removed!']);\n",
              "            Plotly.purge(gd);\n",
              "            observer.disconnect();\n",
              "        }}\n",
              "}});\n",
              "\n",
              "// Listen for the removal of the full notebook cells\n",
              "var notebookContainer = gd.closest('#notebook-container');\n",
              "if (notebookContainer) {{\n",
              "    x.observe(notebookContainer, {childList: true});\n",
              "}}\n",
              "\n",
              "// Listen for the clearing of the current output cell\n",
              "var outputEl = gd.closest('.output');\n",
              "if (outputEl) {{\n",
              "    x.observe(outputEl, {childList: true});\n",
              "}}\n",
              "\n",
              "                        })                };                            </script>        </div>\n",
              "</body>\n",
              "</html>"
            ]
          },
          "metadata": {}
        }
      ]
    },
    {
      "cell_type": "code",
      "source": [
        "fig = px.scatter(ab_data, x = 'Add_to_Cart', y ='Content Viewed', size = 'Add_to_Cart', \n",
        "                 color = 'Campaign_Name', trendline = 'ols')\n",
        "\n",
        "fig.show()"
      ],
      "metadata": {
        "colab": {
          "base_uri": "https://localhost:8080/",
          "height": 542
        },
        "id": "vDsIv4ajqBkL",
        "outputId": "c16d794c-ed14-4c74-aea7-ed72254fd6e7"
      },
      "execution_count": 44,
      "outputs": [
        {
          "output_type": "display_data",
          "data": {
            "text/html": [
              "<html>\n",
              "<head><meta charset=\"utf-8\" /></head>\n",
              "<body>\n",
              "    <div>            <script src=\"https://cdnjs.cloudflare.com/ajax/libs/mathjax/2.7.5/MathJax.js?config=TeX-AMS-MML_SVG\"></script><script type=\"text/javascript\">if (window.MathJax) {MathJax.Hub.Config({SVG: {font: \"STIX-Web\"}});}</script>                <script type=\"text/javascript\">window.PlotlyConfig = {MathJaxConfig: 'local'};</script>\n",
              "        <script src=\"https://cdn.plot.ly/plotly-2.8.3.min.js\"></script>                <div id=\"63bce634-38f2-41ea-bca8-71fc2fd580b9\" class=\"plotly-graph-div\" style=\"height:525px; width:100%;\"></div>            <script type=\"text/javascript\">                                    window.PLOTLYENV=window.PLOTLYENV || {};                                    if (document.getElementById(\"63bce634-38f2-41ea-bca8-71fc2fd580b9\")) {                    Plotly.newPlot(                        \"63bce634-38f2-41ea-bca8-71fc2fd580b9\",                        [{\"hovertemplate\":\"Campaign_Name=Control Campaign<br>Add_to_Cart=%{marker.size}<br>Content Viewed=%{y}<extra></extra>\",\"legendgroup\":\"Control Campaign\",\"marker\":{\"color\":\"#636efa\",\"size\":[1819.0,1629.0,1887.0,1439.0,1794.0,1339.0,1641.0,1613.0,878.0,1695.0,908.0,1219.0,1709.0,1460.0,819.0,1913.0,1146.0,883.0,1448.0,980.0,1711.0,1486.0,1134.0,442.0,1183.0,1300.0,784.0,1166.0,930.0,645.0],\"sizemode\":\"area\",\"sizeref\":4.7825,\"symbol\":\"circle\"},\"mode\":\"markers\",\"name\":\"Control Campaign\",\"orientation\":\"v\",\"showlegend\":true,\"x\":[1819.0,1629.0,1887.0,1439.0,1794.0,1339.0,1641.0,1613.0,878.0,1695.0,908.0,1219.0,1709.0,1460.0,819.0,1913.0,1146.0,883.0,1448.0,980.0,1711.0,1486.0,1134.0,442.0,1183.0,1300.0,784.0,1166.0,930.0,645.0],\"xaxis\":\"x\",\"y\":[2159.0,1984.0,2486.0,1147.0,1975.0,1149.0,1005.0,2158.0,1642.0,2115.0,2098.0,1841.0,848.0,2496.0,2988.0,2496.0,1149.0,2096.0,2421.0,3249.0,1589.0,4219.0,1549.0,1249.0,982.0,1943.7931034482758,1249.0,1106.0,2746.0,2179.0],\"yaxis\":\"y\",\"type\":\"scatter\"},{\"hovertemplate\":\"<b>OLS trendline</b><br>Content Viewed = 0.100333 * Add_to_Cart + 1813.36<br>R<sup>2</sup>=0.002764<br><br>Campaign_Name=Control Campaign<br>Add_to_Cart=%{x}<br>Content Viewed=%{y} <b>(trend)</b><extra></extra>\",\"legendgroup\":\"Control Campaign\",\"marker\":{\"color\":\"#636efa\",\"symbol\":\"circle\"},\"mode\":\"lines\",\"name\":\"Control Campaign\",\"showlegend\":false,\"x\":[442.0,645.0,784.0,819.0,878.0,883.0,908.0,930.0,980.0,1134.0,1146.0,1166.0,1183.0,1219.0,1300.0,1339.0,1439.0,1448.0,1460.0,1486.0,1613.0,1629.0,1641.0,1695.0,1709.0,1711.0,1794.0,1819.0,1887.0,1913.0],\"xaxis\":\"x\",\"y\":[1857.707682755321,1878.0752123598313,1892.0214518427226,1895.5330948779829,1901.4527217088505,1901.954384999602,1904.4627014533594,1906.670019932666,1911.6866528401808,1927.1378821953267,1928.3418740931302,1930.348527256136,1932.0541824446912,1935.6661581381018,1943.793103448276,1947.7060771161375,1957.7393429311674,1958.64233685452,1959.8463287523234,1962.4549778642313,1975.197225449319,1976.8025479797238,1978.0065398775273,1983.4245034176433,1984.8291606317475,1985.029825948048,1993.3574365745228,1995.8657530282803,2002.6883737825005,2005.2970228944082],\"yaxis\":\"y\",\"type\":\"scatter\"},{\"hovertemplate\":\"Campaign_Name=Test Campaign<br>Add_to_Cart=%{marker.size}<br>Content Viewed=%{y}<extra></extra>\",\"legendgroup\":\"Test Campaign\",\"marker\":{\"color\":\"#EF553B\",\"size\":[894.0,424.0,1075.0,1382.0,1391.0,779.0,1090.0,1059.0,383.0,461.0,788.0,879.0,1047.0,278.0,367.0,632.0,327.0,1228.0,346.0,992.0,1009.0,1168.0,1268.0,1034.0,566.0,956.0,882.0,1301.0,1240.0,1200.0],\"sizemode\":\"area\",\"sizeref\":4.7825,\"symbol\":\"circle\"},\"mode\":\"markers\",\"name\":\"Test Campaign\",\"orientation\":\"v\",\"showlegend\":true,\"x\":[894.0,424.0,1075.0,1382.0,1391.0,779.0,1090.0,1059.0,383.0,461.0,788.0,879.0,1047.0,278.0,367.0,632.0,327.0,1228.0,346.0,992.0,1009.0,1168.0,1268.0,1034.0,566.0,956.0,882.0,1301.0,1240.0,1200.0],\"xaxis\":\"x\",\"y\":[1069.0,1804.0,2617.0,1992.0,2058.0,1059.0,1609.0,2594.0,1576.0,2522.0,2801.0,1548.0,1894.0,1868.0,1131.0,2004.0,2427.0,2551.0,1046.0,2552.0,1281.0,1240.0,2367.0,1625.0,1437.0,858.0,1073.0,2182.0,2194.0,2761.0],\"yaxis\":\"y\",\"type\":\"scatter\"},{\"hovertemplate\":\"<b>OLS trendline</b><br>Content Viewed = 0.442802 * Add_to_Cart + 1467.66<br>R<sup>2</sup>=0.066319<br><br>Campaign_Name=Test Campaign<br>Add_to_Cart=%{x}<br>Content Viewed=%{y} <b>(trend)</b><extra></extra>\",\"legendgroup\":\"Test Campaign\",\"marker\":{\"color\":\"#EF553B\",\"symbol\":\"circle\"},\"mode\":\"lines\",\"name\":\"Test Campaign\",\"showlegend\":false,\"x\":[278.0,327.0,346.0,367.0,383.0,424.0,461.0,566.0,632.0,779.0,788.0,879.0,882.0,894.0,956.0,992.0,1009.0,1034.0,1047.0,1059.0,1075.0,1090.0,1168.0,1200.0,1228.0,1240.0,1268.0,1301.0,1382.0,1391.0],\"xaxis\":\"x\",\"y\":[1590.7540839459393,1612.4513940420106,1620.864636732324,1630.1634839163546,1637.2483198660923,1655.403211987295,1671.786895121063,1718.2811310412162,1747.506079333884,1812.598009622098,1816.5832298438254,1856.878234307958,1858.206641048534,1863.5202680108373,1890.9740073160704,1906.91488820298,1914.4425263995763,1925.5125825710413,1931.269011780203,1936.5826387425063,1943.667474692244,1950.309508395123,1984.8480836500937,1999.0177555495688,2011.4162184616098,2016.729845423913,2029.1283083359538,2043.7407824822876,2079.6077644778343,2083.592984699562],\"yaxis\":\"y\",\"type\":\"scatter\"}],                        {\"template\":{\"data\":{\"bar\":[{\"error_x\":{\"color\":\"#2a3f5f\"},\"error_y\":{\"color\":\"#2a3f5f\"},\"marker\":{\"line\":{\"color\":\"white\",\"width\":0.5},\"pattern\":{\"fillmode\":\"overlay\",\"size\":10,\"solidity\":0.2}},\"type\":\"bar\"}],\"barpolar\":[{\"marker\":{\"line\":{\"color\":\"white\",\"width\":0.5},\"pattern\":{\"fillmode\":\"overlay\",\"size\":10,\"solidity\":0.2}},\"type\":\"barpolar\"}],\"carpet\":[{\"aaxis\":{\"endlinecolor\":\"#2a3f5f\",\"gridcolor\":\"#C8D4E3\",\"linecolor\":\"#C8D4E3\",\"minorgridcolor\":\"#C8D4E3\",\"startlinecolor\":\"#2a3f5f\"},\"baxis\":{\"endlinecolor\":\"#2a3f5f\",\"gridcolor\":\"#C8D4E3\",\"linecolor\":\"#C8D4E3\",\"minorgridcolor\":\"#C8D4E3\",\"startlinecolor\":\"#2a3f5f\"},\"type\":\"carpet\"}],\"choropleth\":[{\"colorbar\":{\"outlinewidth\":0,\"ticks\":\"\"},\"type\":\"choropleth\"}],\"contour\":[{\"colorbar\":{\"outlinewidth\":0,\"ticks\":\"\"},\"colorscale\":[[0.0,\"#0d0887\"],[0.1111111111111111,\"#46039f\"],[0.2222222222222222,\"#7201a8\"],[0.3333333333333333,\"#9c179e\"],[0.4444444444444444,\"#bd3786\"],[0.5555555555555556,\"#d8576b\"],[0.6666666666666666,\"#ed7953\"],[0.7777777777777778,\"#fb9f3a\"],[0.8888888888888888,\"#fdca26\"],[1.0,\"#f0f921\"]],\"type\":\"contour\"}],\"contourcarpet\":[{\"colorbar\":{\"outlinewidth\":0,\"ticks\":\"\"},\"type\":\"contourcarpet\"}],\"heatmap\":[{\"colorbar\":{\"outlinewidth\":0,\"ticks\":\"\"},\"colorscale\":[[0.0,\"#0d0887\"],[0.1111111111111111,\"#46039f\"],[0.2222222222222222,\"#7201a8\"],[0.3333333333333333,\"#9c179e\"],[0.4444444444444444,\"#bd3786\"],[0.5555555555555556,\"#d8576b\"],[0.6666666666666666,\"#ed7953\"],[0.7777777777777778,\"#fb9f3a\"],[0.8888888888888888,\"#fdca26\"],[1.0,\"#f0f921\"]],\"type\":\"heatmap\"}],\"heatmapgl\":[{\"colorbar\":{\"outlinewidth\":0,\"ticks\":\"\"},\"colorscale\":[[0.0,\"#0d0887\"],[0.1111111111111111,\"#46039f\"],[0.2222222222222222,\"#7201a8\"],[0.3333333333333333,\"#9c179e\"],[0.4444444444444444,\"#bd3786\"],[0.5555555555555556,\"#d8576b\"],[0.6666666666666666,\"#ed7953\"],[0.7777777777777778,\"#fb9f3a\"],[0.8888888888888888,\"#fdca26\"],[1.0,\"#f0f921\"]],\"type\":\"heatmapgl\"}],\"histogram\":[{\"marker\":{\"pattern\":{\"fillmode\":\"overlay\",\"size\":10,\"solidity\":0.2}},\"type\":\"histogram\"}],\"histogram2d\":[{\"colorbar\":{\"outlinewidth\":0,\"ticks\":\"\"},\"colorscale\":[[0.0,\"#0d0887\"],[0.1111111111111111,\"#46039f\"],[0.2222222222222222,\"#7201a8\"],[0.3333333333333333,\"#9c179e\"],[0.4444444444444444,\"#bd3786\"],[0.5555555555555556,\"#d8576b\"],[0.6666666666666666,\"#ed7953\"],[0.7777777777777778,\"#fb9f3a\"],[0.8888888888888888,\"#fdca26\"],[1.0,\"#f0f921\"]],\"type\":\"histogram2d\"}],\"histogram2dcontour\":[{\"colorbar\":{\"outlinewidth\":0,\"ticks\":\"\"},\"colorscale\":[[0.0,\"#0d0887\"],[0.1111111111111111,\"#46039f\"],[0.2222222222222222,\"#7201a8\"],[0.3333333333333333,\"#9c179e\"],[0.4444444444444444,\"#bd3786\"],[0.5555555555555556,\"#d8576b\"],[0.6666666666666666,\"#ed7953\"],[0.7777777777777778,\"#fb9f3a\"],[0.8888888888888888,\"#fdca26\"],[1.0,\"#f0f921\"]],\"type\":\"histogram2dcontour\"}],\"mesh3d\":[{\"colorbar\":{\"outlinewidth\":0,\"ticks\":\"\"},\"type\":\"mesh3d\"}],\"parcoords\":[{\"line\":{\"colorbar\":{\"outlinewidth\":0,\"ticks\":\"\"}},\"type\":\"parcoords\"}],\"pie\":[{\"automargin\":true,\"type\":\"pie\"}],\"scatter\":[{\"marker\":{\"colorbar\":{\"outlinewidth\":0,\"ticks\":\"\"}},\"type\":\"scatter\"}],\"scatter3d\":[{\"line\":{\"colorbar\":{\"outlinewidth\":0,\"ticks\":\"\"}},\"marker\":{\"colorbar\":{\"outlinewidth\":0,\"ticks\":\"\"}},\"type\":\"scatter3d\"}],\"scattercarpet\":[{\"marker\":{\"colorbar\":{\"outlinewidth\":0,\"ticks\":\"\"}},\"type\":\"scattercarpet\"}],\"scattergeo\":[{\"marker\":{\"colorbar\":{\"outlinewidth\":0,\"ticks\":\"\"}},\"type\":\"scattergeo\"}],\"scattergl\":[{\"marker\":{\"colorbar\":{\"outlinewidth\":0,\"ticks\":\"\"}},\"type\":\"scattergl\"}],\"scattermapbox\":[{\"marker\":{\"colorbar\":{\"outlinewidth\":0,\"ticks\":\"\"}},\"type\":\"scattermapbox\"}],\"scatterpolar\":[{\"marker\":{\"colorbar\":{\"outlinewidth\":0,\"ticks\":\"\"}},\"type\":\"scatterpolar\"}],\"scatterpolargl\":[{\"marker\":{\"colorbar\":{\"outlinewidth\":0,\"ticks\":\"\"}},\"type\":\"scatterpolargl\"}],\"scatterternary\":[{\"marker\":{\"colorbar\":{\"outlinewidth\":0,\"ticks\":\"\"}},\"type\":\"scatterternary\"}],\"surface\":[{\"colorbar\":{\"outlinewidth\":0,\"ticks\":\"\"},\"colorscale\":[[0.0,\"#0d0887\"],[0.1111111111111111,\"#46039f\"],[0.2222222222222222,\"#7201a8\"],[0.3333333333333333,\"#9c179e\"],[0.4444444444444444,\"#bd3786\"],[0.5555555555555556,\"#d8576b\"],[0.6666666666666666,\"#ed7953\"],[0.7777777777777778,\"#fb9f3a\"],[0.8888888888888888,\"#fdca26\"],[1.0,\"#f0f921\"]],\"type\":\"surface\"}],\"table\":[{\"cells\":{\"fill\":{\"color\":\"#EBF0F8\"},\"line\":{\"color\":\"white\"}},\"header\":{\"fill\":{\"color\":\"#C8D4E3\"},\"line\":{\"color\":\"white\"}},\"type\":\"table\"}]},\"layout\":{\"annotationdefaults\":{\"arrowcolor\":\"#2a3f5f\",\"arrowhead\":0,\"arrowwidth\":1},\"autotypenumbers\":\"strict\",\"coloraxis\":{\"colorbar\":{\"outlinewidth\":0,\"ticks\":\"\"}},\"colorscale\":{\"diverging\":[[0,\"#8e0152\"],[0.1,\"#c51b7d\"],[0.2,\"#de77ae\"],[0.3,\"#f1b6da\"],[0.4,\"#fde0ef\"],[0.5,\"#f7f7f7\"],[0.6,\"#e6f5d0\"],[0.7,\"#b8e186\"],[0.8,\"#7fbc41\"],[0.9,\"#4d9221\"],[1,\"#276419\"]],\"sequential\":[[0.0,\"#0d0887\"],[0.1111111111111111,\"#46039f\"],[0.2222222222222222,\"#7201a8\"],[0.3333333333333333,\"#9c179e\"],[0.4444444444444444,\"#bd3786\"],[0.5555555555555556,\"#d8576b\"],[0.6666666666666666,\"#ed7953\"],[0.7777777777777778,\"#fb9f3a\"],[0.8888888888888888,\"#fdca26\"],[1.0,\"#f0f921\"]],\"sequentialminus\":[[0.0,\"#0d0887\"],[0.1111111111111111,\"#46039f\"],[0.2222222222222222,\"#7201a8\"],[0.3333333333333333,\"#9c179e\"],[0.4444444444444444,\"#bd3786\"],[0.5555555555555556,\"#d8576b\"],[0.6666666666666666,\"#ed7953\"],[0.7777777777777778,\"#fb9f3a\"],[0.8888888888888888,\"#fdca26\"],[1.0,\"#f0f921\"]]},\"colorway\":[\"#636efa\",\"#EF553B\",\"#00cc96\",\"#ab63fa\",\"#FFA15A\",\"#19d3f3\",\"#FF6692\",\"#B6E880\",\"#FF97FF\",\"#FECB52\"],\"font\":{\"color\":\"#2a3f5f\"},\"geo\":{\"bgcolor\":\"white\",\"lakecolor\":\"white\",\"landcolor\":\"white\",\"showlakes\":true,\"showland\":true,\"subunitcolor\":\"#C8D4E3\"},\"hoverlabel\":{\"align\":\"left\"},\"hovermode\":\"closest\",\"mapbox\":{\"style\":\"light\"},\"paper_bgcolor\":\"white\",\"plot_bgcolor\":\"white\",\"polar\":{\"angularaxis\":{\"gridcolor\":\"#EBF0F8\",\"linecolor\":\"#EBF0F8\",\"ticks\":\"\"},\"bgcolor\":\"white\",\"radialaxis\":{\"gridcolor\":\"#EBF0F8\",\"linecolor\":\"#EBF0F8\",\"ticks\":\"\"}},\"scene\":{\"xaxis\":{\"backgroundcolor\":\"white\",\"gridcolor\":\"#DFE8F3\",\"gridwidth\":2,\"linecolor\":\"#EBF0F8\",\"showbackground\":true,\"ticks\":\"\",\"zerolinecolor\":\"#EBF0F8\"},\"yaxis\":{\"backgroundcolor\":\"white\",\"gridcolor\":\"#DFE8F3\",\"gridwidth\":2,\"linecolor\":\"#EBF0F8\",\"showbackground\":true,\"ticks\":\"\",\"zerolinecolor\":\"#EBF0F8\"},\"zaxis\":{\"backgroundcolor\":\"white\",\"gridcolor\":\"#DFE8F3\",\"gridwidth\":2,\"linecolor\":\"#EBF0F8\",\"showbackground\":true,\"ticks\":\"\",\"zerolinecolor\":\"#EBF0F8\"}},\"shapedefaults\":{\"line\":{\"color\":\"#2a3f5f\"}},\"ternary\":{\"aaxis\":{\"gridcolor\":\"#DFE8F3\",\"linecolor\":\"#A2B1C6\",\"ticks\":\"\"},\"baxis\":{\"gridcolor\":\"#DFE8F3\",\"linecolor\":\"#A2B1C6\",\"ticks\":\"\"},\"bgcolor\":\"white\",\"caxis\":{\"gridcolor\":\"#DFE8F3\",\"linecolor\":\"#A2B1C6\",\"ticks\":\"\"}},\"title\":{\"x\":0.05},\"xaxis\":{\"automargin\":true,\"gridcolor\":\"#EBF0F8\",\"linecolor\":\"#EBF0F8\",\"ticks\":\"\",\"title\":{\"standoff\":15},\"zerolinecolor\":\"#EBF0F8\",\"zerolinewidth\":2},\"yaxis\":{\"automargin\":true,\"gridcolor\":\"#EBF0F8\",\"linecolor\":\"#EBF0F8\",\"ticks\":\"\",\"title\":{\"standoff\":15},\"zerolinecolor\":\"#EBF0F8\",\"zerolinewidth\":2}}},\"xaxis\":{\"anchor\":\"y\",\"domain\":[0.0,1.0],\"title\":{\"text\":\"Add_to_Cart\"}},\"yaxis\":{\"anchor\":\"x\",\"domain\":[0.0,1.0],\"title\":{\"text\":\"Content Viewed\"}},\"legend\":{\"title\":{\"text\":\"Campaign_Name\"},\"tracegroupgap\":0,\"itemsizing\":\"constant\"},\"margin\":{\"t\":60}},                        {\"responsive\": true}                    ).then(function(){\n",
              "                            \n",
              "var gd = document.getElementById('63bce634-38f2-41ea-bca8-71fc2fd580b9');\n",
              "var x = new MutationObserver(function (mutations, observer) {{\n",
              "        var display = window.getComputedStyle(gd).display;\n",
              "        if (!display || display === 'none') {{\n",
              "            console.log([gd, 'removed!']);\n",
              "            Plotly.purge(gd);\n",
              "            observer.disconnect();\n",
              "        }}\n",
              "}});\n",
              "\n",
              "// Listen for the removal of the full notebook cells\n",
              "var notebookContainer = gd.closest('#notebook-container');\n",
              "if (notebookContainer) {{\n",
              "    x.observe(notebookContainer, {childList: true});\n",
              "}}\n",
              "\n",
              "// Listen for the clearing of the current output cell\n",
              "var outputEl = gd.closest('.output');\n",
              "if (outputEl) {{\n",
              "    x.observe(outputEl, {childList: true});\n",
              "}}\n",
              "\n",
              "                        })                };                            </script>        </div>\n",
              "</body>\n",
              "</html>"
            ]
          },
          "metadata": {}
        }
      ]
    },
    {
      "cell_type": "code",
      "source": [
        "fig = px.scatter(ab_data, x = 'Purchases', y ='Add_to_Cart', size = 'Purchases', \n",
        "                 color = 'Campaign_Name', trendline = 'ols')\n",
        "\n",
        "fig.show()"
      ],
      "metadata": {
        "colab": {
          "base_uri": "https://localhost:8080/",
          "height": 542
        },
        "id": "MiltBkXtqr0A",
        "outputId": "2079333d-4876-44f7-f799-3078b8035b7a"
      },
      "execution_count": 45,
      "outputs": [
        {
          "output_type": "display_data",
          "data": {
            "text/html": [
              "<html>\n",
              "<head><meta charset=\"utf-8\" /></head>\n",
              "<body>\n",
              "    <div>            <script src=\"https://cdnjs.cloudflare.com/ajax/libs/mathjax/2.7.5/MathJax.js?config=TeX-AMS-MML_SVG\"></script><script type=\"text/javascript\">if (window.MathJax) {MathJax.Hub.Config({SVG: {font: \"STIX-Web\"}});}</script>                <script type=\"text/javascript\">window.PlotlyConfig = {MathJaxConfig: 'local'};</script>\n",
              "        <script src=\"https://cdn.plot.ly/plotly-2.8.3.min.js\"></script>                <div id=\"b01fcc0e-7a76-4106-946a-acfe2eba83cf\" class=\"plotly-graph-div\" style=\"height:525px; width:100%;\"></div>            <script type=\"text/javascript\">                                    window.PLOTLYENV=window.PLOTLYENV || {};                                    if (document.getElementById(\"b01fcc0e-7a76-4106-946a-acfe2eba83cf\")) {                    Plotly.newPlot(                        \"b01fcc0e-7a76-4106-946a-acfe2eba83cf\",                        [{\"hovertemplate\":\"Campaign_Name=Control Campaign<br>Purchases=%{marker.size}<br>Add_to_Cart=%{y}<extra></extra>\",\"legendgroup\":\"Control Campaign\",\"marker\":{\"color\":\"#636efa\",\"size\":[618.0,734.0,475.0,794.0,766.0,788.0,366.0,438.0,222.0,243.0,542.0,511.0,299.0,800.0,387.0,766.0,585.0,386.0,251.0,605.0,643.0,334.0,372.0,670.0,340.0,522.7931034482758,764.0,499.0,462.0,501.0],\"sizemode\":\"area\",\"sizeref\":2.225,\"symbol\":\"circle\"},\"mode\":\"markers\",\"name\":\"Control Campaign\",\"orientation\":\"v\",\"showlegend\":true,\"x\":[618.0,734.0,475.0,794.0,766.0,788.0,366.0,438.0,222.0,243.0,542.0,511.0,299.0,800.0,387.0,766.0,585.0,386.0,251.0,605.0,643.0,334.0,372.0,670.0,340.0,522.7931034482758,764.0,499.0,462.0,501.0],\"xaxis\":\"x\",\"y\":[1819.0,1629.0,1887.0,1439.0,1794.0,1339.0,1641.0,1613.0,878.0,1695.0,908.0,1219.0,1709.0,1460.0,819.0,1913.0,1146.0,883.0,1448.0,980.0,1711.0,1486.0,1134.0,442.0,1183.0,1300.0,784.0,1166.0,930.0,645.0],\"yaxis\":\"y\",\"type\":\"scatter\"},{\"hovertemplate\":\"<b>OLS trendline</b><br>Add_to_Cart = 0.194992 * Purchases + 1198.06<br>R<sup>2</sup>=0.007841<br><br>Campaign_Name=Control Campaign<br>Purchases=%{x}<br>Add_to_Cart=%{y} <b>(trend)</b><extra></extra>\",\"legendgroup\":\"Control Campaign\",\"marker\":{\"color\":\"#636efa\",\"symbol\":\"circle\"},\"mode\":\"lines\",\"name\":\"Control Campaign\",\"showlegend\":false,\"x\":[222.0,243.0,251.0,299.0,334.0,340.0,366.0,372.0,386.0,387.0,438.0,462.0,475.0,499.0,501.0,511.0,522.7931034482758,542.0,585.0,605.0,618.0,643.0,670.0,734.0,764.0,766.0,766.0,788.0,794.0,800.0],\"xaxis\":\"x\",\"y\":[1241.3476567724383,1245.4424953630132,1247.0024338737085,1256.3620649378797,1263.1867959221713,1264.3567498051927,1269.426549964952,1270.5965038479735,1273.32639624169,1273.521388555527,1283.4659965612088,1288.1458120932944,1290.6807121731742,1295.3605277052598,1295.7505123329336,1297.7004354713026,1299.9999999999998,1303.7451972002464,1312.1298666952332,1316.029712971971,1318.564613051851,1323.4394208977733,1328.7042133713696,1341.1837214569314,1347.0334908720383,1347.4234754997121,1347.4234754997121,1351.7133064041238,1352.8832602871453,1354.0532141701667],\"yaxis\":\"y\",\"type\":\"scatter\"},{\"hovertemplate\":\"Campaign_Name=Test Campaign<br>Purchases=%{marker.size}<br>Add_to_Cart=%{y}<extra></extra>\",\"legendgroup\":\"Test Campaign\",\"marker\":{\"color\":\"#EF553B\",\"size\":[255.0,275.0,668.0,709.0,812.0,340.0,398.0,487.0,238.0,257.0,512.0,677.0,730.0,245.0,276.0,473.0,269.0,651.0,284.0,771.0,721.0,677.0,578.0,572.0,340.0,768.0,488.0,890.0,431.0,845.0],\"sizemode\":\"area\",\"sizeref\":2.225,\"symbol\":\"circle\"},\"mode\":\"markers\",\"name\":\"Test Campaign\",\"orientation\":\"v\",\"showlegend\":true,\"x\":[255.0,275.0,668.0,709.0,812.0,340.0,398.0,487.0,238.0,257.0,512.0,677.0,730.0,245.0,276.0,473.0,269.0,651.0,284.0,771.0,721.0,677.0,578.0,572.0,340.0,768.0,488.0,890.0,431.0,845.0],\"xaxis\":\"x\",\"y\":[894.0,424.0,1075.0,1382.0,1391.0,779.0,1090.0,1059.0,383.0,461.0,788.0,879.0,1047.0,278.0,367.0,632.0,327.0,1228.0,346.0,992.0,1009.0,1168.0,1268.0,1034.0,566.0,956.0,882.0,1301.0,1240.0,1200.0],\"yaxis\":\"y\",\"type\":\"scatter\"},{\"hovertemplate\":\"<b>OLS trendline</b><br>Add_to_Cart = 1.31545 * Purchases + 195.879<br>R<sup>2</sup>=0.637951<br><br>Campaign_Name=Test Campaign<br>Purchases=%{x}<br>Add_to_Cart=%{y} <b>(trend)</b><extra></extra>\",\"legendgroup\":\"Test Campaign\",\"marker\":{\"color\":\"#EF553B\",\"symbol\":\"circle\"},\"mode\":\"lines\",\"name\":\"Test Campaign\",\"showlegend\":false,\"x\":[238.0,245.0,255.0,257.0,269.0,275.0,276.0,284.0,340.0,340.0,398.0,431.0,473.0,487.0,488.0,512.0,572.0,578.0,651.0,668.0,677.0,677.0,709.0,721.0,730.0,768.0,771.0,812.0,845.0,890.0],\"xaxis\":\"x\",\"y\":[508.955310756028,518.1634294733676,531.3178847838526,533.9487758459496,549.7341222185316,557.6267954048228,558.9422409358713,569.4658051842594,643.1307549229757,643.1307549229757,719.426595723789,762.8362982483898,818.0850105524271,836.5012479871061,837.8166935181546,869.3873862633188,948.3141181262292,956.2067913125202,1052.2343150790612,1074.5968891068858,1086.4358988863223,1086.4358988863223,1128.5301558798747,1144.3155022524566,1156.154512031893,1206.1414422117364,1210.087778804882,1264.0210455778708,1307.4307481024714,1366.6257969996543],\"yaxis\":\"y\",\"type\":\"scatter\"}],                        {\"template\":{\"data\":{\"bar\":[{\"error_x\":{\"color\":\"#2a3f5f\"},\"error_y\":{\"color\":\"#2a3f5f\"},\"marker\":{\"line\":{\"color\":\"white\",\"width\":0.5},\"pattern\":{\"fillmode\":\"overlay\",\"size\":10,\"solidity\":0.2}},\"type\":\"bar\"}],\"barpolar\":[{\"marker\":{\"line\":{\"color\":\"white\",\"width\":0.5},\"pattern\":{\"fillmode\":\"overlay\",\"size\":10,\"solidity\":0.2}},\"type\":\"barpolar\"}],\"carpet\":[{\"aaxis\":{\"endlinecolor\":\"#2a3f5f\",\"gridcolor\":\"#C8D4E3\",\"linecolor\":\"#C8D4E3\",\"minorgridcolor\":\"#C8D4E3\",\"startlinecolor\":\"#2a3f5f\"},\"baxis\":{\"endlinecolor\":\"#2a3f5f\",\"gridcolor\":\"#C8D4E3\",\"linecolor\":\"#C8D4E3\",\"minorgridcolor\":\"#C8D4E3\",\"startlinecolor\":\"#2a3f5f\"},\"type\":\"carpet\"}],\"choropleth\":[{\"colorbar\":{\"outlinewidth\":0,\"ticks\":\"\"},\"type\":\"choropleth\"}],\"contour\":[{\"colorbar\":{\"outlinewidth\":0,\"ticks\":\"\"},\"colorscale\":[[0.0,\"#0d0887\"],[0.1111111111111111,\"#46039f\"],[0.2222222222222222,\"#7201a8\"],[0.3333333333333333,\"#9c179e\"],[0.4444444444444444,\"#bd3786\"],[0.5555555555555556,\"#d8576b\"],[0.6666666666666666,\"#ed7953\"],[0.7777777777777778,\"#fb9f3a\"],[0.8888888888888888,\"#fdca26\"],[1.0,\"#f0f921\"]],\"type\":\"contour\"}],\"contourcarpet\":[{\"colorbar\":{\"outlinewidth\":0,\"ticks\":\"\"},\"type\":\"contourcarpet\"}],\"heatmap\":[{\"colorbar\":{\"outlinewidth\":0,\"ticks\":\"\"},\"colorscale\":[[0.0,\"#0d0887\"],[0.1111111111111111,\"#46039f\"],[0.2222222222222222,\"#7201a8\"],[0.3333333333333333,\"#9c179e\"],[0.4444444444444444,\"#bd3786\"],[0.5555555555555556,\"#d8576b\"],[0.6666666666666666,\"#ed7953\"],[0.7777777777777778,\"#fb9f3a\"],[0.8888888888888888,\"#fdca26\"],[1.0,\"#f0f921\"]],\"type\":\"heatmap\"}],\"heatmapgl\":[{\"colorbar\":{\"outlinewidth\":0,\"ticks\":\"\"},\"colorscale\":[[0.0,\"#0d0887\"],[0.1111111111111111,\"#46039f\"],[0.2222222222222222,\"#7201a8\"],[0.3333333333333333,\"#9c179e\"],[0.4444444444444444,\"#bd3786\"],[0.5555555555555556,\"#d8576b\"],[0.6666666666666666,\"#ed7953\"],[0.7777777777777778,\"#fb9f3a\"],[0.8888888888888888,\"#fdca26\"],[1.0,\"#f0f921\"]],\"type\":\"heatmapgl\"}],\"histogram\":[{\"marker\":{\"pattern\":{\"fillmode\":\"overlay\",\"size\":10,\"solidity\":0.2}},\"type\":\"histogram\"}],\"histogram2d\":[{\"colorbar\":{\"outlinewidth\":0,\"ticks\":\"\"},\"colorscale\":[[0.0,\"#0d0887\"],[0.1111111111111111,\"#46039f\"],[0.2222222222222222,\"#7201a8\"],[0.3333333333333333,\"#9c179e\"],[0.4444444444444444,\"#bd3786\"],[0.5555555555555556,\"#d8576b\"],[0.6666666666666666,\"#ed7953\"],[0.7777777777777778,\"#fb9f3a\"],[0.8888888888888888,\"#fdca26\"],[1.0,\"#f0f921\"]],\"type\":\"histogram2d\"}],\"histogram2dcontour\":[{\"colorbar\":{\"outlinewidth\":0,\"ticks\":\"\"},\"colorscale\":[[0.0,\"#0d0887\"],[0.1111111111111111,\"#46039f\"],[0.2222222222222222,\"#7201a8\"],[0.3333333333333333,\"#9c179e\"],[0.4444444444444444,\"#bd3786\"],[0.5555555555555556,\"#d8576b\"],[0.6666666666666666,\"#ed7953\"],[0.7777777777777778,\"#fb9f3a\"],[0.8888888888888888,\"#fdca26\"],[1.0,\"#f0f921\"]],\"type\":\"histogram2dcontour\"}],\"mesh3d\":[{\"colorbar\":{\"outlinewidth\":0,\"ticks\":\"\"},\"type\":\"mesh3d\"}],\"parcoords\":[{\"line\":{\"colorbar\":{\"outlinewidth\":0,\"ticks\":\"\"}},\"type\":\"parcoords\"}],\"pie\":[{\"automargin\":true,\"type\":\"pie\"}],\"scatter\":[{\"marker\":{\"colorbar\":{\"outlinewidth\":0,\"ticks\":\"\"}},\"type\":\"scatter\"}],\"scatter3d\":[{\"line\":{\"colorbar\":{\"outlinewidth\":0,\"ticks\":\"\"}},\"marker\":{\"colorbar\":{\"outlinewidth\":0,\"ticks\":\"\"}},\"type\":\"scatter3d\"}],\"scattercarpet\":[{\"marker\":{\"colorbar\":{\"outlinewidth\":0,\"ticks\":\"\"}},\"type\":\"scattercarpet\"}],\"scattergeo\":[{\"marker\":{\"colorbar\":{\"outlinewidth\":0,\"ticks\":\"\"}},\"type\":\"scattergeo\"}],\"scattergl\":[{\"marker\":{\"colorbar\":{\"outlinewidth\":0,\"ticks\":\"\"}},\"type\":\"scattergl\"}],\"scattermapbox\":[{\"marker\":{\"colorbar\":{\"outlinewidth\":0,\"ticks\":\"\"}},\"type\":\"scattermapbox\"}],\"scatterpolar\":[{\"marker\":{\"colorbar\":{\"outlinewidth\":0,\"ticks\":\"\"}},\"type\":\"scatterpolar\"}],\"scatterpolargl\":[{\"marker\":{\"colorbar\":{\"outlinewidth\":0,\"ticks\":\"\"}},\"type\":\"scatterpolargl\"}],\"scatterternary\":[{\"marker\":{\"colorbar\":{\"outlinewidth\":0,\"ticks\":\"\"}},\"type\":\"scatterternary\"}],\"surface\":[{\"colorbar\":{\"outlinewidth\":0,\"ticks\":\"\"},\"colorscale\":[[0.0,\"#0d0887\"],[0.1111111111111111,\"#46039f\"],[0.2222222222222222,\"#7201a8\"],[0.3333333333333333,\"#9c179e\"],[0.4444444444444444,\"#bd3786\"],[0.5555555555555556,\"#d8576b\"],[0.6666666666666666,\"#ed7953\"],[0.7777777777777778,\"#fb9f3a\"],[0.8888888888888888,\"#fdca26\"],[1.0,\"#f0f921\"]],\"type\":\"surface\"}],\"table\":[{\"cells\":{\"fill\":{\"color\":\"#EBF0F8\"},\"line\":{\"color\":\"white\"}},\"header\":{\"fill\":{\"color\":\"#C8D4E3\"},\"line\":{\"color\":\"white\"}},\"type\":\"table\"}]},\"layout\":{\"annotationdefaults\":{\"arrowcolor\":\"#2a3f5f\",\"arrowhead\":0,\"arrowwidth\":1},\"autotypenumbers\":\"strict\",\"coloraxis\":{\"colorbar\":{\"outlinewidth\":0,\"ticks\":\"\"}},\"colorscale\":{\"diverging\":[[0,\"#8e0152\"],[0.1,\"#c51b7d\"],[0.2,\"#de77ae\"],[0.3,\"#f1b6da\"],[0.4,\"#fde0ef\"],[0.5,\"#f7f7f7\"],[0.6,\"#e6f5d0\"],[0.7,\"#b8e186\"],[0.8,\"#7fbc41\"],[0.9,\"#4d9221\"],[1,\"#276419\"]],\"sequential\":[[0.0,\"#0d0887\"],[0.1111111111111111,\"#46039f\"],[0.2222222222222222,\"#7201a8\"],[0.3333333333333333,\"#9c179e\"],[0.4444444444444444,\"#bd3786\"],[0.5555555555555556,\"#d8576b\"],[0.6666666666666666,\"#ed7953\"],[0.7777777777777778,\"#fb9f3a\"],[0.8888888888888888,\"#fdca26\"],[1.0,\"#f0f921\"]],\"sequentialminus\":[[0.0,\"#0d0887\"],[0.1111111111111111,\"#46039f\"],[0.2222222222222222,\"#7201a8\"],[0.3333333333333333,\"#9c179e\"],[0.4444444444444444,\"#bd3786\"],[0.5555555555555556,\"#d8576b\"],[0.6666666666666666,\"#ed7953\"],[0.7777777777777778,\"#fb9f3a\"],[0.8888888888888888,\"#fdca26\"],[1.0,\"#f0f921\"]]},\"colorway\":[\"#636efa\",\"#EF553B\",\"#00cc96\",\"#ab63fa\",\"#FFA15A\",\"#19d3f3\",\"#FF6692\",\"#B6E880\",\"#FF97FF\",\"#FECB52\"],\"font\":{\"color\":\"#2a3f5f\"},\"geo\":{\"bgcolor\":\"white\",\"lakecolor\":\"white\",\"landcolor\":\"white\",\"showlakes\":true,\"showland\":true,\"subunitcolor\":\"#C8D4E3\"},\"hoverlabel\":{\"align\":\"left\"},\"hovermode\":\"closest\",\"mapbox\":{\"style\":\"light\"},\"paper_bgcolor\":\"white\",\"plot_bgcolor\":\"white\",\"polar\":{\"angularaxis\":{\"gridcolor\":\"#EBF0F8\",\"linecolor\":\"#EBF0F8\",\"ticks\":\"\"},\"bgcolor\":\"white\",\"radialaxis\":{\"gridcolor\":\"#EBF0F8\",\"linecolor\":\"#EBF0F8\",\"ticks\":\"\"}},\"scene\":{\"xaxis\":{\"backgroundcolor\":\"white\",\"gridcolor\":\"#DFE8F3\",\"gridwidth\":2,\"linecolor\":\"#EBF0F8\",\"showbackground\":true,\"ticks\":\"\",\"zerolinecolor\":\"#EBF0F8\"},\"yaxis\":{\"backgroundcolor\":\"white\",\"gridcolor\":\"#DFE8F3\",\"gridwidth\":2,\"linecolor\":\"#EBF0F8\",\"showbackground\":true,\"ticks\":\"\",\"zerolinecolor\":\"#EBF0F8\"},\"zaxis\":{\"backgroundcolor\":\"white\",\"gridcolor\":\"#DFE8F3\",\"gridwidth\":2,\"linecolor\":\"#EBF0F8\",\"showbackground\":true,\"ticks\":\"\",\"zerolinecolor\":\"#EBF0F8\"}},\"shapedefaults\":{\"line\":{\"color\":\"#2a3f5f\"}},\"ternary\":{\"aaxis\":{\"gridcolor\":\"#DFE8F3\",\"linecolor\":\"#A2B1C6\",\"ticks\":\"\"},\"baxis\":{\"gridcolor\":\"#DFE8F3\",\"linecolor\":\"#A2B1C6\",\"ticks\":\"\"},\"bgcolor\":\"white\",\"caxis\":{\"gridcolor\":\"#DFE8F3\",\"linecolor\":\"#A2B1C6\",\"ticks\":\"\"}},\"title\":{\"x\":0.05},\"xaxis\":{\"automargin\":true,\"gridcolor\":\"#EBF0F8\",\"linecolor\":\"#EBF0F8\",\"ticks\":\"\",\"title\":{\"standoff\":15},\"zerolinecolor\":\"#EBF0F8\",\"zerolinewidth\":2},\"yaxis\":{\"automargin\":true,\"gridcolor\":\"#EBF0F8\",\"linecolor\":\"#EBF0F8\",\"ticks\":\"\",\"title\":{\"standoff\":15},\"zerolinecolor\":\"#EBF0F8\",\"zerolinewidth\":2}}},\"xaxis\":{\"anchor\":\"y\",\"domain\":[0.0,1.0],\"title\":{\"text\":\"Purchases\"}},\"yaxis\":{\"anchor\":\"x\",\"domain\":[0.0,1.0],\"title\":{\"text\":\"Add_to_Cart\"}},\"legend\":{\"title\":{\"text\":\"Campaign_Name\"},\"tracegroupgap\":0,\"itemsizing\":\"constant\"},\"margin\":{\"t\":60}},                        {\"responsive\": true}                    ).then(function(){\n",
              "                            \n",
              "var gd = document.getElementById('b01fcc0e-7a76-4106-946a-acfe2eba83cf');\n",
              "var x = new MutationObserver(function (mutations, observer) {{\n",
              "        var display = window.getComputedStyle(gd).display;\n",
              "        if (!display || display === 'none') {{\n",
              "            console.log([gd, 'removed!']);\n",
              "            Plotly.purge(gd);\n",
              "            observer.disconnect();\n",
              "        }}\n",
              "}});\n",
              "\n",
              "// Listen for the removal of the full notebook cells\n",
              "var notebookContainer = gd.closest('#notebook-container');\n",
              "if (notebookContainer) {{\n",
              "    x.observe(notebookContainer, {childList: true});\n",
              "}}\n",
              "\n",
              "// Listen for the clearing of the current output cell\n",
              "var outputEl = gd.closest('.output');\n",
              "if (outputEl) {{\n",
              "    x.observe(outputEl, {childList: true});\n",
              "}}\n",
              "\n",
              "                        })                };                            </script>        </div>\n",
              "</body>\n",
              "</html>"
            ]
          },
          "metadata": {}
        }
      ]
    },
    {
      "cell_type": "code",
      "source": [],
      "metadata": {
        "colab": {
          "base_uri": "https://localhost:8080/"
        },
        "id": "cN-_V4Cdq9Co",
        "outputId": "a692fc9e-6ad7-43db-ed90-02e4bd177f2d"
      },
      "execution_count": 59,
      "outputs": [
        {
          "output_type": "execute_result",
          "data": {
            "text/plain": [
              "Campaign_Name_x   Date        Amount Spent_x  Number of Impressions_x  Reach_x        Website Clicks_x  Searches_Received_x  Content Viewed_x  Add_to_Cart_x  Purchases_x  Campaign_Name_y  Amount Spent_y  Number of Impressions_y  Reach_y  Website Clicks_y  Searches_Received_y  Content Viewed_y  Add_to_Cart_y  Purchases_y\n",
              "Control Campaign  1.08.2019   2280            82702.000000             56930.000000   7016.000000       2290.000000          2159.000000       1819.0         618.000000   Test Campaign    3008            39550                    35820    3038              1946                 1069              894            255            1\n",
              "                  10.08.2019  2149            117624.000000            91257.000000   2277.000000       2475.000000          1984.000000       1629.0         734.000000   Test Campaign    2790            95054                    79632    8125              2312                 1804              424            275            1\n",
              "                  8.08.2019   1900            90939.000000             65217.000000   7260.000000       3047.000000          2746.000000       930.0          462.000000   Test Campaign    2916            33669                    20149    7184              2867                 2194              1240           431            1\n",
              "                  7.08.2019   2544            142123.000000            127852.000000  2640.000000       1388.000000          1106.000000       1166.0         499.000000   Test Campaign    2838            53986                    42148    4221              2733                 2182              1301           890            1\n",
              "                  6.08.2019   3083            109076.000000            87998.000000   4028.000000       1709.000000          1249.000000       784.0          764.000000   Test Campaign    2458            42684                    31489    7488              1854                 1073              882            488            1\n",
              "                  5.08.2019   1835            109559.758621            88844.931034   5320.793103       2221.310345          1943.793103       1300.0         522.793103   Test Campaign    2297            114295                   95138    5863              2106                 858               956            768            1\n",
              "                  4.08.2019   1940            72878.000000             61235.000000   3065.000000       1042.000000          982.000000        1183.0         340.000000   Test Campaign    2710            78451                    25937    4216              2216                 1437              566            340            1\n",
              "                  30.08.2019  2324            111306.000000            88632.000000   4658.000000       1615.000000          1249.000000       442.0          670.000000   Test Campaign    1977            120203                   89380    4399              2978                 1625              1034           572            1\n",
              "                  3.08.2019   2343            131711.000000            110862.000000  6508.000000       1737.000000          1549.000000       1134.0         372.000000   Test Campaign    2365            70263                    45198    7885              2572                 2367              1268           578            1\n",
              "                  29.08.2019  2375            92029.000000             74192.000000   8127.000000       4891.000000          4219.000000       1486.0         334.000000   Test Campaign    2805            67444                    43219    7651              1920                 1240              1168           677            1\n",
              "                  28.08.2019  2421            141654.000000            125874.000000  6287.000000       1672.000000          1589.000000       1711.0         643.000000   Test Campaign    2247            54627                    41267    8144              2432                 1281              1009           721            1\n",
              "                  27.08.2019  2061            104678.000000            91579.000000   4941.000000       3549.000000          3249.000000       980.0          605.000000   Test Campaign    2915            111469                   92159    6435              2976                 2552              992            771            1\n",
              "                  26.08.2019  2233            124897.000000            98432.000000   5435.000000       2847.000000          2421.000000       1448.0         251.000000   Test Campaign    2311            80841                    61589    3820              2037                 1046              346            284            1\n",
              "                  25.08.2019  1962            117006.000000            100398.000000  4234.000000       2423.000000          2096.000000       883.0          386.000000   Test Campaign    2928            120576                   105978   3596              2937                 2551              1228           651            1\n",
              "                  24.08.2019  1892            72515.000000             51987.000000   4085.000000       1274.000000          1149.000000       1146.0         585.000000   Test Campaign    2078            36650                    30489    7156              2687                 2427              327            269            1\n",
              "                  23.08.2019  2496            129880.000000            109413.000000  4410.000000       2896.000000          2496.000000       1913.0         766.000000   Test Campaign    2407            60286                    49329    5077              2592                 2004              632            473            1\n",
              "                  22.08.2019  2939            105705.000000            86218.000000   6843.000000       3102.000000          2988.000000       819.0          387.000000   Test Campaign    2899            34752                    27932    4431              1983                 1131              367            276            1\n",
              "                  21.08.2019  1803            74654.000000             59873.000000   5691.000000       2711.000000          2496.000000       1460.0         800.000000   Test Campaign    3112            133771                   109834   5471              1995                 1868              278            245            1\n",
              "                  20.08.2019  2675            113430.000000            78625.000000   2578.000000       1001.000000          848.000000        1709.0         299.000000   Test Campaign    2712            39470                    31893    6050              2061                 1894              1047           730            1\n",
              "                  2.08.2019   1757            121040.000000            102513.000000  8110.000000       2033.000000          1841.000000       1219.0         511.000000   Test Campaign    2542            100719                   91236    4657              2359                 1548              879            677            1\n",
              "                  19.08.2019  2596            107890.000000            81268.000000   3706.000000       2483.000000          2098.000000       908.0          542.000000   Test Campaign    2626            22521                    10698    7617              2924                 2801              788            512            1\n",
              "                  18.08.2019  1876            108452.000000            96518.000000   7253.000000       2447.000000          2115.000000       1695.0         243.000000   Test Campaign    1979            53632                    43241    6909              2824                 2522              461            257            1\n",
              "                  17.08.2019  2177            119612.000000            106518.000000  6628.000000       1756.000000          1642.000000       878.0          222.000000   Test Campaign    1968            95843                    54389    7910              1995                 1576              383            238            1\n",
              "                  16.08.2019  2024            71274.000000             42859.000000   5224.000000       2427.000000          2158.000000       1613.0         438.000000   Test Campaign    3076            106584                   81389    6800              2661                 2594              1059           487            1\n",
              "                  15.08.2019  2774            132845.000000            102479.000000  4896.000000       1179.000000          1005.000000       1641.0         366.000000   Test Campaign    2516            94338                    76219    4993              2537                 1609              1090           398            1\n",
              "                  14.08.2019  1875            145248.000000            118632.000000  4521.000000       1209.000000          1149.000000       1339.0         788.000000   Test Campaign    2537            56304                    25982    3993              1979                 1059              779            340            1\n",
              "                  13.08.2019  2697            82847.000000             68214.000000   6554.000000       2390.000000          1975.000000       1794.0         766.000000   Test Campaign    1972            65827                    49531    7568              2213                 2058              1391           812            1\n",
              "                  12.08.2019  2319            116639.000000            100189.000000  2993.000000       1397.000000          1147.000000       1439.0         794.000000   Test Campaign    2831            124591                   10598    8264              2081                 1992              1382           709            1\n",
              "                  11.08.2019  2490            115247.000000            95843.000000   8137.000000       2941.000000          2486.000000       1887.0         475.000000   Test Campaign    2420            83633                    71286    3750              2893                 2617              1075           668            1\n",
              "                  9.08.2019   2813            121332.000000            94896.000000   6198.000000       2487.000000          2179.000000       645.0          501.000000   Test Campaign    2652            45511                    31598    8259              2899                 2761              1200           845            1\n",
              "dtype: int64"
            ]
          },
          "metadata": {},
          "execution_count": 59
        }
      ]
    },
    {
      "cell_type": "code",
      "source": [],
      "metadata": {
        "id": "8EW9WExVr9Mp"
      },
      "execution_count": null,
      "outputs": []
    }
  ]
}